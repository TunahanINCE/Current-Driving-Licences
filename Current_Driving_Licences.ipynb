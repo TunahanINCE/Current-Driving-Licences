{
 "cells": [
  {
   "cell_type": "code",
   "execution_count": 1,
   "id": "1e11a1dd",
   "metadata": {},
   "outputs": [],
   "source": [
    "import pandas as pd # pandas is a powerful Python data analysis toolkit.\n",
    "import requests # The requests library in Python is used to make HTTP requests in a simple way. \n",
    "import json     # The json library in Python is used for parsing JSON data. \n",
    "from pandas import json_normalize #It's used to flatten nested JSON objects and turn them into a more conventional tabular form DataFrame"
   ]
  },
  {
   "cell_type": "code",
   "execution_count": 2,
   "id": "f41239b8",
   "metadata": {},
   "outputs": [],
   "source": [
    "import pandas as pd               # We use pandas for data analysis and processing.\n",
    "import requests\n",
    "import json\n",
    "from pandas import json_normalize"
   ]
  },
  {
   "cell_type": "code",
   "execution_count": 3,
   "id": "0624e7b7",
   "metadata": {},
   "outputs": [],
   "source": [
    "import numpy as np                # We use numpy for multi-dimensional arrays and mathematical operations.\n",
    "import seaborn as sns             # We use seaborn for a high-level interface for data visualization.\n",
    "import matplotlib.pyplot as plt   # We use matplotlib.pyplot for creating plots and graphs.\n",
    "#%matplotlib inline                # We enable the inline backend for matplotlib in Jupyter notebooks.\n",
    "sns.set(color_codes=True)         # We configure seaborn to use color codes for enhanced visualization"
   ]
  },
  {
   "cell_type": "code",
   "execution_count": 4,
   "id": "00935fce",
   "metadata": {},
   "outputs": [],
   "source": [
    "import math                       # We import the math module for access to mathematical functions."
   ]
  },
  {
   "cell_type": "code",
   "execution_count": 5,
   "id": "2eeafcc8",
   "metadata": {},
   "outputs": [],
   "source": [
    "import warnings\n",
    "warnings.filterwarnings('ignore') # We can suppress the warnings"
   ]
  },
  {
   "cell_type": "code",
   "execution_count": 6,
   "id": "f058295b",
   "metadata": {},
   "outputs": [],
   "source": [
    "import ipywidgets as widgets\n",
    "# ipywidgets is used for creating interactive UI elements in Jupyter Notebooks. \n",
    "# It allows you to create widgets like sliders, dropdowns, buttons, etc., that enable interactive data visualization and manipulation.\n",
    "\n",
    "from IPython.display import display, clear_output\n",
    "# The 'display' function is used to display the widgets and other output elements in the notebook.\n",
    "# The 'clear_output' function is useful for clearing the output of a cell, often used in interactive widgets to update the displayed output."
   ]
  },
  {
   "cell_type": "code",
   "execution_count": 7,
   "id": "40b988b1",
   "metadata": {},
   "outputs": [],
   "source": [
    "# API URL\n",
    "url = \"https://ws.cso.ie/public/api.restful/PxStat.Data.Cube_API.ReadDataset/ROA04/JSON-stat/1.0/en\"\n",
    "# This URL is for accessing a specific dataset from the Central Statistics Office (CSO) of Ireland's API.\n",
    "# The dataset ID is 'ROA04', and the requested data format is JSON-stat (a JSON format for statistical data)."
   ]
  },
  {
   "cell_type": "code",
   "execution_count": 8,
   "id": "7ca4244c",
   "metadata": {},
   "outputs": [
    {
     "name": "stdout",
     "output_type": "stream",
     "text": [
      "Response= 200 \n",
      "\n",
      "Response successful\n"
     ]
    }
   ],
   "source": [
    "import requests\n",
    "\n",
    "# Making a GET request to the API to fetch data\n",
    "res = requests.get(url)\n",
    "\n",
    "# If the request is successful (HTTP 200), retrieve the data\n",
    "if res.status_code == 200:\n",
    "    data = res.json()  # Converts the data in JSON format to a Python dictionary\n",
    "    print(\"Response=\", res.status_code, \"\\n\")\n",
    "    print(\"Response successful\")\n",
    "else:\n",
    "    print(\"Data could not be retrieved from the API. Error code:\", res.status_code)\n",
    "    # This line prints an error message if the API request fails, showing the HTTP status code for debugging purposes.\n"
   ]
  },
  {
   "cell_type": "code",
   "execution_count": 9,
   "id": "8b289b26",
   "metadata": {
    "scrolled": false
   },
   "outputs": [
    {
     "data": {
      "text/plain": [
       "dict_keys(['dataset'])"
      ]
     },
     "execution_count": 9,
     "metadata": {},
     "output_type": "execute_result"
    }
   ],
   "source": [
    "data.keys()"
   ]
  },
  {
   "cell_type": "code",
   "execution_count": 10,
   "id": "b47c210a",
   "metadata": {},
   "outputs": [
    {
     "data": {
      "text/plain": [
       "dict_keys(['dimension', 'label', 'source', 'updated', 'value'])"
      ]
     },
     "execution_count": 10,
     "metadata": {},
     "output_type": "execute_result"
    }
   ],
   "source": [
    "data[\"dataset\"].keys()"
   ]
  },
  {
   "cell_type": "code",
   "execution_count": 11,
   "id": "116e9588",
   "metadata": {},
   "outputs": [
    {
     "data": {
      "text/plain": [
       "dict_keys(['STATISTIC', 'TLIST(A1)', 'C02076V03371', 'C02199V02655', 'role', 'id', 'size'])"
      ]
     },
     "execution_count": 11,
     "metadata": {},
     "output_type": "execute_result"
    }
   ],
   "source": [
    "data[\"dataset\"][\"dimension\"].keys()"
   ]
  },
  {
   "cell_type": "code",
   "execution_count": 12,
   "id": "0f4a24bd",
   "metadata": {
    "collapsed": true
   },
   "outputs": [
    {
     "name": "stdout",
     "output_type": "stream",
     "text": [
      "dataset\n",
      "dataset -> dimension\n",
      "dataset -> dimension -> STATISTIC\n",
      "dataset -> dimension -> STATISTIC -> label\n",
      "dataset -> dimension -> STATISTIC -> category\n",
      "dataset -> dimension -> STATISTIC -> category -> index\n",
      "dataset -> dimension -> STATISTIC -> category -> index -> ROA04C1\n",
      "dataset -> dimension -> STATISTIC -> category -> index -> ROA04C2\n",
      "dataset -> dimension -> STATISTIC -> category -> label\n",
      "dataset -> dimension -> STATISTIC -> category -> label -> ROA04C1\n",
      "dataset -> dimension -> STATISTIC -> category -> label -> ROA04C2\n",
      "dataset -> dimension -> STATISTIC -> category -> unit\n",
      "dataset -> dimension -> STATISTIC -> category -> unit -> ROA04C1\n",
      "dataset -> dimension -> STATISTIC -> category -> unit -> ROA04C1 -> base\n",
      "dataset -> dimension -> STATISTIC -> category -> unit -> ROA04C2\n",
      "dataset -> dimension -> STATISTIC -> category -> unit -> ROA04C2 -> base\n",
      "dataset -> dimension -> TLIST(A1)\n",
      "dataset -> dimension -> TLIST(A1) -> label\n",
      "dataset -> dimension -> TLIST(A1) -> category\n",
      "dataset -> dimension -> TLIST(A1) -> category -> index\n",
      "dataset -> dimension -> TLIST(A1) -> category -> index -> 2009\n",
      "dataset -> dimension -> TLIST(A1) -> category -> index -> 2010\n",
      "dataset -> dimension -> TLIST(A1) -> category -> index -> 2011\n",
      "dataset -> dimension -> TLIST(A1) -> category -> index -> 2012\n",
      "dataset -> dimension -> TLIST(A1) -> category -> index -> 2013\n",
      "dataset -> dimension -> TLIST(A1) -> category -> index -> 2014\n",
      "dataset -> dimension -> TLIST(A1) -> category -> index -> 2015\n",
      "dataset -> dimension -> TLIST(A1) -> category -> index -> 2016\n",
      "dataset -> dimension -> TLIST(A1) -> category -> index -> 2017\n",
      "dataset -> dimension -> TLIST(A1) -> category -> index -> 2018\n",
      "dataset -> dimension -> TLIST(A1) -> category -> index -> 2019\n",
      "dataset -> dimension -> TLIST(A1) -> category -> index -> 2020\n",
      "dataset -> dimension -> TLIST(A1) -> category -> index -> 2021\n",
      "dataset -> dimension -> TLIST(A1) -> category -> index -> 2022\n",
      "dataset -> dimension -> TLIST(A1) -> category -> label\n",
      "dataset -> dimension -> TLIST(A1) -> category -> label -> 2009\n",
      "dataset -> dimension -> TLIST(A1) -> category -> label -> 2010\n",
      "dataset -> dimension -> TLIST(A1) -> category -> label -> 2011\n",
      "dataset -> dimension -> TLIST(A1) -> category -> label -> 2012\n",
      "dataset -> dimension -> TLIST(A1) -> category -> label -> 2013\n",
      "dataset -> dimension -> TLIST(A1) -> category -> label -> 2014\n",
      "dataset -> dimension -> TLIST(A1) -> category -> label -> 2015\n",
      "dataset -> dimension -> TLIST(A1) -> category -> label -> 2016\n",
      "dataset -> dimension -> TLIST(A1) -> category -> label -> 2017\n",
      "dataset -> dimension -> TLIST(A1) -> category -> label -> 2018\n",
      "dataset -> dimension -> TLIST(A1) -> category -> label -> 2019\n",
      "dataset -> dimension -> TLIST(A1) -> category -> label -> 2020\n",
      "dataset -> dimension -> TLIST(A1) -> category -> label -> 2021\n",
      "dataset -> dimension -> TLIST(A1) -> category -> label -> 2022\n",
      "dataset -> dimension -> C02076V03371\n",
      "dataset -> dimension -> C02076V03371 -> label\n",
      "dataset -> dimension -> C02076V03371 -> category\n",
      "dataset -> dimension -> C02076V03371 -> category -> index\n",
      "dataset -> dimension -> C02076V03371 -> category -> index -> -\n",
      "dataset -> dimension -> C02076V03371 -> category -> index -> 336\n",
      "dataset -> dimension -> C02076V03371 -> category -> index -> 3401\n",
      "dataset -> dimension -> C02076V03371 -> category -> index -> 385\n",
      "dataset -> dimension -> C02076V03371 -> category -> index -> 410\n",
      "dataset -> dimension -> C02076V03371 -> category -> index -> 445\n",
      "dataset -> dimension -> C02076V03371 -> category -> index -> 480\n",
      "dataset -> dimension -> C02076V03371 -> category -> index -> 520\n",
      "dataset -> dimension -> C02076V03371 -> category -> index -> 555\n",
      "dataset -> dimension -> C02076V03371 -> category -> index -> 585\n",
      "dataset -> dimension -> C02076V03371 -> category -> index -> 620\n",
      "dataset -> dimension -> C02076V03371 -> category -> label\n",
      "dataset -> dimension -> C02076V03371 -> category -> label -> -\n",
      "dataset -> dimension -> C02076V03371 -> category -> label -> 336\n",
      "dataset -> dimension -> C02076V03371 -> category -> label -> 3401\n",
      "dataset -> dimension -> C02076V03371 -> category -> label -> 385\n",
      "dataset -> dimension -> C02076V03371 -> category -> label -> 410\n",
      "dataset -> dimension -> C02076V03371 -> category -> label -> 445\n",
      "dataset -> dimension -> C02076V03371 -> category -> label -> 480\n",
      "dataset -> dimension -> C02076V03371 -> category -> label -> 520\n",
      "dataset -> dimension -> C02076V03371 -> category -> label -> 555\n",
      "dataset -> dimension -> C02076V03371 -> category -> label -> 585\n",
      "dataset -> dimension -> C02076V03371 -> category -> label -> 620\n",
      "dataset -> dimension -> C02199V02655\n",
      "dataset -> dimension -> C02199V02655 -> label\n",
      "dataset -> dimension -> C02199V02655 -> category\n",
      "dataset -> dimension -> C02199V02655 -> category -> index\n",
      "dataset -> dimension -> C02199V02655 -> category -> index -> -\n",
      "dataset -> dimension -> C02199V02655 -> category -> index -> 1\n",
      "dataset -> dimension -> C02199V02655 -> category -> index -> 2\n",
      "dataset -> dimension -> C02199V02655 -> category -> label\n",
      "dataset -> dimension -> C02199V02655 -> category -> label -> -\n",
      "dataset -> dimension -> C02199V02655 -> category -> label -> 1\n",
      "dataset -> dimension -> C02199V02655 -> category -> label -> 2\n",
      "dataset -> dimension -> role\n",
      "dataset -> dimension -> role -> metric\n",
      "dataset -> dimension -> role -> time\n",
      "dataset -> dimension -> id\n",
      "dataset -> dimension -> size\n",
      "dataset -> label\n",
      "dataset -> source\n",
      "dataset -> updated\n",
      "dataset -> value\n"
     ]
    }
   ],
   "source": [
    "# A function to recursively find keys in a nested dictionary or list.\n",
    "def find_keys(data, path=None):\n",
    "    # Initialize the path if it's the first call.\n",
    "    if path is None:\n",
    "        path = []\n",
    "    # If the data is a dictionary, iterate through its key-value pairs.\n",
    "    if isinstance(data, dict):\n",
    "        for k, v in data.items():\n",
    "            # Yield the current path plus the new key.\n",
    "            yield path + [k]\n",
    "            # Recursively yield from deeper levels.\n",
    "            yield from find_keys(v, path + [k])\n",
    "    # If the data is a list, iterate through its items.\n",
    "    elif isinstance(data, list):\n",
    "        for item in data:\n",
    "            # Since it's a list, use a placeholder for the key.\n",
    "            yield from find_keys(item, path + [\"list-item\"])\n",
    "\n",
    "# Let's test the function to see what keys exist in our data structure.\n",
    "keys_list = list(find_keys(data))\n",
    "for key_path in keys_list:\n",
    "    print(\" -> \".join(key_path))\n",
    "    # Prints out the keys in a format like \"key1 -> key2 -> key3\" indicating the path to reach each key."
   ]
  },
  {
   "cell_type": "code",
   "execution_count": 13,
   "id": "a67044fe",
   "metadata": {},
   "outputs": [],
   "source": [
    "# Dimensions and labels\n",
    "dimensions = data[\"dataset\"][\"dimension\"]\n",
    "values = data[\"dataset\"][\"value\"]  # List of values\n",
    "\n",
    "# Extracting indexes and labels from dimensions to create DataFrame columns\n",
    "stats = list(dimensions[\"STATISTIC\"][\"category\"][\"label\"].values())  # Statistics labels\n",
    "years = list(dimensions[\"TLIST(A1)\"][\"category\"][\"label\"].values())  # Years labels\n",
    "age_groups = list(dimensions[\"C02076V03371\"][\"category\"][\"label\"].values())  # Age groups labels\n",
    "sex = list(dimensions[\"C02199V02655\"][\"category\"][\"label\"].values())  # Sex labels\n",
    "# The 'values' variable holds the actual data points corresponding to the dimensions above.\n"
   ]
  },
  {
   "cell_type": "code",
   "execution_count": 14,
   "id": "3ffe632c",
   "metadata": {},
   "outputs": [],
   "source": [
    "# Convert a list of year strings to a list of integers.\n",
    "int_years = [int(year) for year in years]"
   ]
  },
  {
   "cell_type": "code",
   "execution_count": 15,
   "id": "8afd365e",
   "metadata": {},
   "outputs": [
    {
     "data": {
      "text/html": [
       "<div>\n",
       "<style scoped>\n",
       "    .dataframe tbody tr th:only-of-type {\n",
       "        vertical-align: middle;\n",
       "    }\n",
       "\n",
       "    .dataframe tbody tr th {\n",
       "        vertical-align: top;\n",
       "    }\n",
       "\n",
       "    .dataframe thead th {\n",
       "        text-align: right;\n",
       "    }\n",
       "</style>\n",
       "<table border=\"1\" class=\"dataframe\">\n",
       "  <thead>\n",
       "    <tr style=\"text-align: right;\">\n",
       "      <th></th>\n",
       "      <th>Statistic</th>\n",
       "      <th>Year</th>\n",
       "      <th>Age Group</th>\n",
       "      <th>Sex</th>\n",
       "      <th>Value</th>\n",
       "    </tr>\n",
       "  </thead>\n",
       "  <tbody>\n",
       "    <tr>\n",
       "      <th>0</th>\n",
       "      <td>Full Driving Licences</td>\n",
       "      <td>2009</td>\n",
       "      <td>All ages</td>\n",
       "      <td>Both sexes</td>\n",
       "      <td>2362292.0</td>\n",
       "    </tr>\n",
       "    <tr>\n",
       "      <th>1</th>\n",
       "      <td>Full Driving Licences</td>\n",
       "      <td>2009</td>\n",
       "      <td>All ages</td>\n",
       "      <td>Male</td>\n",
       "      <td>1294008.0</td>\n",
       "    </tr>\n",
       "    <tr>\n",
       "      <th>2</th>\n",
       "      <td>Full Driving Licences</td>\n",
       "      <td>2009</td>\n",
       "      <td>All ages</td>\n",
       "      <td>Female</td>\n",
       "      <td>1068284.0</td>\n",
       "    </tr>\n",
       "    <tr>\n",
       "      <th>3</th>\n",
       "      <td>Full Driving Licences</td>\n",
       "      <td>2009</td>\n",
       "      <td>Under 17 years</td>\n",
       "      <td>Both sexes</td>\n",
       "      <td>3.0</td>\n",
       "    </tr>\n",
       "    <tr>\n",
       "      <th>4</th>\n",
       "      <td>Full Driving Licences</td>\n",
       "      <td>2009</td>\n",
       "      <td>Under 17 years</td>\n",
       "      <td>Male</td>\n",
       "      <td>1.0</td>\n",
       "    </tr>\n",
       "  </tbody>\n",
       "</table>\n",
       "</div>"
      ],
      "text/plain": [
       "               Statistic  Year       Age Group         Sex      Value\n",
       "0  Full Driving Licences  2009        All ages  Both sexes  2362292.0\n",
       "1  Full Driving Licences  2009        All ages        Male  1294008.0\n",
       "2  Full Driving Licences  2009        All ages      Female  1068284.0\n",
       "3  Full Driving Licences  2009  Under 17 years  Both sexes        3.0\n",
       "4  Full Driving Licences  2009  Under 17 years        Male        1.0"
      ]
     },
     "execution_count": 15,
     "metadata": {},
     "output_type": "execute_result"
    }
   ],
   "source": [
    "# A function to convert JSON data into a flat table\n",
    "# Lists to collect data for creating the data frame\n",
    "stats_list, years_list, int_years_list, age_groups_list, sex_list = [], [], [], [], []\n",
    "\n",
    "# Loop over each dimension of JSON-stat values to flatten the multi-dimensional array\n",
    "for stat_label in stats:\n",
    "    for year in int_years:\n",
    "        for age_label in age_groups:\n",
    "            for sex_label in sex:\n",
    "                # Append the current combination of dimensions to their respective lists\n",
    "                stats_list.append(stat_label)\n",
    "                int_years_list.append(year)\n",
    "                age_groups_list.append(age_label)\n",
    "                sex_list.append(sex_label)\n",
    "\n",
    "# Create the DataFrame\n",
    "df = pd.DataFrame({\n",
    "    'Statistic': stats_list,     # Column for statistical labels\n",
    "    'Year': int_years_list,      # Column for years, converted to integers\n",
    "    'Age Group': age_groups_list,  # Column for age group labels\n",
    "    'Sex': sex_list,             # Column for sex labels\n",
    "    'Value': values              # Column for the actual values\n",
    "})\n",
    "df.head()"
   ]
  },
  {
   "cell_type": "code",
   "execution_count": 16,
   "id": "7382af5c",
   "metadata": {},
   "outputs": [
    {
     "data": {
      "text/html": [
       "<div>\n",
       "<style scoped>\n",
       "    .dataframe tbody tr th:only-of-type {\n",
       "        vertical-align: middle;\n",
       "    }\n",
       "\n",
       "    .dataframe tbody tr th {\n",
       "        vertical-align: top;\n",
       "    }\n",
       "\n",
       "    .dataframe thead th {\n",
       "        text-align: right;\n",
       "    }\n",
       "</style>\n",
       "<table border=\"1\" class=\"dataframe\">\n",
       "  <thead>\n",
       "    <tr style=\"text-align: right;\">\n",
       "      <th></th>\n",
       "      <th>Periods</th>\n",
       "      <th>Age driving license holder</th>\n",
       "      <th>Passenger car driving licence total</th>\n",
       "      <th>Passenger car licence excl. trailer</th>\n",
       "      <th>Passenger car licence incl. trailer</th>\n",
       "    </tr>\n",
       "  </thead>\n",
       "  <tbody>\n",
       "    <tr>\n",
       "      <th>0</th>\n",
       "      <td>2014</td>\n",
       "      <td>Total</td>\n",
       "      <td>2381440.0</td>\n",
       "      <td>1185966.0</td>\n",
       "      <td>1195474.0</td>\n",
       "    </tr>\n",
       "    <tr>\n",
       "      <th>1</th>\n",
       "      <td>2014</td>\n",
       "      <td>16 to 17 years</td>\n",
       "      <td>3230.0</td>\n",
       "      <td>3230.0</td>\n",
       "      <td>NaN</td>\n",
       "    </tr>\n",
       "    <tr>\n",
       "      <th>2</th>\n",
       "      <td>2014</td>\n",
       "      <td>18 to 19 years</td>\n",
       "      <td>41200.0</td>\n",
       "      <td>40467.0</td>\n",
       "      <td>733.0</td>\n",
       "    </tr>\n",
       "    <tr>\n",
       "      <th>3</th>\n",
       "      <td>2014</td>\n",
       "      <td>20 to 24 years</td>\n",
       "      <td>163919.0</td>\n",
       "      <td>155859.0</td>\n",
       "      <td>8060.0</td>\n",
       "    </tr>\n",
       "    <tr>\n",
       "      <th>4</th>\n",
       "      <td>2014</td>\n",
       "      <td>25 to 29 years</td>\n",
       "      <td>172310.0</td>\n",
       "      <td>157944.0</td>\n",
       "      <td>14366.0</td>\n",
       "    </tr>\n",
       "  </tbody>\n",
       "</table>\n",
       "</div>"
      ],
      "text/plain": [
       "  Periods Age driving license holder  Passenger car driving licence total  \\\n",
       "0    2014                      Total                            2381440.0   \n",
       "1    2014             16 to 17 years                               3230.0   \n",
       "2    2014             18 to 19 years                              41200.0   \n",
       "3    2014             20 to 24 years                             163919.0   \n",
       "4    2014             25 to 29 years                             172310.0   \n",
       "\n",
       "   Passenger car licence excl. trailer  Passenger car licence incl. trailer  \n",
       "0                            1185966.0                            1195474.0  \n",
       "1                               3230.0                                  NaN  \n",
       "2                              40467.0                                733.0  \n",
       "3                             155859.0                               8060.0  \n",
       "4                             157944.0                              14366.0  "
      ]
     },
     "execution_count": 16,
     "metadata": {},
     "output_type": "execute_result"
    }
   ],
   "source": [
    "df2 = pd.read_csv(\"People_with_a_driving_licence_22122023_160245.csv\", sep=';') # Reading the second dataset using pandas\n",
    "# Since our dataset is separated by semicolons, we set the 'sep' parameter to ';'.\n",
    "df2.head() "
   ]
  },
  {
   "cell_type": "code",
   "execution_count": 17,
   "id": "5cdb9478",
   "metadata": {},
   "outputs": [
    {
     "data": {
      "text/html": [
       "<div>\n",
       "<style scoped>\n",
       "    .dataframe tbody tr th:only-of-type {\n",
       "        vertical-align: middle;\n",
       "    }\n",
       "\n",
       "    .dataframe tbody tr th {\n",
       "        vertical-align: top;\n",
       "    }\n",
       "\n",
       "    .dataframe thead th {\n",
       "        text-align: right;\n",
       "    }\n",
       "</style>\n",
       "<table border=\"1\" class=\"dataframe\">\n",
       "  <thead>\n",
       "    <tr style=\"text-align: right;\">\n",
       "      <th></th>\n",
       "      <th>Periods</th>\n",
       "      <th>Age driving license holder</th>\n",
       "      <th>Passenger car driving licence total</th>\n",
       "    </tr>\n",
       "  </thead>\n",
       "  <tbody>\n",
       "    <tr>\n",
       "      <th>0</th>\n",
       "      <td>2014</td>\n",
       "      <td>Total</td>\n",
       "      <td>2381440.0</td>\n",
       "    </tr>\n",
       "    <tr>\n",
       "      <th>1</th>\n",
       "      <td>2014</td>\n",
       "      <td>16 to 17 years</td>\n",
       "      <td>3230.0</td>\n",
       "    </tr>\n",
       "    <tr>\n",
       "      <th>2</th>\n",
       "      <td>2014</td>\n",
       "      <td>18 to 19 years</td>\n",
       "      <td>41200.0</td>\n",
       "    </tr>\n",
       "    <tr>\n",
       "      <th>3</th>\n",
       "      <td>2014</td>\n",
       "      <td>20 to 24 years</td>\n",
       "      <td>163919.0</td>\n",
       "    </tr>\n",
       "    <tr>\n",
       "      <th>4</th>\n",
       "      <td>2014</td>\n",
       "      <td>25 to 29 years</td>\n",
       "      <td>172310.0</td>\n",
       "    </tr>\n",
       "  </tbody>\n",
       "</table>\n",
       "</div>"
      ],
      "text/plain": [
       "  Periods Age driving license holder  Passenger car driving licence total\n",
       "0    2014                      Total                            2381440.0\n",
       "1    2014             16 to 17 years                               3230.0\n",
       "2    2014             18 to 19 years                              41200.0\n",
       "3    2014             20 to 24 years                             163919.0\n",
       "4    2014             25 to 29 years                             172310.0"
      ]
     },
     "execution_count": 17,
     "metadata": {},
     "output_type": "execute_result"
    }
   ],
   "source": [
    "# We drop the specified columns from the dataframe and apply changes directly with inplace=True.\n",
    "df2.drop(columns=[\"Passenger car licence excl. trailer\"], inplace=True)\n",
    "df2.drop(columns=[\"Passenger car licence incl. trailer\"], inplace=True)\n",
    "df2 = df2.drop(index=120)\n",
    "df2.head()"
   ]
  },
  {
   "cell_type": "code",
   "execution_count": 18,
   "id": "9dc6c01e",
   "metadata": {
    "scrolled": false
   },
   "outputs": [
    {
     "data": {
      "text/plain": [
       "Periods                                0\n",
       "Age driving license holder             0\n",
       "Passenger car driving licence total    0\n",
       "dtype: int64"
      ]
     },
     "execution_count": 18,
     "metadata": {},
     "output_type": "execute_result"
    }
   ],
   "source": [
    "df2.isnull().sum()                        # We count the number of null values in each column of the dataframe"
   ]
  },
  {
   "cell_type": "code",
   "execution_count": 19,
   "id": "0ce58b96",
   "metadata": {
    "scrolled": false
   },
   "outputs": [
    {
     "data": {
      "text/plain": [
       "0"
      ]
     },
     "execution_count": 19,
     "metadata": {},
     "output_type": "execute_result"
    }
   ],
   "source": [
    "df2.duplicated().sum()                    # We count the total number of duplicated rows in the dataframe"
   ]
  },
  {
   "cell_type": "code",
   "execution_count": 20,
   "id": "f6b0ad2b",
   "metadata": {},
   "outputs": [],
   "source": [
    "# We rename 'VALUE' to 'Value' to match the naming style of other columns.\n",
    "df2 = df2.rename(columns={\"Periods\":\"Year\",\n",
    "                        \"Age driving license holder\":\"Age Group\",\n",
    "                        \"Passenger car driving licence total\": \"Value\"}) "
   ]
  },
  {
   "cell_type": "code",
   "execution_count": 21,
   "id": "3254c606",
   "metadata": {
    "scrolled": true
   },
   "outputs": [
    {
     "name": "stdout",
     "output_type": "stream",
     "text": [
      "<class 'pandas.core.frame.DataFrame'>\n",
      "RangeIndex: 120 entries, 0 to 119\n",
      "Data columns (total 3 columns):\n",
      " #   Column     Non-Null Count  Dtype  \n",
      "---  ------     --------------  -----  \n",
      " 0   Year       120 non-null    object \n",
      " 1   Age Group  120 non-null    object \n",
      " 2   Value      120 non-null    float64\n",
      "dtypes: float64(1), object(2)\n",
      "memory usage: 2.9+ KB\n"
     ]
    }
   ],
   "source": [
    "df2.info() # Display information about the DataFrame 'df2'"
   ]
  },
  {
   "cell_type": "code",
   "execution_count": 22,
   "id": "41f2aa11",
   "metadata": {
    "scrolled": false
   },
   "outputs": [
    {
     "name": "stdout",
     "output_type": "stream",
     "text": [
      "Ireland dtypes:\n",
      " Statistic    object\n",
      "Year          int64\n",
      "Age Group    object\n",
      "Sex          object\n",
      "Value         int32\n",
      "dtype: object \n",
      "\n",
      "Netherlands dtypes:\n",
      " Year          int32\n",
      "Age Group    object\n",
      "Value         int32\n",
      "dtype: object\n"
     ]
    }
   ],
   "source": [
    "df[\"Value\"] = df[\"Value\"].astype(int) # Converting the 'Value' column to integer data type in the df\n",
    "#df2['Value'] = df2['Value'].str.replace(',', '.').astype(float)\n",
    "\n",
    "# Converting the 'Year' and 'Value' columns to integer data type in the second DataFrame (df2)\n",
    "df2[\"Year\"] = df2[\"Year\"].astype(int) \n",
    "df2[\"Value\"] = df2[\"Value\"].astype(int)\n",
    "\n",
    "# Printing the data types of the columns in both DataFrames for comparison\n",
    "print(\"Ireland dtypes:\\n\",df.dtypes,\"\\n\")\n",
    "print(\"Netherlands dtypes:\\n\",df2.dtypes)"
   ]
  },
  {
   "cell_type": "code",
   "execution_count": 23,
   "id": "7f153095",
   "metadata": {},
   "outputs": [
    {
     "data": {
      "text/html": [
       "<div>\n",
       "<style scoped>\n",
       "    .dataframe tbody tr th:only-of-type {\n",
       "        vertical-align: middle;\n",
       "    }\n",
       "\n",
       "    .dataframe tbody tr th {\n",
       "        vertical-align: top;\n",
       "    }\n",
       "\n",
       "    .dataframe thead th {\n",
       "        text-align: right;\n",
       "    }\n",
       "</style>\n",
       "<table border=\"1\" class=\"dataframe\">\n",
       "  <thead>\n",
       "    <tr style=\"text-align: right;\">\n",
       "      <th></th>\n",
       "      <th>Statistic</th>\n",
       "      <th>Year</th>\n",
       "      <th>Age Group</th>\n",
       "      <th>Value</th>\n",
       "    </tr>\n",
       "  </thead>\n",
       "  <tbody>\n",
       "    <tr>\n",
       "      <th>0</th>\n",
       "      <td>Full Driving Licences</td>\n",
       "      <td>2009</td>\n",
       "      <td>All ages</td>\n",
       "      <td>2362292</td>\n",
       "    </tr>\n",
       "    <tr>\n",
       "      <th>1</th>\n",
       "      <td>Full Driving Licences</td>\n",
       "      <td>2009</td>\n",
       "      <td>Under 17 years</td>\n",
       "      <td>3</td>\n",
       "    </tr>\n",
       "    <tr>\n",
       "      <th>2</th>\n",
       "      <td>Full Driving Licences</td>\n",
       "      <td>2009</td>\n",
       "      <td>17 - 20 years</td>\n",
       "      <td>46258</td>\n",
       "    </tr>\n",
       "    <tr>\n",
       "      <th>3</th>\n",
       "      <td>Full Driving Licences</td>\n",
       "      <td>2009</td>\n",
       "      <td>21 - 24 years</td>\n",
       "      <td>132124</td>\n",
       "    </tr>\n",
       "    <tr>\n",
       "      <th>4</th>\n",
       "      <td>Full Driving Licences</td>\n",
       "      <td>2009</td>\n",
       "      <td>25 - 29 years</td>\n",
       "      <td>249341</td>\n",
       "    </tr>\n",
       "    <tr>\n",
       "      <th>...</th>\n",
       "      <td>...</td>\n",
       "      <td>...</td>\n",
       "      <td>...</td>\n",
       "      <td>...</td>\n",
       "    </tr>\n",
       "    <tr>\n",
       "      <th>303</th>\n",
       "      <td>Learner Permit Driving Licences</td>\n",
       "      <td>2022</td>\n",
       "      <td>40 - 49 years</td>\n",
       "      <td>38111</td>\n",
       "    </tr>\n",
       "    <tr>\n",
       "      <th>304</th>\n",
       "      <td>Learner Permit Driving Licences</td>\n",
       "      <td>2022</td>\n",
       "      <td>50 - 59 years</td>\n",
       "      <td>15412</td>\n",
       "    </tr>\n",
       "    <tr>\n",
       "      <th>305</th>\n",
       "      <td>Learner Permit Driving Licences</td>\n",
       "      <td>2022</td>\n",
       "      <td>60 - 69 years</td>\n",
       "      <td>5125</td>\n",
       "    </tr>\n",
       "    <tr>\n",
       "      <th>306</th>\n",
       "      <td>Learner Permit Driving Licences</td>\n",
       "      <td>2022</td>\n",
       "      <td>70 - 79 years</td>\n",
       "      <td>1634</td>\n",
       "    </tr>\n",
       "    <tr>\n",
       "      <th>307</th>\n",
       "      <td>Learner Permit Driving Licences</td>\n",
       "      <td>2022</td>\n",
       "      <td>80 years and over</td>\n",
       "      <td>236</td>\n",
       "    </tr>\n",
       "  </tbody>\n",
       "</table>\n",
       "<p>308 rows × 4 columns</p>\n",
       "</div>"
      ],
      "text/plain": [
       "                           Statistic  Year          Age Group    Value\n",
       "0              Full Driving Licences  2009           All ages  2362292\n",
       "1              Full Driving Licences  2009     Under 17 years        3\n",
       "2              Full Driving Licences  2009      17 - 20 years    46258\n",
       "3              Full Driving Licences  2009      21 - 24 years   132124\n",
       "4              Full Driving Licences  2009      25 - 29 years   249341\n",
       "..                               ...   ...                ...      ...\n",
       "303  Learner Permit Driving Licences  2022      40 - 49 years    38111\n",
       "304  Learner Permit Driving Licences  2022      50 - 59 years    15412\n",
       "305  Learner Permit Driving Licences  2022      60 - 69 years     5125\n",
       "306  Learner Permit Driving Licences  2022      70 - 79 years     1634\n",
       "307  Learner Permit Driving Licences  2022  80 years and over      236\n",
       "\n",
       "[308 rows x 4 columns]"
      ]
     },
     "execution_count": 23,
     "metadata": {},
     "output_type": "execute_result"
    }
   ],
   "source": [
    "df = df[df[\"Sex\"] == \"Both sexes\"].reset_index(drop=True) # Filter the df to include only 'Both sexes' rows\n",
    "df.drop(columns=[\"Sex\"], inplace=True) # Drop the 'Sex' column from the DataFrame as it's no longer needed after filtering\n",
    "df # Display the modified DataFrame"
   ]
  },
  {
   "cell_type": "code",
   "execution_count": 24,
   "id": "22d6eea6",
   "metadata": {
    "scrolled": true
   },
   "outputs": [
    {
     "data": {
      "text/plain": [
       "array(['Full Driving Licences', 'Learner Permit Driving Licences'],\n",
       "      dtype=object)"
      ]
     },
     "execution_count": 24,
     "metadata": {},
     "output_type": "execute_result"
    }
   ],
   "source": [
    "df[\"Statistic\"].unique() # Get unique values in the 'Statistic' column of df"
   ]
  },
  {
   "cell_type": "code",
   "execution_count": 25,
   "id": "a686bfa6",
   "metadata": {},
   "outputs": [
    {
     "data": {
      "text/html": [
       "<div>\n",
       "<style scoped>\n",
       "    .dataframe tbody tr th:only-of-type {\n",
       "        vertical-align: middle;\n",
       "    }\n",
       "\n",
       "    .dataframe tbody tr th {\n",
       "        vertical-align: top;\n",
       "    }\n",
       "\n",
       "    .dataframe thead th {\n",
       "        text-align: right;\n",
       "    }\n",
       "</style>\n",
       "<table border=\"1\" class=\"dataframe\">\n",
       "  <thead>\n",
       "    <tr style=\"text-align: right;\">\n",
       "      <th></th>\n",
       "      <th>Year</th>\n",
       "      <th>Age Group</th>\n",
       "      <th>Value</th>\n",
       "    </tr>\n",
       "  </thead>\n",
       "  <tbody>\n",
       "    <tr>\n",
       "      <th>0</th>\n",
       "      <td>2014</td>\n",
       "      <td>17 - 20 years</td>\n",
       "      <td>87492</td>\n",
       "    </tr>\n",
       "    <tr>\n",
       "      <th>1</th>\n",
       "      <td>2014</td>\n",
       "      <td>21 - 24 years</td>\n",
       "      <td>150032</td>\n",
       "    </tr>\n",
       "    <tr>\n",
       "      <th>2</th>\n",
       "      <td>2014</td>\n",
       "      <td>25 - 29 years</td>\n",
       "      <td>245595</td>\n",
       "    </tr>\n",
       "    <tr>\n",
       "      <th>3</th>\n",
       "      <td>2014</td>\n",
       "      <td>30 - 39 years</td>\n",
       "      <td>629313</td>\n",
       "    </tr>\n",
       "    <tr>\n",
       "      <th>4</th>\n",
       "      <td>2014</td>\n",
       "      <td>40 - 49 years</td>\n",
       "      <td>568308</td>\n",
       "    </tr>\n",
       "    <tr>\n",
       "      <th>...</th>\n",
       "      <td>...</td>\n",
       "      <td>...</td>\n",
       "      <td>...</td>\n",
       "    </tr>\n",
       "    <tr>\n",
       "      <th>94</th>\n",
       "      <td>2022</td>\n",
       "      <td>60 - 69 years</td>\n",
       "      <td>452487</td>\n",
       "    </tr>\n",
       "    <tr>\n",
       "      <th>95</th>\n",
       "      <td>2022</td>\n",
       "      <td>70 - 79 years</td>\n",
       "      <td>273037</td>\n",
       "    </tr>\n",
       "    <tr>\n",
       "      <th>96</th>\n",
       "      <td>2022</td>\n",
       "      <td>80 years and over</td>\n",
       "      <td>94761</td>\n",
       "    </tr>\n",
       "    <tr>\n",
       "      <th>97</th>\n",
       "      <td>2022</td>\n",
       "      <td>All ages</td>\n",
       "      <td>3325487</td>\n",
       "    </tr>\n",
       "    <tr>\n",
       "      <th>98</th>\n",
       "      <td>2022</td>\n",
       "      <td>Under 17 years</td>\n",
       "      <td>2243</td>\n",
       "    </tr>\n",
       "  </tbody>\n",
       "</table>\n",
       "<p>99 rows × 3 columns</p>\n",
       "</div>"
      ],
      "text/plain": [
       "    Year          Age Group    Value\n",
       "0   2014      17 - 20 years    87492\n",
       "1   2014      21 - 24 years   150032\n",
       "2   2014      25 - 29 years   245595\n",
       "3   2014      30 - 39 years   629313\n",
       "4   2014      40 - 49 years   568308\n",
       "..   ...                ...      ...\n",
       "94  2022      60 - 69 years   452487\n",
       "95  2022      70 - 79 years   273037\n",
       "96  2022  80 years and over    94761\n",
       "97  2022           All ages  3325487\n",
       "98  2022     Under 17 years     2243\n",
       "\n",
       "[99 rows x 3 columns]"
      ]
     },
     "execution_count": 25,
     "metadata": {},
     "output_type": "execute_result"
    }
   ],
   "source": [
    "# Group by 'Year' and 'Age Group', and sum the 'Value' column\n",
    "total_licences = df.groupby([\"Year\", \"Age Group\"]).sum().reset_index() \n",
    "\n",
    "# Add a new column 'Statistic' and name it 'Total Licences'\n",
    "total_licences[\"Statistic\"] = \"Total Licences\"\n",
    "\n",
    "# Append this total to the original df DataFrame\n",
    "df = pd.concat([df, total_licences], ignore_index=True)\n",
    "\n",
    "# Filter df for records from 2014 onwards and where 'Statistic' is 'Total Licences', then reset index\n",
    "df = df[(df[\"Year\"] >= 2014) & (df[\"Statistic\"] == \"Total Licences\")].reset_index(drop=True)\n",
    "df.drop(columns=[\"Statistic\"], inplace=True)\n",
    "df"
   ]
  },
  {
   "cell_type": "code",
   "execution_count": 26,
   "id": "95bba1ac",
   "metadata": {},
   "outputs": [
    {
     "data": {
      "text/html": [
       "<div>\n",
       "<style scoped>\n",
       "    .dataframe tbody tr th:only-of-type {\n",
       "        vertical-align: middle;\n",
       "    }\n",
       "\n",
       "    .dataframe tbody tr th {\n",
       "        vertical-align: top;\n",
       "    }\n",
       "\n",
       "    .dataframe thead th {\n",
       "        text-align: right;\n",
       "    }\n",
       "</style>\n",
       "<table border=\"1\" class=\"dataframe\">\n",
       "  <thead>\n",
       "    <tr style=\"text-align: right;\">\n",
       "      <th></th>\n",
       "      <th>Year</th>\n",
       "      <th>Age Group</th>\n",
       "      <th>Value</th>\n",
       "    </tr>\n",
       "  </thead>\n",
       "  <tbody>\n",
       "    <tr>\n",
       "      <th>0</th>\n",
       "      <td>2014</td>\n",
       "      <td>Total</td>\n",
       "      <td>2381440</td>\n",
       "    </tr>\n",
       "    <tr>\n",
       "      <th>1</th>\n",
       "      <td>2014</td>\n",
       "      <td>16 to 17 years</td>\n",
       "      <td>3230</td>\n",
       "    </tr>\n",
       "    <tr>\n",
       "      <th>2</th>\n",
       "      <td>2014</td>\n",
       "      <td>18 to 19 years</td>\n",
       "      <td>41200</td>\n",
       "    </tr>\n",
       "    <tr>\n",
       "      <th>3</th>\n",
       "      <td>2014</td>\n",
       "      <td>20 to 24 years</td>\n",
       "      <td>163919</td>\n",
       "    </tr>\n",
       "    <tr>\n",
       "      <th>4</th>\n",
       "      <td>2014</td>\n",
       "      <td>25 to 29 years</td>\n",
       "      <td>172310</td>\n",
       "    </tr>\n",
       "    <tr>\n",
       "      <th>...</th>\n",
       "      <td>...</td>\n",
       "      <td>...</td>\n",
       "      <td>...</td>\n",
       "    </tr>\n",
       "    <tr>\n",
       "      <th>103</th>\n",
       "      <td>2022</td>\n",
       "      <td>50 to 59 years</td>\n",
       "      <td>510566</td>\n",
       "    </tr>\n",
       "    <tr>\n",
       "      <th>104</th>\n",
       "      <td>2022</td>\n",
       "      <td>60 to 64 years</td>\n",
       "      <td>240066</td>\n",
       "    </tr>\n",
       "    <tr>\n",
       "      <th>105</th>\n",
       "      <td>2022</td>\n",
       "      <td>65 to 69 years</td>\n",
       "      <td>206217</td>\n",
       "    </tr>\n",
       "    <tr>\n",
       "      <th>106</th>\n",
       "      <td>2022</td>\n",
       "      <td>70 to 74 years</td>\n",
       "      <td>186056</td>\n",
       "    </tr>\n",
       "    <tr>\n",
       "      <th>107</th>\n",
       "      <td>2022</td>\n",
       "      <td>75 years or older</td>\n",
       "      <td>222691</td>\n",
       "    </tr>\n",
       "  </tbody>\n",
       "</table>\n",
       "<p>108 rows × 3 columns</p>\n",
       "</div>"
      ],
      "text/plain": [
       "     Year          Age Group    Value\n",
       "0    2014              Total  2381440\n",
       "1    2014     16 to 17 years     3230\n",
       "2    2014     18 to 19 years    41200\n",
       "3    2014     20 to 24 years   163919\n",
       "4    2014     25 to 29 years   172310\n",
       "..    ...                ...      ...\n",
       "103  2022     50 to 59 years   510566\n",
       "104  2022     60 to 64 years   240066\n",
       "105  2022     65 to 69 years   206217\n",
       "106  2022     70 to 74 years   186056\n",
       "107  2022  75 years or older   222691\n",
       "\n",
       "[108 rows x 3 columns]"
      ]
     },
     "execution_count": 26,
     "metadata": {},
     "output_type": "execute_result"
    }
   ],
   "source": [
    "# Filter the DataFrame 'df2' to include only rows with 'Year' up to and including 2022, then reset the index\n",
    "df2 = df2[(df2[\"Year\"] <= 2022)].reset_index(drop=True)\n",
    "df2"
   ]
  },
  {
   "cell_type": "code",
   "execution_count": 113,
   "id": "cc35102b",
   "metadata": {
    "scrolled": false
   },
   "outputs": [
    {
     "name": "stdout",
     "output_type": "stream",
     "text": [
      "Ireland age group unique:\n",
      " Total= 9\n",
      " ['17 - 24 years' '25 - 29 years' '30 - 39 years' '40 - 49 years'\n",
      " '50 - 59 years' '60 - 69 years' '70 years and over' 'All ages'\n",
      " 'Under 17 years'] \n",
      "\n",
      "Netherlands age group unique:\n",
      " Total= 9\n",
      " ['17 - 24 years' '25 - 29 years' '30 - 39 years' '40 - 49 years'\n",
      " '50 - 59 years' '60 - 69 years' '70 years and over' 'All ages'\n",
      " 'Under 17 years'] \n",
      "\n"
     ]
    }
   ],
   "source": [
    "# Print unique age groups and the total number of unique age groups in the Ireland dataset\n",
    "print(\"Ireland age group unique:\\n\", f\"Total= {df['Age Group'].nunique()}\\n\", df[\"Age Group\"].unique(), \"\\n\")\n",
    "# Print unique age groups and the total number of unique age groups in the Netherlands dataset\n",
    "print(\"Netherlands age group unique:\\n\", f\"Total= {df2['Age Group'].nunique()}\\n\", df2[\"Age Group\"].unique(), \"\\n\")"
   ]
  },
  {
   "cell_type": "code",
   "execution_count": 114,
   "id": "ddda124a",
   "metadata": {},
   "outputs": [],
   "source": [
    "df2[\"Age Group\"] = df2[\"Age Group\"].replace({\"16 to 17 years\": \"Under 17 years\",\"Total\":\"All ages\"})\n",
    "df2[\"Age Group\"] = df2[\"Age Group\"].str.replace(\"to\",\"-\")\n",
    "df2[\"Age Group\"] = df2[\"Age Group\"].str.replace(\"or older\",\"and over\")"
   ]
  },
  {
   "cell_type": "code",
   "execution_count": 116,
   "id": "699b817d",
   "metadata": {},
   "outputs": [],
   "source": [
    "# Filter specific age groups\n",
    "age_groups_to_combine = df['Age Group'].isin(['17 - 20 years', '21 - 24 years'])\n",
    "age_groups_to_combine2 = df['Age Group'].isin(['70 - 79 years', '80 years and over'])\n",
    "# Sum 'Value' column values year-wise for these groups\n",
    "combined_values = df[age_groups_to_combine].groupby(\"Year\")[\"Value\"].sum().reset_index()\n",
    "combined_values2 = df[age_groups_to_combine2].groupby(\"Year\")[\"Value\"].sum().reset_index()\n",
    "# Add 'Age Group' column and set to '17 - 24 years' and '70 years and over' respectively\n",
    "combined_values['Age Group'] = \"17 - 24 years\"\n",
    "combined_values2['Age Group'] = \"70 years and over\"\n",
    "# Remove the original data \n",
    "df = df[~age_groups_to_combine]\n",
    "df = df[~age_groups_to_combine2]\n",
    "# Add the new aggregated values\n",
    "df = pd.concat([df, combined_values, combined_values2], ignore_index=True)\n",
    "# Sort the DataFrame by 'Year' and 'Age Group'\n",
    "df = df.sort_values(by=['Year', 'Age Group']).reset_index(drop=True)"
   ]
  },
  {
   "cell_type": "code",
   "execution_count": 117,
   "id": "6f4145a1",
   "metadata": {},
   "outputs": [],
   "source": [
    "# Filter specific age groups\n",
    "age_groups_to_combine21 = df2['Age Group'].isin(['60 - 64 years', '65 - 69 years'])\n",
    "age_groups_to_combine22 = df2['Age Group'].isin(['18 - 19 years', '20 - 24 years'])\n",
    "age_groups_to_combine23 = df2['Age Group'].isin(['70 - 74 years', '75 years and over'])\n",
    "# Sum 'Value' column values year-wise for these groups\n",
    "combined_values21 = df2[age_groups_to_combine21].groupby(\"Year\")[\"Value\"].sum().reset_index()\n",
    "combined_values22 = df2[age_groups_to_combine22].groupby(\"Year\")[\"Value\"].sum().reset_index()\n",
    "combined_values23 = df2[age_groups_to_combine23].groupby(\"Year\")[\"Value\"].sum().reset_index()\n",
    "# Add 'Age Group' column and set to '17 - 24 years', '60 - 69 years' and '70 years and over' respectively\n",
    "combined_values21['Age Group'] = \"60 - 69 years\"\n",
    "combined_values22['Age Group'] = \"17 - 24 years\"\n",
    "combined_values23['Age Group'] = \"70 years and over\"\n",
    "# Remove the original data \n",
    "df2 = df2[~age_groups_to_combine21]\n",
    "df2 = df2[~age_groups_to_combine22]\n",
    "df2 = df2[~age_groups_to_combine23]\n",
    "# Add the new aggregated values\n",
    "df2 = pd.concat([df2, combined_values21,combined_values22,combined_values23], ignore_index=True)\n",
    "# Sort the DataFrame by 'Year' and 'Age Group'\n",
    "df2 = df2.sort_values(by=['Year', 'Age Group']).reset_index(drop=True)"
   ]
  },
  {
   "cell_type": "code",
   "execution_count": 31,
   "id": "d64d2ea0",
   "metadata": {
    "scrolled": false
   },
   "outputs": [
    {
     "name": "stdout",
     "output_type": "stream",
     "text": [
      "Ireland age group unique:\n",
      " Total= 9\n",
      " ['17 - 24 years' '25 - 29 years' '30 - 39 years' '40 - 49 years'\n",
      " '50 - 59 years' '60 - 69 years' '70 years and over' 'All ages'\n",
      " 'Under 17 years'] \n",
      "\n",
      "Netherlands age group unique:\n",
      " Total= 9\n",
      " ['17 - 24 years' '25 - 29 years' '30 - 39 years' '40 - 49 years'\n",
      " '50 - 59 years' '60 - 69 years' '70 years and over' 'All ages'\n",
      " 'Under 17 years'] \n",
      "\n"
     ]
    }
   ],
   "source": [
    "# Print unique age groups and the total number of unique age groups in the Ireland dataset\n",
    "print(\"Ireland age group unique:\\n\", f\"Total= {df['Age Group'].nunique()}\\n\", df[\"Age Group\"].unique(), \"\\n\")\n",
    "# Print unique age groups and the total number of unique age groups in the Netherlands dataset\n",
    "print(\"Netherlands age group unique:\\n\", f\"Total= {df2['Age Group'].nunique()}\\n\", df2[\"Age Group\"].unique(), \"\\n\")"
   ]
  },
  {
   "cell_type": "code",
   "execution_count": 32,
   "id": "681d4c10",
   "metadata": {},
   "outputs": [],
   "source": [
    "Ireland = df.copy()\n",
    "Netherlands = df2.copy()"
   ]
  },
  {
   "cell_type": "code",
   "execution_count": 118,
   "id": "dbf3e691",
   "metadata": {},
   "outputs": [
    {
     "data": {
      "text/plain": [
       "(    Year          Age Group    Value\n",
       " 0   2014      17 - 24 years   237524\n",
       " 1   2014      25 - 29 years   245595\n",
       " 2   2014      30 - 39 years   629313\n",
       " 3   2014      40 - 49 years   568308\n",
       " 4   2014      50 - 59 years   454946\n",
       " ..   ...                ...      ...\n",
       " 76  2022      50 - 59 years   601477\n",
       " 77  2022      60 - 69 years   452487\n",
       " 78  2022  70 years and over   367798\n",
       " 79  2022           All ages  3325487\n",
       " 80  2022     Under 17 years     2243\n",
       " \n",
       " [81 rows x 3 columns],\n",
       "     Year          Age Group    Value\n",
       " 0   2014      17 - 24 years   205119\n",
       " 1   2014      25 - 29 years   172310\n",
       " 2   2014      30 - 39 years   356824\n",
       " 3   2014      40 - 49 years   494320\n",
       " 4   2014      50 - 59 years   489610\n",
       " ..   ...                ...      ...\n",
       " 76  2022      50 - 59 years   510566\n",
       " 77  2022      60 - 69 years   446283\n",
       " 78  2022  70 years and over   408747\n",
       " 79  2022           All ages  2524888\n",
       " 80  2022     Under 17 years     2220\n",
       " \n",
       " [81 rows x 3 columns])"
      ]
     },
     "execution_count": 118,
     "metadata": {},
     "output_type": "execute_result"
    }
   ],
   "source": [
    "Ireland, Netherlands"
   ]
  },
  {
   "cell_type": "code",
   "execution_count": 35,
   "id": "7ee6e66f",
   "metadata": {},
   "outputs": [
    {
     "name": "stdout",
     "output_type": "stream",
     "text": [
      "Ireland Total Rows= 81\n",
      "Ireland Total Columns= 3\n",
      "Netherlands Total Rows= 81\n",
      "Netherlands Total Columns= 3\n"
     ]
    }
   ],
   "source": [
    "total_rows = df.shape[0]                 # We assign the number of rows to \"total_rows\"\n",
    "total_columns = df.shape[1]              # We assign the number of columns to \"total_columns\"\n",
    "total_rows2 = df2.shape[0]                 # We assign the number of rows to \"total_rows\"\n",
    "total_columns2 = df2.shape[1]              # We assign the number of columns to \"total_columns\"\n",
    "print(f\"Ireland Total Rows= {total_rows}\")       # We print the total number of rows\n",
    "print(f\"Ireland Total Columns= {total_columns}\") # We print the total number of columns\n",
    "print(f\"Netherlands Total Rows= {total_rows2}\")       # We print the total number of rows\n",
    "print(f\"Netherlands Total Columns= {total_columns2}\") # We print the total number of columns"
   ]
  },
  {
   "cell_type": "code",
   "execution_count": 135,
   "id": "36549a86",
   "metadata": {},
   "outputs": [
    {
     "name": "stdout",
     "output_type": "stream",
     "text": [
      "<class 'pandas.core.frame.DataFrame'>\n",
      "RangeIndex: 81 entries, 0 to 80\n",
      "Data columns (total 3 columns):\n",
      " #   Column     Non-Null Count  Dtype \n",
      "---  ------     --------------  ----- \n",
      " 0   Year       81 non-null     int64 \n",
      " 1   Age Group  81 non-null     object\n",
      " 2   Value      81 non-null     int32 \n",
      "dtypes: int32(1), int64(1), object(1)\n",
      "memory usage: 1.7+ KB\n",
      "None \n",
      "\n",
      "<class 'pandas.core.frame.DataFrame'>\n",
      "RangeIndex: 81 entries, 0 to 80\n",
      "Data columns (total 3 columns):\n",
      " #   Column     Non-Null Count  Dtype \n",
      "---  ------     --------------  ----- \n",
      " 0   Year       81 non-null     int32 \n",
      " 1   Age Group  81 non-null     object\n",
      " 2   Value      81 non-null     int32 \n",
      "dtypes: int32(2), object(1)\n",
      "memory usage: 1.4+ KB\n",
      "None\n"
     ]
    },
    {
     "data": {
      "text/plain": [
       "(None, None)"
      ]
     },
     "execution_count": 135,
     "metadata": {},
     "output_type": "execute_result"
    }
   ],
   "source": [
    "print(df.info(),\"\\n\"), print(df2.info())"
   ]
  },
  {
   "cell_type": "code",
   "execution_count": 38,
   "id": "ef6d118a",
   "metadata": {
    "collapsed": true
   },
   "outputs": [
    {
     "name": "stdout",
     "output_type": "stream",
     "text": [
      "    Year          Age Group    Value\n",
      "0   2014      17 - 24 years   237524\n",
      "1   2014      25 - 29 years   245595\n",
      "2   2014      30 - 39 years   629313\n",
      "3   2014      40 - 49 years   568308\n",
      "4   2014      50 - 59 years   454946\n",
      "5   2014      60 - 69 years   340771\n",
      "6   2014  70 years and over   232928\n",
      "7   2014           All ages  2710664\n",
      "8   2014     Under 17 years     1279\n",
      "9   2015      17 - 24 years   238607\n",
      "10  2015      25 - 29 years   240823\n",
      "11  2015      30 - 39 years   632343\n",
      "12  2015      40 - 49 years   582279\n",
      "13  2015      50 - 59 years   468059\n",
      "14  2015      60 - 69 years   352209\n",
      "15  2015  70 years and over   248461\n",
      "16  2015           All ages  2764069\n",
      "17  2015     Under 17 years     1288\n",
      "18  2016      17 - 24 years   239640\n",
      "19  2016      25 - 29 years   235873\n",
      "20  2016      30 - 39 years   637360\n",
      "21  2016      40 - 49 years   597842\n",
      "22  2016      50 - 59 years   479959\n",
      "23  2016      60 - 69 years   363360\n",
      "24  2016  70 years and over   265128\n",
      "25  2016           All ages  2820528\n",
      "26  2016     Under 17 years     1366\n",
      "27  2017      17 - 24 years   233992\n",
      "28  2017      25 - 29 years   232415\n",
      "29  2017      30 - 39 years   636887\n",
      "30  2017      40 - 49 years   613128\n",
      "31  2017      50 - 59 years   491487\n",
      "32  2017      60 - 69 years   374096\n",
      "33  2017  70 years and over   282856\n",
      "34  2017           All ages  2866162\n",
      "35  2017     Under 17 years     1301\n",
      "36  2018      17 - 24 years   233187\n",
      "37  2018      25 - 29 years   226828\n",
      "38  2018      30 - 39 years   621916\n",
      "39  2018      40 - 49 years   628231\n",
      "40  2018      50 - 59 years   508060\n",
      "41  2018      60 - 69 years   388435\n",
      "42  2018  70 years and over   299086\n",
      "43  2018           All ages  2907192\n",
      "44  2018     Under 17 years     1449\n",
      "45  2019      17 - 24 years   250061\n",
      "46  2019      25 - 29 years   230013\n",
      "47  2019      30 - 39 years   629801\n",
      "48  2019      40 - 49 years   663177\n",
      "49  2019      50 - 59 years   543215\n",
      "50  2019      60 - 69 years   411849\n",
      "51  2019  70 years and over   318137\n",
      "52  2019           All ages  3047912\n",
      "53  2019     Under 17 years     1659\n",
      "54  2020      17 - 24 years   256644\n",
      "55  2020      25 - 29 years   227585\n",
      "56  2020      30 - 39 years   615722\n",
      "57  2020      40 - 49 years   676641\n",
      "58  2020      50 - 59 years   556602\n",
      "59  2020      60 - 69 years   421975\n",
      "60  2020  70 years and over   332800\n",
      "61  2020           All ages  3089212\n",
      "62  2020     Under 17 years     1243\n",
      "63  2021      17 - 24 years   293187\n",
      "64  2021      25 - 29 years   238710\n",
      "65  2021      30 - 39 years   623555\n",
      "66  2021      40 - 49 years   704125\n",
      "67  2021      50 - 59 years   589856\n",
      "68  2021      60 - 69 years   445164\n",
      "69  2021  70 years and over   363767\n",
      "70  2021           All ages  3257621\n",
      "71  2021     Under 17 years     2257\n",
      "72  2022      17 - 24 years   313720\n",
      "73  2022      25 - 29 years   246728\n",
      "74  2022      30 - 39 years   623016\n",
      "75  2022      40 - 49 years   718018\n",
      "76  2022      50 - 59 years   601477\n",
      "77  2022      60 - 69 years   452487\n",
      "78  2022  70 years and over   367798\n",
      "79  2022           All ages  3325487\n",
      "80  2022     Under 17 years     2243 \n",
      "\n",
      "    Year          Age Group    Value\n",
      "0   2014      17 - 24 years   205119\n",
      "1   2014      25 - 29 years   172310\n",
      "2   2014      30 - 39 years   356824\n",
      "3   2014      40 - 49 years   494320\n",
      "4   2014      50 - 59 years   489610\n",
      "5   2014      60 - 69 years   404236\n",
      "6   2014  70 years and over   255791\n",
      "7   2014           All ages  2381440\n",
      "8   2014     Under 17 years     3230\n",
      "9   2015      17 - 24 years   206171\n",
      "10  2015      25 - 29 years   174181\n",
      "11  2015      30 - 39 years   354531\n",
      "12  2015      40 - 49 years   479295\n",
      "13  2015      50 - 59 years   497446\n",
      "14  2015      60 - 69 years   411762\n",
      "15  2015  70 years and over   272627\n",
      "16  2015           All ages  2399882\n",
      "17  2015     Under 17 years     3869\n",
      "18  2016      17 - 24 years   206367\n",
      "19  2016      25 - 29 years   176780\n",
      "20  2016      30 - 39 years   355462\n",
      "21  2016      40 - 49 years   464184\n",
      "22  2016      50 - 59 years   506210\n",
      "23  2016      60 - 69 years   419947\n",
      "24  2016  70 years and over   290950\n",
      "25  2016           All ages  2424152\n",
      "26  2016     Under 17 years     4252\n",
      "27  2017      17 - 24 years   208068\n",
      "28  2017      25 - 29 years   178024\n",
      "29  2017      30 - 39 years   356882\n",
      "30  2017      40 - 49 years   449081\n",
      "31  2017      50 - 59 years   509818\n",
      "32  2017      60 - 69 years   421308\n",
      "33  2017  70 years and over   312807\n",
      "34  2017           All ages  2440371\n",
      "35  2017     Under 17 years     4383\n",
      "36  2018      17 - 24 years   211226\n",
      "37  2018      25 - 29 years   179409\n",
      "38  2018      30 - 39 years   359331\n",
      "39  2018      40 - 49 years   433937\n",
      "40  2018      50 - 59 years   510432\n",
      "41  2018      60 - 69 years   421597\n",
      "42  2018  70 years and over   334472\n",
      "43  2018           All ages  2455140\n",
      "44  2018     Under 17 years     4736\n",
      "45  2019      17 - 24 years   213724\n",
      "46  2019      25 - 29 years   180850\n",
      "47  2019      30 - 39 years   362792\n",
      "48  2019      40 - 49 years   421310\n",
      "49  2019      50 - 59 years   511648\n",
      "50  2019      60 - 69 years   424732\n",
      "51  2019  70 years and over   354954\n",
      "52  2019           All ages  2474454\n",
      "53  2019     Under 17 years     4444\n",
      "54  2020      17 - 24 years   215947\n",
      "55  2020      25 - 29 years   183135\n",
      "56  2020      30 - 39 years   367685\n",
      "57  2020      40 - 49 years   408674\n",
      "58  2020      50 - 59 years   514655\n",
      "59  2020      60 - 69 years   430439\n",
      "60  2020  70 years and over   372739\n",
      "61  2020           All ages  2497632\n",
      "62  2020     Under 17 years     4358\n",
      "63  2021      17 - 24 years   212163\n",
      "64  2021      25 - 29 years   182376\n",
      "65  2021      30 - 39 years   373501\n",
      "66  2021      40 - 49 years   398384\n",
      "67  2021      50 - 59 years   516059\n",
      "68  2021      60 - 69 years   438441\n",
      "69  2021  70 years and over   400205\n",
      "70  2021           All ages  2523873\n",
      "71  2021     Under 17 years     2744\n",
      "72  2022      17 - 24 years   208185\n",
      "73  2022      25 - 29 years   181413\n",
      "74  2022      30 - 39 years   377928\n",
      "75  2022      40 - 49 years   389546\n",
      "76  2022      50 - 59 years   510566\n",
      "77  2022      60 - 69 years   446283\n",
      "78  2022  70 years and over   408747\n",
      "79  2022           All ages  2524888\n",
      "80  2022     Under 17 years     2220\n"
     ]
    }
   ],
   "source": [
    "# pd.set_option('display.max_rows', None)  # Tüm satırları göstermek için\n",
    "# print(df)\n",
    "# pd.reset_option('display.max_rows')\n",
    "\n",
    "with pd.option_context('display.max_rows', None): # Temporarily set the option to display all rows for df\n",
    "    print(df,\"\\n\")                                # Print the entire df without truncating rows\n",
    "with pd.option_context('display.max_rows', None): # Temporarily set the option to display all rows for df2\n",
    "    print(df2)                                    # Print the entire df2 without truncating rows   "
   ]
  },
  {
   "cell_type": "code",
   "execution_count": 140,
   "id": "d9c62e8c",
   "metadata": {},
   "outputs": [
    {
     "name": "stdout",
     "output_type": "stream",
     "text": [
      "              Year         Value\n",
      "count    81.000000  8.100000e+01\n",
      "mean   2018.000000  6.614900e+05\n",
      "std       2.598076  8.494945e+05\n",
      "min    2014.000000  1.243000e+03\n",
      "25%    2016.000000  2.396400e+05\n",
      "50%    2018.000000  3.884350e+05\n",
      "75%    2020.000000  6.230160e+05\n",
      "max    2022.000000  3.325487e+06 \n",
      "\n",
      "              Year         Value\n",
      "count    81.000000  8.100000e+01\n",
      "mean   2018.000000  5.462181e+05\n",
      "std       2.598076  6.964024e+05\n",
      "min    2014.000000  2.220000e+03\n",
      "25%    2016.000000  2.063670e+05\n",
      "50%    2018.000000  3.727390e+05\n",
      "75%    2020.000000  4.641840e+05\n",
      "max    2022.000000  2.524888e+06\n"
     ]
    },
    {
     "data": {
      "text/plain": [
       "(None, None)"
      ]
     },
     "execution_count": 140,
     "metadata": {},
     "output_type": "execute_result"
    }
   ],
   "source": [
    "print(df.describe(),\"\\n\"),print(df2.describe()) # Display descriptive statistics for df and df2"
   ]
  },
  {
   "cell_type": "code",
   "execution_count": 40,
   "id": "618c86f4",
   "metadata": {},
   "outputs": [],
   "source": [
    "#df.to_csv('Ireland.csv', index=False)\n",
    "#df2.to_csv('Netherlands.csv', index=False)"
   ]
  },
  {
   "cell_type": "code",
   "execution_count": 155,
   "id": "d35199a0",
   "metadata": {},
   "outputs": [
    {
     "data": {
      "image/png": "[encoded data removed]",
      "text/plain": [
       "<Figure size 640x480 with 1 Axes>"
      ]
     },
     "metadata": {},
     "output_type": "display_data"
    }
   ],
   "source": [
    "# Filter data for \"All ages\" age group in both datasets\n",
    "all_ages = df[df[\"Age Group\"] == \"All ages\"]\n",
    "all_ages2 = df2[df2[\"Age Group\"] == \"All ages\"]\n",
    "# Create histograms for the 'Value' column in both datasets\n",
    "plt.hist(all_ages[\"Value\"], bins=5, color=\"green\", label='Ireland')  # Histogram for Ireland\n",
    "plt.hist(all_ages2[\"Value\"], bins=5, color=\"darkorange\", label='Netherlands')  # Histogram for Netherlands\n",
    "# Add a legend, title, and axis labels\n",
    "plt.legend()\n",
    "plt.title(\"Value Distribution\")\n",
    "plt.xlabel(\"Value\")\n",
    "plt.ylabel(\"Frequency\")\n",
    "# Display the plot\n",
    "plt.show()"
   ]
  },
  {
   "cell_type": "code",
   "execution_count": 159,
   "id": "0a7ba30d",
   "metadata": {},
   "outputs": [
    {
     "data": {
      "application/vnd.jupyter.widget-view+json": {
       "model_id": "ebf2c058bbee42a9a5eeb2031376a7a7",
       "version_major": 2,
       "version_minor": 0
      },
      "text/plain": [
       "Dropdown(description='Age Group:', options=('17 - 24 years', '25 - 29 years', '30 - 39 years', '40 - 49 years'…"
      ]
     },
     "metadata": {},
     "output_type": "display_data"
    },
    {
     "data": {
      "application/vnd.jupyter.widget-view+json": {
       "model_id": "dedcff8a9de94742b7831317a94d3f5f",
       "version_major": 2,
       "version_minor": 0
      },
      "text/plain": [
       "Output()"
      ]
     },
     "metadata": {},
     "output_type": "display_data"
    }
   ],
   "source": [
    "# Creating the Dropdown widget for selecting the age group\n",
    "age_group_dropdown_box_plot = widgets.Dropdown(\n",
    "    options=list(df['Age Group'].unique()),\n",
    "    description='Age Group:',\n",
    "    disabled=False,\n",
    ")\n",
    "\n",
    "output_box_plot = widgets.Output()\n",
    "\n",
    "def update_box_plot_side_by_side(change):\n",
    "    selected_age_group = age_group_dropdown_box_plot.value\n",
    "    with output_box_plot:\n",
    "        clear_output(wait=True)\n",
    "\n",
    "        # Filtering the combined data for the selected age group\n",
    "        filtered_df = df[df[\"Age Group\"] == selected_age_group]\n",
    "        filtered_df2 = df2[df2[\"Age Group\"] == selected_age_group]\n",
    "\n",
    "        # Creating subplots\n",
    "        fig, axes = plt.subplots(1, 2, figsize=(15, 6))\n",
    "\n",
    "        # Plotting the boxplot for Ireland on the first subplot\n",
    "        sns.boxplot(y=\"Value\", data=filtered_df, ax=axes[0])\n",
    "        axes[0].set_title(f\"Ireland - {selected_age_group}\")\n",
    "        \n",
    "        # Plotting the boxplot for Netherlands on the second subplot\n",
    "        sns.boxplot(y=\"Value\", data=filtered_df2, ax=axes[1])\n",
    "        axes[1].set_title(f\"Netherlands - {selected_age_group}\")\n",
    "        \n",
    "        # Display the plot\n",
    "        plt.tight_layout()\n",
    "        plt.show()\n",
    "\n",
    "# Reassign the observe function to the new function that plots side by side\n",
    "#age_group_dropdown_box_plot.unobserve(update_box_plot, names='value')\n",
    "age_group_dropdown_box_plot.observe(update_box_plot_side_by_side, names='value')\n",
    "\n",
    "# Displaying the widgets and re-initializing the plot\n",
    "display(age_group_dropdown_box_plot, output_box_plot)\n",
    "update_box_plot_side_by_side(None)  # Trigger the initial plot for side by side view\n"
   ]
  },
  {
   "cell_type": "code",
   "execution_count": 188,
   "id": "8687c202",
   "metadata": {},
   "outputs": [
    {
     "data": {
      "text/plain": [
       "array(['17 - 24 years', '25 - 29 years', '30 - 39 years', '40 - 49 years',\n",
       "       '50 - 59 years', '60 - 69 years', '70 years and over',\n",
       "       'Under 17 years'], dtype=object)"
      ]
     },
     "execution_count": 188,
     "metadata": {},
     "output_type": "execute_result"
    }
   ],
   "source": [
    "no_all_ages=df[df['Age Group']!=\"All ages\"]\n",
    "no_all_ages['Age Group'].unique()"
   ]
  },
  {
   "cell_type": "code",
   "execution_count": 200,
   "id": "68d6da30",
   "metadata": {
    "scrolled": true
   },
   "outputs": [
    {
     "data": {
      "text/plain": [
       "Year\n",
       "2014    5421328\n",
       "2015    5528138\n",
       "2016    5641056\n",
       "2017    5732324\n",
       "2018    5814384\n",
       "2019    6095824\n",
       "2020    6178424\n",
       "2021    6518242\n",
       "2022    6650974\n",
       "Name: Value, dtype: int32"
      ]
     },
     "execution_count": 200,
     "metadata": {},
     "output_type": "execute_result"
    }
   ],
   "source": [
    "ireland_totals"
   ]
  },
  {
   "cell_type": "code",
   "execution_count": 216,
   "id": "6986c0ae",
   "metadata": {},
   "outputs": [
    {
     "data": {
      "application/vnd.jupyter.widget-view+json": {
       "model_id": "7cf0e000978e45cc81b25d5654f73127",
       "version_major": 2,
       "version_minor": 0
      },
      "text/plain": [
       "VBox(children=(Dropdown(description='Year:', options=(2014, 2015, 2016, 2017, 2018, 2019, 2020, 2021, 2022), v…"
      ]
     },
     "metadata": {},
     "output_type": "display_data"
    }
   ],
   "source": [
    "# Function to calculate 'All ages' total for each year\n",
    "def calculate_all_ages_total(df):\n",
    "    return df[df[\"Age Group\"]==\"All ages\"].groupby(\"Year\")[\"Value\"].sum()\n",
    "\n",
    "ireland_all_ages = calculate_all_ages_total(df)\n",
    "netherlands_all_ages = calculate_all_ages_total(df2)\n",
    "\n",
    "# Dropdown widgets\n",
    "country_dropdown = widgets.Dropdown(options=[\"Ireland\", \"Netherlands\"], description=\"Country:\")\n",
    "age_group_dropdown = widgets.Dropdown(options=[ag for ag in ireland_df['Age Group'].unique() if ag != \"All ages\"],\n",
    "                                      description=\"Age Group:\")\n",
    "year_dropdown = widgets.Dropdown(options=list(ireland_df['Year'].unique()), description='Year:')\n",
    "\n",
    "# Output area for the pie chart\n",
    "output_pie_chart = widgets.Output()\n",
    "\n",
    "# Update function for the pie chart\n",
    "def update_pie_chart(change):\n",
    "    with output_pie_chart:\n",
    "        clear_output(wait=True)\n",
    "        selected_country = country_dropdown.value\n",
    "        selected_age_group = age_group_dropdown.value\n",
    "        selected_year = year_dropdown.value\n",
    "\n",
    "        # Select the appropriate dataframe and 'All ages' total\n",
    "        if selected_country == \"Ireland\":\n",
    "            data_df = ireland_df\n",
    "            total_all_ages = ireland_all_ages[selected_year]\n",
    "            colors = [\"blue\", \"green\"]\n",
    "        else:\n",
    "            data_df = netherlands_df\n",
    "            total_all_ages = netherlands_all_ages[selected_year]\n",
    "            colors = [\"blue\", \"darkorange\"]\n",
    "\n",
    "        # Filter data for the selected year and age group\n",
    "        filtered_data = data_df[(data_df[\"Year\"] == selected_year) & (data_df[\"Age Group\"] == selected_age_group)]\n",
    "        age_group_value = filtered_data[\"Value\"].sum()\n",
    "\n",
    "        # Values and labels for the pie chart\n",
    "        values = [age_group_value, total_all_ages - age_group_value]\n",
    "        labels = [selected_age_group, \"All ages\"]\n",
    "\n",
    "        # Plotting the pie chart\n",
    "        plt.figure(figsize=(8, 8))\n",
    "        plt.pie(values, labels=labels, colors = colors ,autopct=\"%1.1f%%\", startangle=140)\n",
    "        plt.title(f\"{selected_age_group} vs All Ages in {selected_country} for {selected_year}\")\n",
    "        plt.show()\n",
    "\n",
    "# Observing changes in the widgets\n",
    "country_dropdown.observe(update_pie_chart, names=\"value\")\n",
    "age_group_dropdown.observe(update_pie_chart, names=\"value\")\n",
    "year_dropdown.observe(update_pie_chart, names=\"value\")\n",
    "\n",
    "# Display the widgets and output area\n",
    "display_widgets = widgets.VBox([year_dropdown, country_dropdown, age_group_dropdown, output_pie_chart])\n",
    "display(display_widgets)\n",
    "\n",
    "update_pie_chart(None)# Initial plot"
   ]
  },
  {
   "cell_type": "code",
   "execution_count": 218,
   "id": "ae4e22de",
   "metadata": {},
   "outputs": [
    {
     "data": {
      "application/vnd.jupyter.widget-view+json": {
       "model_id": "395da489fd644e15984638be7cdb589d",
       "version_major": 2,
       "version_minor": 0
      },
      "text/plain": [
       "Dropdown(description='Country:', options=('Ireland', 'Netherlands'), value='Ireland')"
      ]
     },
     "metadata": {},
     "output_type": "display_data"
    },
    {
     "data": {
      "application/vnd.jupyter.widget-view+json": {
       "model_id": "a0a0a00f72d64f789aaac7f1bd62aa10",
       "version_major": 2,
       "version_minor": 0
      },
      "text/plain": [
       "Dropdown(description='Age Group:', options=('17 - 24 years', '25 - 29 years', '30 - 39 years', '40 - 49 years'…"
      ]
     },
     "metadata": {},
     "output_type": "display_data"
    },
    {
     "data": {
      "application/vnd.jupyter.widget-view+json": {
       "model_id": "44fcb9d73f344d46912bae4558fb750f",
       "version_major": 2,
       "version_minor": 0
      },
      "text/plain": [
       "Output()"
      ]
     },
     "metadata": {},
     "output_type": "display_data"
    }
   ],
   "source": [
    "# Creating a Dropdown widget for selecting the country\n",
    "country_dropdown_line_plot = widgets.Dropdown(\n",
    "    options=[\"Ireland\", \"Netherlands\"],\n",
    "    value=\"Ireland\",\n",
    "    description=\"Country:\",\n",
    "    disabled=False,\n",
    ")\n",
    "\n",
    "# Creating a Dropdown widget for selecting the age group\n",
    "age_group_dropdown_line_plot = widgets.Dropdown(\n",
    "    options=list(df[\"Age Group\"].unique()),\n",
    "    description=\"Age Group:\",\n",
    "    disabled=False,\n",
    ")\n",
    "\n",
    "# Creating an output area to display the plot\n",
    "output_line_plot = widgets.Output()\n",
    "\n",
    "# Graphics update function\n",
    "def update_line_plot(change):\n",
    "    with output_line_plot:\n",
    "        clear_output(wait=True)  # Clear the current output\n",
    "        selected_country = country_dropdown_line_plot.value\n",
    "        selected_age_group = age_group_dropdown_line_plot.value\n",
    "\n",
    "        if selected_country == \"Ireland\":\n",
    "            data = df\n",
    "        else:\n",
    "            data = df2\n",
    "            \n",
    "        plt.figure(figsize=(12, 6))\n",
    "        data_line_plot = data[data[\"Age Group\"] == selected_age_group]\n",
    "        sns.lineplot(data=data_line_plot, x=\"Year\", y=\"Value\")\n",
    "        plt.title(f\"Trend of {selected_age_group} in {selected_country} (2014-2022)\")\n",
    "        plt.ylabel(\"Value\")\n",
    "        plt.xlabel(\"Year\")\n",
    "        plt.show()\n",
    "\n",
    "# Set up observation for changes in the Dropdown widget to update the plot accordingly\n",
    "country_dropdown_line_plot.observe(update_line_plot, names=\"value\")\n",
    "age_group_dropdown_line_plot.observe(update_line_plot, names=\"value\")\n",
    "\n",
    "# Display the Dropdown widgets and the output area\n",
    "display(country_dropdown_line_plot, age_group_dropdown_line_plot, output_line_plot)\n",
    "update_line_plot(None)  # Initial plot\n"
   ]
  },
  {
   "cell_type": "code",
   "execution_count": 219,
   "id": "60498dbc",
   "metadata": {},
   "outputs": [
    {
     "data": {
      "image/png": "[encoded data removed]",
      "text/plain": [
       "<Figure size 1400x800 with 1 Axes>"
      ]
     },
     "metadata": {},
     "output_type": "display_data"
    }
   ],
   "source": [
    "# Comparison of age distributions between Ireland and the Netherlands\n",
    "# Concatenating the two datasets for comparison, adding a 'Country' column\n",
    "df_barplot=df[df[\"Age Group\"] != \"All ages\"]\n",
    "df2_barplot=df2[df2[\"Age Group\"] != \"All ages\"]\n",
    "df_barplot[\"Country\"] = \"Ireland\"\n",
    "df2_barplot[\"Country\"] = \"Netherlands\"\n",
    "combined_df = pd.concat([df_barplot, df2_barplot])\n",
    "\n",
    "# Plotting age distribution comparison\n",
    "plt.figure(figsize=(14, 8))\n",
    "sns.barplot(data=combined_df, x=\"Age Group\", y=\"Value\", hue=\"Country\")\n",
    "plt.title(\"Comparison of Age Distribution of Licences between Ireland and the Netherlands\")\n",
    "plt.ylabel(\"Total Licences\")\n",
    "plt.xlabel(\"Age Group\")\n",
    "plt.xticks(rotation=90)\n",
    "plt.show()\n"
   ]
  },
  {
   "cell_type": "markdown",
   "id": "f73badf0",
   "metadata": {},
   "source": [
    "# çıkarımsal istatistik testleri"
   ]
  },
  {
   "cell_type": "markdown",
   "id": "5aedc5d9",
   "metadata": {},
   "source": [
    "## 1. Normal Dağılım Testi (Shapiro-Wilk Testi)"
   ]
  },
  {
   "cell_type": "markdown",
   "id": "30e2fc68",
   "metadata": {},
   "source": [
    "Shapiro-Wilk testi hipotest\n",
    "\n",
    "    1- Null Hipotezi (H0): Yaş grubunun ehliyet sahiplerinin sayıları normal dağılım gösterir.\n",
    "    2- Alternatif Hipotez (H1): Yaş grubunun ehliyet sahiplerinin sayıları normal dağılım göstermez.\n",
    "\n",
    "Bu hipotezler, İrlanda ve Hollanda veri setlerindeki her bir yaş grubu için ayrı ayrı test edilecek. Shapiro-Wilk testi, p-değerine dayanarak null hipotezin reddedilip reddedilmeyeceğini belirler. Eğer p-değeri belirlenen anlamlılık eşiğinden (0.05) düşükse, bu durumda null hipotezi reddedilir ve verilerin normal dağılım göstermediği sonucuna varılır."
   ]
  },
  {
   "cell_type": "code",
   "execution_count": 53,
   "id": "cf92e4d5",
   "metadata": {},
   "outputs": [
    {
     "name": "stdout",
     "output_type": "stream",
     "text": [
      "H1 Shapiro Result; Statistic: 0.9272 P-value: 0.000454 Ireland\n",
      "H1 Shapiro Result; Statistic: 0.9045 P-value: 0.000047 Netherlands\n"
     ]
    }
   ],
   "source": [
    "from scipy.stats import shapiro\n",
    "\n",
    "# Shapiro-Wilk Test for normality on the 'Value' column of both datasets\n",
    "shapiro_test_ireland = shapiro(df[df[\"Age Group\"]!=\"All ages\"]['Value'])\n",
    "shapiro_test_netherlands = shapiro(df2[df2[\"Age Group\"]!=\"All ages\"]['Value'])\n",
    "if shapiro_test_ireland.pvalue >= 0.05:\n",
    "        hypothesis_ireland = \"H0\"\n",
    "else: hypothesis_ireland = \"H1\"\n",
    "print(hypothesis_ireland,f\"Shapiro Result; Statistic: {shapiro_test_ireland.statistic:.4f}\",\n",
    "          f\"P-value: {shapiro_test_ireland.pvalue:.6f}\",\"Ireland\")\n",
    "if shapiro_test_netherlands.pvalue >= 0.05:\n",
    "        hypothesis_netherlands = \"H0\"\n",
    "else: hypothesis_netherlands = \"H1\"\n",
    "print(hypothesis_netherlands,f\"Shapiro Result; Statistic: {shapiro_test_netherlands.statistic:.4f}\",\n",
    "          f\"P-value: {shapiro_test_netherlands.pvalue:.6f}\",\"Netherlands\")"
   ]
  },
  {
   "cell_type": "code",
   "execution_count": 54,
   "id": "21b40fe3",
   "metadata": {},
   "outputs": [
    {
     "name": "stdout",
     "output_type": "stream",
     "text": [
      "H1 Shapiro; Statistic: 0.7672 \tP-value: 0.0086 \t17 - 24 years Ireland\n",
      "H0 Shapiro; Statistic: 0.9329 \tP-value: 0.5096 \t17 - 24 years Netherlands\n",
      "H0 Shapiro; Statistic: 0.9333 \tP-value: 0.5129 \t25 - 29 years Ireland\n",
      "H0 Shapiro; Statistic: 0.9398 \tP-value: 0.5803 \t25 - 29 years Netherlands\n",
      "H0 Shapiro; Statistic: 0.9505 \tP-value: 0.6955 \t30 - 39 years Ireland\n",
      "H0 Shapiro; Statistic: 0.8720 \tP-value: 0.1290 \t30 - 39 years Netherlands\n",
      "H0 Shapiro; Statistic: 0.9452 \tP-value: 0.6371 \t40 - 49 years Ireland\n",
      "H0 Shapiro; Statistic: 0.9588 \tP-value: 0.7858 \t40 - 49 years Netherlands\n",
      "H0 Shapiro; Statistic: 0.9305 \tP-value: 0.4861 \t50 - 59 years Ireland\n",
      "H0 Shapiro; Statistic: 0.8461 \tP-value: 0.0675 \t50 - 59 years Netherlands\n",
      "H0 Shapiro; Statistic: 0.9437 \tP-value: 0.6208 \t60 - 69 years Ireland\n",
      "H0 Shapiro; Statistic: 0.9743 \tP-value: 0.9286 \t60 - 69 years Netherlands\n",
      "H0 Shapiro; Statistic: 0.9528 \tP-value: 0.7204 \t70 years and over Ireland\n",
      "H0 Shapiro; Statistic: 0.9542 \tP-value: 0.7358 \t70 years and over Netherlands\n",
      "H0 Shapiro; Statistic: 0.9344 \tP-value: 0.5239 \tAll ages Ireland\n",
      "H0 Shapiro; Statistic: 0.9501 \tP-value: 0.6913 \tAll ages Netherlands\n",
      "H1 Shapiro; Statistic: 0.7462 \tP-value: 0.0049 \tUnder 17 years Ireland\n",
      "H0 Shapiro; Statistic: 0.8746 \tP-value: 0.1376 \tUnder 17 years Netherlands\n"
     ]
    }
   ],
   "source": [
    "# Shapiro-Wilk Test for normality on the 'Value' column of both datasets\n",
    "age_group = df[\"Age Group\"].unique()\n",
    "shapiro_results = {\n",
    "    \"Ireland\": [],\n",
    "    \"Netherlands\": []\n",
    "}\n",
    "for age in age_group: \n",
    "    shapiro_test_ireland = shapiro(df[df[\"Age Group\"]==age]['Value'])\n",
    "    shapiro_results[\"Ireland\"].append((age, shapiro_test_ireland.statistic, shapiro_test_ireland.pvalue))\n",
    "    shapiro_test_netherlands = shapiro(df2[df2[\"Age Group\"]==age]['Value'])\n",
    "    shapiro_results[\"Netherlands\"].append((age, shapiro_test_netherlands.statistic, shapiro_test_netherlands.pvalue))\n",
    "    if shapiro_test_ireland.pvalue  >= 0.05:\n",
    "        hypothesis_ireland = \"H0\"\n",
    "    else: hypothesis_ireland = \"H1\"\n",
    "    print(hypothesis_ireland,f\"Shapiro; Statistic: {shapiro_test_ireland.statistic:.4f}\",\n",
    "          f\"\\tP-value: {shapiro_test_ireland.pvalue:.4f}\",f\"\\t{age}\",\"Ireland\")\n",
    "    if shapiro_test_netherlands.pvalue >= 0.05:\n",
    "        hypothesis_netherlands = \"H0\"\n",
    "    else: hypothesis_netherlands = \"H1\"\n",
    "    print(hypothesis_netherlands,f\"Shapiro; Statistic: {shapiro_test_netherlands.statistic:.4f}\",\n",
    "          f\"\\tP-value: {shapiro_test_netherlands.pvalue:.4f}\",f\"\\t{age}\",\"Netherlands\")"
   ]
  },
  {
   "cell_type": "code",
   "execution_count": 55,
   "id": "4f0750e0",
   "metadata": {},
   "outputs": [
    {
     "data": {
      "application/vnd.jupyter.widget-view+json": {
       "model_id": "8ce8d537c58c46b99933fd9b113c2609",
       "version_major": 2,
       "version_minor": 0
      },
      "text/plain": [
       "Dropdown(description='Age Group:', options=('17 - 24 years', '25 - 29 years', '30 - 39 years', '40 - 49 years'…"
      ]
     },
     "metadata": {},
     "output_type": "display_data"
    },
    {
     "data": {
      "application/vnd.jupyter.widget-view+json": {
       "model_id": "5c86fd5fa1f7423f865a5e311c24e952",
       "version_major": 2,
       "version_minor": 0
      },
      "text/plain": [
       "Output()"
      ]
     },
     "metadata": {},
     "output_type": "display_data"
    }
   ],
   "source": [
    "# Dropdown widget'ları oluşturun\n",
    "age_group_dropdown_shapiro = widgets.Dropdown(\n",
    "    options=list(df['Age Group'].unique()),\n",
    "    description='Age Group:',\n",
    "    disabled=False,\n",
    ")\n",
    "\n",
    "# Grafik çıktısını gösterecek bir çıktı alanı yaratın\n",
    "output_shapiro = widgets.Output()\n",
    "\n",
    "def update_shapiro(change):\n",
    "    with output_shapiro:\n",
    "        clear_output(wait=True)  # Mevcut çıktıyı temizle\n",
    "        selected_age_group = age_group_dropdown_shapiro.value\n",
    "        \n",
    "        data_shapiro_test = df[df[\"Age Group\"] == selected_age_group]\n",
    "        data_shapiro_test2 = df2[df2[\"Age Group\"] == selected_age_group]\n",
    "        # Shapiro-Wilk Test for normality on the 'Value' column of both datasets\n",
    "        shapiro_test_ireland = shapiro(data_shapiro_test['Value'])\n",
    "        shapiro_test_netherlands = shapiro(data_shapiro_test2['Value'])\n",
    "        \n",
    "        if shapiro_test_ireland.pvalue  >= 0.05:\n",
    "            hypothesis_ireland = \"H0 (normal distribution)\"\n",
    "        else: hypothesis_ireland = \"H1 (non normal distribution)\"\n",
    "        if shapiro_test_netherlands.pvalue >= 0.05:\n",
    "            hypothesis_netherlands = \"H0 (normal distribution)\"\n",
    "        else: hypothesis_netherlands = \"H1 (non normal distribution)\"\n",
    "        \n",
    "        print(f\"Selected age group= {selected_age_group}\\n\")\n",
    "        print(f\"Ireland Hypothsis Result: {hypothesis_ireland}\")\n",
    "        print(f\"Ireland {shapiro_test_ireland}\\n\")\n",
    "        print(f\"Netherlands Hypothsis Result: {hypothesis_netherlands}\")\n",
    "        print(f\"Netherlands {shapiro_test_netherlands}\")\n",
    "\n",
    "# Dropdown widget'larının değişikliklerine göre grafik güncelleme\n",
    "age_group_dropdown_shapiro.observe(update_shapiro, names='value')\n",
    "\n",
    "# Widget'ları ve çıktı alanını göster\n",
    "display(age_group_dropdown_shapiro, output_shapiro)\n",
    "update_shapiro(None)  # İlk grafik"
   ]
  },
  {
   "cell_type": "code",
   "execution_count": 56,
   "id": "b2a7376d",
   "metadata": {
    "scrolled": false
   },
   "outputs": [
    {
     "data": {
      "image/png": "[encoded data removed]",
      "text/plain": [
       "<Figure size 1400x700 with 1 Axes>"
      ]
     },
     "metadata": {},
     "output_type": "display_data"
    }
   ],
   "source": [
    "import pandas as pd\n",
    "from scipy.stats import shapiro\n",
    "import seaborn as sns\n",
    "import matplotlib.pyplot as plt\n",
    "\n",
    "\n",
    "# Shapiro-Wilk test sonuçlarını saklamak için boş listeler oluşturalım\n",
    "shapiro_results = {\n",
    "    \"Ireland\": [],\n",
    "    \"Netherlands\": []\n",
    "}\n",
    "age_groups=df['Age Group'].unique()\n",
    "# Her bir yaş grubu için Shapiro-Wilk testi yapalım\n",
    "for age in age_groups:\n",
    "    # Ireland verisi için\n",
    "    shapiro_test_ireland = shapiro(df[df[\"Age Group\"] == age]['Value'])\n",
    "    shapiro_results[\"Ireland\"].append((age, shapiro_test_ireland.statistic, shapiro_test_ireland.pvalue))\n",
    "    \n",
    "    # Netherlands verisi için\n",
    "    shapiro_test_netherlands = shapiro(df2[df2[\"Age Group\"] == age]['Value'])\n",
    "    shapiro_results[\"Netherlands\"].append((age, shapiro_test_netherlands.statistic, shapiro_test_netherlands.pvalue))\n",
    "\n",
    "# P-Value Dağılım Grafiği\n",
    "plt.figure(figsize=(14, 7))\n",
    "for country, color in zip(shapiro_results, ['green', 'darkorange']):\n",
    "    ages, _, p_values = zip(*shapiro_results[country])\n",
    "    plt.scatter(ages, p_values, color=color, label=f'{country} P-Values')\n",
    "plt.axhline(0.05, color='red', linestyle='--', label='Threshold (p = 0.05)')\n",
    "plt.xlabel('Age Group')\n",
    "plt.ylabel('P-Value')\n",
    "plt.title('P-Value Distribution Across Age Groups')\n",
    "plt.legend()\n",
    "plt.show()"
   ]
  },
  {
   "cell_type": "code",
   "execution_count": 57,
   "id": "af4a97b4",
   "metadata": {},
   "outputs": [
    {
     "data": {
      "application/vnd.jupyter.widget-view+json": {
       "model_id": "ad66dbafb4b24c869e6040e1f6a0690d",
       "version_major": 2,
       "version_minor": 0
      },
      "text/plain": [
       "Dropdown(description='Country:', options=('Ireland', 'Netherlands'), value='Ireland')"
      ]
     },
     "metadata": {},
     "output_type": "display_data"
    },
    {
     "data": {
      "application/vnd.jupyter.widget-view+json": {
       "model_id": "7688facdd7344255a80358a7bdca671a",
       "version_major": 2,
       "version_minor": 0
      },
      "text/plain": [
       "Dropdown(description='Age Group:', options=('17 - 24 years', '25 - 29 years', '30 - 39 years', '40 - 49 years'…"
      ]
     },
     "metadata": {},
     "output_type": "display_data"
    },
    {
     "data": {
      "application/vnd.jupyter.widget-view+json": {
       "model_id": "122ca97e3e334425a711f38a8d583af7",
       "version_major": 2,
       "version_minor": 0
      },
      "text/plain": [
       "Output()"
      ]
     },
     "metadata": {},
     "output_type": "display_data"
    }
   ],
   "source": [
    "import numpy as np\n",
    "import seaborn as sns\n",
    "import matplotlib.pyplot as plt\n",
    "\n",
    "# Dropdown widget'ları oluşturun\n",
    "country_dropdown_dist_value = widgets.Dropdown(\n",
    "    options=['Ireland', 'Netherlands'],\n",
    "    value='Ireland',\n",
    "    description='Country:',\n",
    "    disabled=False,\n",
    ")\n",
    "\n",
    "age_group_dropdown_dist_value = widgets.Dropdown(\n",
    "    options=list(df['Age Group'].unique()),\n",
    "    description='Age Group:',\n",
    "    disabled=False,\n",
    ")\n",
    "\n",
    "# Grafik çıktısını gösterecek bir çıktı alanı yaratın\n",
    "output_dist_value= widgets.Output()\n",
    "\n",
    "# Grafik güncelleme fonksiyonu\n",
    "def update_dist_value(change):\n",
    "    with output_dist_value:\n",
    "        clear_output(wait=True)  # Mevcut çıktıyı temizle\n",
    "        selected_country = country_dropdown_dist_value.value\n",
    "        selected_age_group = age_group_dropdown_dist_value.value\n",
    "\n",
    "        if selected_country == 'Ireland':\n",
    "            data = df\n",
    "        else:\n",
    "            data = df2\n",
    "\n",
    "        data_dist_value = data[data['Age Group'] == selected_age_group]\n",
    "        sns.histplot(data_dist_value[\"Value\"], kde=True, bins=9)\n",
    "        plt.title(f\"Distribution of Licence Values for {selected_age_group} Age Group in the {selected_country}\")\n",
    "        plt.xticks(rotation=90)\n",
    "        plt.show()\n",
    "        \n",
    "# Dropdown widget'larının değişikliklerine göre grafik güncelleme\n",
    "country_dropdown_dist_value.observe(update_dist_value, names='value')\n",
    "age_group_dropdown_dist_value.observe(update_dist_value, names='value')\n",
    "\n",
    "# Widget'ları ve çıktı alanını göster\n",
    "display(country_dropdown_dist_value, age_group_dropdown_dist_value, output_dist_value)\n",
    "update_dist_value(None)  # İlk grafik"
   ]
  },
  {
   "cell_type": "code",
   "execution_count": 58,
   "id": "78505307",
   "metadata": {},
   "outputs": [
    {
     "data": {
      "application/vnd.jupyter.widget-view+json": {
       "model_id": "f564a05778d84aaa95af58468759fb4e",
       "version_major": 2,
       "version_minor": 0
      },
      "text/plain": [
       "Dropdown(description='Country:', options=('Ireland', 'Netherlands'), value='Ireland')"
      ]
     },
     "metadata": {},
     "output_type": "display_data"
    },
    {
     "data": {
      "application/vnd.jupyter.widget-view+json": {
       "model_id": "562267195de84eab8f545790e596f375",
       "version_major": 2,
       "version_minor": 0
      },
      "text/plain": [
       "Dropdown(description='Age Group:', options=('17 - 24 years', '25 - 29 years', '30 - 39 years', '40 - 49 years'…"
      ]
     },
     "metadata": {},
     "output_type": "display_data"
    },
    {
     "data": {
      "application/vnd.jupyter.widget-view+json": {
       "model_id": "a33004de567144a2be8e9975a9a68b80",
       "version_major": 2,
       "version_minor": 0
      },
      "text/plain": [
       "Output()"
      ]
     },
     "metadata": {},
     "output_type": "display_data"
    }
   ],
   "source": [
    "# Additionally, plotting a Q-Q plot to visually assess the normality\n",
    "import scipy.stats as stats\n",
    "\n",
    "\n",
    "# Dropdown widget'ları oluşturun\n",
    "country_dropdown_qq_plot = widgets.Dropdown(\n",
    "    options=['Ireland', 'Netherlands'],\n",
    "    value='Ireland',\n",
    "    description='Country:',\n",
    "    disabled=False,\n",
    ")\n",
    "\n",
    "age_group_dropdown_qq_plot = widgets.Dropdown(\n",
    "    options=list(df['Age Group'].unique()),\n",
    "    description='Age Group:',\n",
    "    disabled=False,\n",
    ")\n",
    "\n",
    "# Grafik çıktısını gösterecek bir çıktı alanı yaratın\n",
    "output_qq_plot = widgets.Output()\n",
    "\n",
    "# Grafik güncelleme fonksiyonu\n",
    "def update_qq_plot(change):\n",
    "    with output_qq_plot:\n",
    "        clear_output(wait=True)  # Mevcut çıktıyı temizle\n",
    "        selected_country = country_dropdown_qq_plot.value\n",
    "        selected_age_group = age_group_dropdown_qq_plot.value\n",
    "\n",
    "        if selected_country == 'Ireland':\n",
    "            data = df\n",
    "        else:\n",
    "            data = df2\n",
    "\n",
    "        data_qq_plot = data[data['Age Group'] == selected_age_group]\n",
    "        stats.probplot(data_qq_plot['Value'], dist=\"norm\", plot=plt)\n",
    "        plt.title(f\"Q-Q Plot for {selected_age_group} Age Group in the {selected_country}\")\n",
    "        plt.show()\n",
    "# Dropdown widget'larının değişikliklerine göre grafik güncelleme\n",
    "country_dropdown_qq_plot.observe(update_qq_plot, names='value')\n",
    "age_group_dropdown_qq_plot.observe(update_qq_plot, names='value')\n",
    "\n",
    "# Widget'ları ve çıktı alanını göster\n",
    "display(country_dropdown_qq_plot, age_group_dropdown_qq_plot, output_qq_plot)\n",
    "update_qq_plot(None)  # İlk grafik"
   ]
  },
  {
   "cell_type": "code",
   "execution_count": null,
   "id": "87e34e9c",
   "metadata": {},
   "outputs": [],
   "source": []
  },
  {
   "cell_type": "markdown",
   "id": "0f660c84",
   "metadata": {},
   "source": [
    "## 2. T-Testi"
   ]
  },
  {
   "cell_type": "markdown",
   "id": "79dca2a7",
   "metadata": {},
   "source": [
    "### T-Testi Hipotezi:\n",
    "    Null Hipotezi (H0): İki grubun ortalamaları arasında istatistiksel olarak anlamlı bir fark yoktur.\n",
    "    Alternatif Hipotezi (H1): İki grubun ortalamaları arasında istatistiksel olarak anlamlı bir fark vardır.\n",
    "    \n",
    "    Null Hipotezi (H0): There is no statistically significant difference between the means of the two groups.\n",
    "    Alternatif Hipotezi (H1): There is a statistically significant difference between the means of the two groups."
   ]
  },
  {
   "cell_type": "code",
   "execution_count": 59,
   "id": "80b99ab7",
   "metadata": {},
   "outputs": [
    {
     "name": "stdout",
     "output_type": "stream",
     "text": [
      "Hypothsis Result: H1 (There is a statistically significant difference between the means of the two groups.)\n",
      "\n",
      "T-test Result;\n",
      "Statistic:2.10303\n",
      "Pvalue:\t0.03736\n",
      "df:\t132.259532\n",
      "\n"
     ]
    }
   ],
   "source": [
    "from scipy.stats import ttest_ind\n",
    "\n",
    "# Performing Welch's T-test (which does not assume equal variances) between Ireland and Netherlands for the year 2014\n",
    "ttest_result = ttest_ind(df[df[\"Age Group\"]!=\"All ages\"]['Value'],\n",
    "                          df2[df2[\"Age Group\"]!=\"All ages\"]['Value'], equal_var=False)\n",
    "if ttest_result.pvalue  >= 0.05:\n",
    "    hypothesis_ttest = \"H0 (There is no statistically significant difference between the means of the two groups.)\"\n",
    "else: hypothesis_ttest = \"H1 (There is a statistically significant difference between the means of the two groups.)\"\n",
    "ttest_result\n",
    "print(f\"Hypothsis Result: {hypothesis_ttest}\\n\")\n",
    "print(f\"T-test Result;\\nStatistic:{ttest_result.statistic:.5f}\\nPvalue:\\t{ttest_result.pvalue:.5f}\\ndf:\\t{ttest_result.df:5f}\\n\")"
   ]
  },
  {
   "cell_type": "code",
   "execution_count": 60,
   "id": "2e3ac17a",
   "metadata": {},
   "outputs": [
    {
     "data": {
      "application/vnd.jupyter.widget-view+json": {
       "model_id": "cef89535ff2e46e985b4c3ff291020a8",
       "version_major": 2,
       "version_minor": 0
      },
      "text/plain": [
       "Dropdown(description='Age Group:', options=('17 - 24 years', '25 - 29 years', '30 - 39 years', '40 - 49 years'…"
      ]
     },
     "metadata": {},
     "output_type": "display_data"
    },
    {
     "data": {
      "application/vnd.jupyter.widget-view+json": {
       "model_id": "b964539da3ed4a889c090f4154fefe1e",
       "version_major": 2,
       "version_minor": 0
      },
      "text/plain": [
       "Output()"
      ]
     },
     "metadata": {},
     "output_type": "display_data"
    }
   ],
   "source": [
    "# Dropdown widget'ları oluşturun\n",
    "age_group_dropdown_ttest = widgets.Dropdown(\n",
    "    options=list(df['Age Group'].unique()),\n",
    "    description='Age Group:',\n",
    "    disabled=False,\n",
    ")\n",
    "\n",
    "# Grafik çıktısını gösterecek bir çıktı alanı yaratın\n",
    "output_ttest = widgets.Output()\n",
    "\n",
    "def update_ttest(change):\n",
    "    with output_ttest:\n",
    "        clear_output(wait=True)  # Mevcut çıktıyı temizle\n",
    "        selected_age_group = age_group_dropdown_ttest.value\n",
    "        \n",
    "        # Performing T-test between Ireland and Netherlands for the spesific age group\n",
    "        ttest_result = ttest_ind(df[df[\"Age Group\"]==selected_age_group]['Value'],\n",
    "                          df2[df2[\"Age Group\"]==selected_age_group]['Value'], equal_var=False)\n",
    "        \n",
    "        if ttest_result.pvalue  >= 0.05:\n",
    "            hypothesis_ttest = \"H0 (There is no statistically significant difference between the means of the two groups.)\"\n",
    "        else: hypothesis_ttest = \"H1 (There is a statistically significant difference between the means of the two groups.)\"\n",
    "        \n",
    "        print(f\"Selected age group= {selected_age_group}\\n\")\n",
    "        print(f\"Hypothsis Result: {hypothesis_ttest}\\n\")\n",
    "        print(f\"T-test Result;\\nStatistic:{ttest_result.statistic:.5f}\\nPvalue:\\t{ttest_result.pvalue:.5f}\\ndf:\\t{ttest_result.df:5f}\\n\")\n",
    "\n",
    "# Dropdown widget'larının değişikliklerine göre grafik güncelleme\n",
    "age_group_dropdown_ttest.observe(update_ttest, names='value')\n",
    "\n",
    "# Widget'ları ve çıktı alanını göster\n",
    "display(age_group_dropdown_ttest, output_ttest)\n",
    "update_ttest(None)  # İlk grafik"
   ]
  },
  {
   "cell_type": "code",
   "execution_count": 61,
   "id": "1e2336e2",
   "metadata": {},
   "outputs": [
    {
     "data": {
      "application/vnd.jupyter.widget-view+json": {
       "model_id": "26a3aac628c94ce3acb15fb05cf23327",
       "version_major": 2,
       "version_minor": 0
      },
      "text/plain": [
       "Dropdown(description='Age Group:', options=('17 - 24 years', '25 - 29 years', '30 - 39 years', '40 - 49 years'…"
      ]
     },
     "metadata": {},
     "output_type": "display_data"
    },
    {
     "data": {
      "application/vnd.jupyter.widget-view+json": {
       "model_id": "d11998d940a5405bb1c6996c9b967cc8",
       "version_major": 2,
       "version_minor": 0
      },
      "text/plain": [
       "Output()"
      ]
     },
     "metadata": {},
     "output_type": "display_data"
    }
   ],
   "source": [
    "# Re-loading the datasets due to the reset of the execution state\n",
    "df_ireland = df\n",
    "df_netherlands = df2\n",
    "\n",
    "# Creating the Dropdown widget for selecting the age group\n",
    "age_group_dropdown_box_plot = widgets.Dropdown(\n",
    "    options=list(df['Age Group'].unique()),\n",
    "    description='Age Group:',\n",
    "    disabled=False,\n",
    ")\n",
    "\n",
    "output_box_plot = widgets.Output()\n",
    "\n",
    "def update_box_plot_side_by_side(change):\n",
    "    selected_age_group = age_group_dropdown_box_plot.value\n",
    "    with output_box_plot:\n",
    "        clear_output(wait=True)\n",
    "\n",
    "        # Filtering the combined data for the selected age group\n",
    "        # Filtering the combined data for the selected age group\n",
    "        filtered_data_ireland = df_ireland[df_ireland['Age Group'] == selected_age_group]\n",
    "        filtered_data_netherlands = df_netherlands[df_netherlands['Age Group'] == selected_age_group]\n",
    "\n",
    "        # Creating subplots\n",
    "        fig, axes = plt.subplots(1, 2, figsize=(15, 6))\n",
    "\n",
    "        # Plotting the boxplot for Ireland on the first subplot\n",
    "        sns.boxplot(y='Value', data=filtered_data_ireland, ax=axes[0])\n",
    "        axes[0].set_title(f'Ireland - {selected_age_group}')\n",
    "        \n",
    "        # Plotting the boxplot for Netherlands on the second subplot\n",
    "        sns.boxplot(y='Value', data=filtered_data_netherlands, ax=axes[1])\n",
    "        axes[1].set_title(f'Netherlands - {selected_age_group}')\n",
    "        \n",
    "        # Display the plot\n",
    "        plt.tight_layout()\n",
    "        plt.show()\n",
    "\n",
    "# Reassign the observe function to the new function that plots side by side\n",
    "#age_group_dropdown_box_plot.unobserve(update_box_plot, names='value')\n",
    "age_group_dropdown_box_plot.observe(update_box_plot_side_by_side, names='value')\n",
    "\n",
    "# Displaying the widgets and re-initializing the plot\n",
    "display(age_group_dropdown_box_plot, output_box_plot)\n",
    "update_box_plot_side_by_side(None)  # Trigger the initial plot for side by side view\n"
   ]
  },
  {
   "cell_type": "code",
   "execution_count": null,
   "id": "7a4eb02c",
   "metadata": {},
   "outputs": [],
   "source": []
  },
  {
   "cell_type": "code",
   "execution_count": null,
   "id": "0a546780",
   "metadata": {},
   "outputs": [],
   "source": []
  },
  {
   "cell_type": "markdown",
   "id": "cf069525",
   "metadata": {},
   "source": [
    "## 3. ANOVA (Varyans Analizi) (Parametrik)"
   ]
  },
  {
   "cell_type": "markdown",
   "id": "07d171b9",
   "metadata": {},
   "source": [
    "- Null Hipotezi (H0): Grupların tüm ortalamaları (popülasyon ortalamaları) arasında bir fark yoktur. Başka bir deyişle, tüm gruplar aynı popülasyonun parçasıdır ve bu nedenle ortalamaları esasında eşittir.\n",
    "\n",
    "- Alternatif Hipotezi (H1): En az iki grup arasında ortalama farkı vardır. Bu, gruplardan en az birinin diğerlerinden farklı bir popülasyonun parçası olduğunu gösterir."
   ]
  },
  {
   "cell_type": "code",
   "execution_count": 62,
   "id": "46c415f9",
   "metadata": {},
   "outputs": [
    {
     "name": "stdout",
     "output_type": "stream",
     "text": [
      "F-Statistic: 4.4228 \tP-Value: 0.0372\n"
     ]
    }
   ],
   "source": [
    "from scipy.stats import f_oneway\n",
    "# Prepare the data for ANOVA\n",
    "anova_results = {}\n",
    "df_f_oneway=df[df[\"Age Group\"] != \"All ages\"][\"Value\"]\n",
    "df2_f_oneway=df2[df2[\"Age Group\"] != \"All ages\"][\"Value\"]\n",
    "f_stat, p_value = f_oneway(df_f_oneway, df2_f_oneway)\n",
    "anova_results = {'F-Statistic': f_stat, 'p-value': p_value}\n",
    "print(f\"F-Statistic: {f_stat:.4f}\",f\"\\tP-Value: {p_value:.4f}\")"
   ]
  },
  {
   "cell_type": "code",
   "execution_count": 63,
   "id": "2293a0ec",
   "metadata": {},
   "outputs": [
    {
     "name": "stdout",
     "output_type": "stream",
     "text": [
      "F-Statistic 22.0162 \tP-Value 0.0002 \t\t17 - 24 years\n",
      "F-Statistic 428.5690 \tP-Value 0.0000 \t\t25 - 29 years\n",
      "F-Statistic 5084.0063 \tP-Value 0.0000 \t\t30 - 39 years\n",
      "F-Statistic 86.0949 \tP-Value 0.0000 \t\t40 - 49 years\n",
      "F-Statistic 0.6134 \tP-Value 0.4449 \t\t50 - 59 years\n",
      "F-Statistic 4.4470 \tP-Value 0.0511 \t\t60 - 69 years\n",
      "F-Statistic 1.7742 \tP-Value 0.2015 \t\t70 years and over\n",
      "F-Statistic 48.7577 \tP-Value 0.0000 \t\tAll ages\n",
      "F-Statistic 48.6462 \tP-Value 0.0000 \t\tUnder 17 years\n"
     ]
    }
   ],
   "source": [
    "# Prepare the data for ANOVA\n",
    "anova_results = {}\n",
    "#age_groups = df[\"Age Group\"].unique()\n",
    "\n",
    "for age_group in age_groups:\n",
    "    # Get the values for Ireland and Netherlands for this age group\n",
    "    ireland_values = df[df[\"Age Group\"] == age_group][\"Value\"]\n",
    "    netherlands_values = df2[df2[\"Age Group\"] == age_group][\"Value\"]\n",
    "    \n",
    "    # Perform ANOVA (Analysis of Variance) test\n",
    "    f_stat, p_value = f_oneway(ireland_values, netherlands_values)\n",
    "    anova_results[age_group] = {'F-Statistic': f_stat, 'p-value': p_value}\n",
    "    print(f\"F-Statistic {f_stat:.4f}\",f\"\\tP-Value {p_value:.4f}\",f\"\\t\\t{age_group}\")\n"
   ]
  },
  {
   "cell_type": "code",
   "execution_count": null,
   "id": "4077c961",
   "metadata": {},
   "outputs": [],
   "source": []
  },
  {
   "cell_type": "code",
   "execution_count": null,
   "id": "1636743f",
   "metadata": {},
   "outputs": [],
   "source": []
  },
  {
   "cell_type": "markdown",
   "id": "28c014ac",
   "metadata": {},
   "source": [
    "## 4. Mann-Whitney U Testi"
   ]
  },
  {
   "cell_type": "code",
   "execution_count": 64,
   "id": "69eb97fd",
   "metadata": {},
   "outputs": [
    {
     "data": {
      "text/plain": [
       "MannwhitneyuResult(statistic=44.0, pvalue=0.7910815129207817)"
      ]
     },
     "execution_count": 64,
     "metadata": {},
     "output_type": "execute_result"
    }
   ],
   "source": [
    "from scipy.stats import mannwhitneyu\n",
    "\n",
    "# Selecting the data for the year 2014 from both datasets\n",
    "ireland_2014 = df[df[\"Year\"] == 2014][\"Value\"]\n",
    "netherlands_2014 = df2[df2[\"Year\"] == 2014][\"Value\"]\n",
    "\n",
    "# Performing Mann-Whitney U Test between Ireland and Netherlands for the year 2014\n",
    "mannwhitney_test_2014 = mannwhitneyu(ireland_2014, netherlands_2014)\n",
    "\n",
    "mannwhitney_test_2014\n"
   ]
  },
  {
   "cell_type": "code",
   "execution_count": 65,
   "id": "fa5a2b21",
   "metadata": {},
   "outputs": [
    {
     "name": "stdout",
     "output_type": "stream",
     "text": [
      "2014 = MannwhitneyuResult(statistic=44.0, pvalue=0.7910815129207817)\n",
      "2015 = MannwhitneyuResult(statistic=44.0, pvalue=0.7910815129207817)\n",
      "2016 = MannwhitneyuResult(statistic=46.0, pvalue=0.6588432549492806)\n",
      "2017 = MannwhitneyuResult(statistic=46.0, pvalue=0.6588432549492806)\n",
      "2018 = MannwhitneyuResult(statistic=46.0, pvalue=0.6588432549492806)\n",
      "2019 = MannwhitneyuResult(statistic=47.0, pvalue=0.5962416305866567)\n",
      "2020 = MannwhitneyuResult(statistic=48.0, pvalue=0.5364994693194564)\n",
      "2021 = MannwhitneyuResult(statistic=49.0, pvalue=0.47992869214595724)\n",
      "2022 = MannwhitneyuResult(statistic=50.0, pvalue=0.42677673653298365)\n"
     ]
    }
   ],
   "source": [
    "from scipy.stats import mannwhitneyu\n",
    "years=df[\"Year\"].unique()\n",
    "# Performing Mann-Whitney U Test between Ireland and Netherlands for the years\n",
    "for year in years:\n",
    "    ireland_years = df[df[\"Year\"] == year][\"Value\"]\n",
    "    netherlands_years = df2[df2[\"Year\"] == year][\"Value\"]\n",
    "    mannwhitney_test_years = mannwhitneyu(ireland_years, netherlands_years)\n",
    "    print(year,\"=\",mannwhitney_test_years)"
   ]
  },
  {
   "cell_type": "code",
   "execution_count": 66,
   "id": "8144317b",
   "metadata": {},
   "outputs": [
    {
     "name": "stdout",
     "output_type": "stream",
     "text": [
      "2014 = MannwhitneyuResult(statistic=35.0, pvalue=0.7984459984459983)\n",
      "2015 = MannwhitneyuResult(statistic=35.0, pvalue=0.7984459984459983)\n",
      "2016 = MannwhitneyuResult(statistic=37.0, pvalue=0.6453768453768453)\n",
      "2017 = MannwhitneyuResult(statistic=37.0, pvalue=0.6453768453768453)\n",
      "2018 = MannwhitneyuResult(statistic=37.0, pvalue=0.6453768453768453)\n",
      "2019 = MannwhitneyuResult(statistic=38.0, pvalue=0.5737373737373737)\n",
      "2020 = MannwhitneyuResult(statistic=39.0, pvalue=0.5053613053613053)\n",
      "2021 = MannwhitneyuResult(statistic=40.0, pvalue=0.4418026418026417)\n",
      "2022 = MannwhitneyuResult(statistic=41.0, pvalue=0.3822843822843822)\n"
     ]
    }
   ],
   "source": [
    "from scipy.stats import mannwhitneyu\n",
    "years=df[\"Year\"].unique()\n",
    "# Performing Mann-Whitney U Test between Ireland and Netherlands for the years \n",
    "df_no_all_ages = df[df[\"Age Group\"] != \"All ages\"]\n",
    "df2_no_all_ages = df2[df2[\"Age Group\"] != \"All ages\"]\n",
    "\n",
    "for year in years:\n",
    "    ireland_years = df_no_all_ages[df_no_all_ages[\"Year\"] == year][\"Value\"]\n",
    "    netherlands_years = df2_no_all_ages[df2_no_all_ages[\"Year\"] == year][\"Value\"]\n",
    "    mannwhitney_test_years = mannwhitneyu(ireland_years, netherlands_years)\n",
    "    print(year,\"=\",mannwhitney_test_years)"
   ]
  },
  {
   "cell_type": "code",
   "execution_count": 67,
   "id": "c4e607d8",
   "metadata": {},
   "outputs": [
    {
     "name": "stdout",
     "output_type": "stream",
     "text": [
      "Results with whole data set\n",
      "mannwhitney Statistic Result= 3813.0\n",
      "mannwhitney p-value Result= 0.0747\n"
     ]
    }
   ],
   "source": [
    "# Performing Mann-Whitney U Test on the entire datasets for 'Value' column\n",
    "mannwhitney_test_result = mannwhitneyu(df['Value'], df2['Value'])\n",
    "print(\"Results with whole data set\")\n",
    "print(f\"mannwhitney Statistic Result= {mannwhitney_test_result.statistic}\")\n",
    "print(f\"mannwhitney p-value Result= {round(mannwhitney_test_result.pvalue,4)}\")"
   ]
  },
  {
   "cell_type": "code",
   "execution_count": 68,
   "id": "8a2d6f39",
   "metadata": {},
   "outputs": [
    {
     "name": "stdout",
     "output_type": "stream",
     "text": [
      "Results with 'All ages' age group removed from the data set\n",
      "mannwhitney Statistic Result= 3084.0\n",
      "mannwhitney p-value Result= 0.0496\n"
     ]
    }
   ],
   "source": [
    "# Performing Mann-Whitney U Test on the entire datasets for 'Value' column\n",
    "\n",
    "df_no_all_ages = df[df[\"Age Group\"] != \"All ages\"]\n",
    "df2_no_all_ages = df2[df2[\"Age Group\"] != \"All ages\"]\n",
    "\n",
    "mannwhitney_test_result_no_all_ages = mannwhitneyu(df_no_all_ages[\"Value\"], df2_no_all_ages[\"Value\"])\n",
    "print(\"Results with 'All ages' age group removed from the data set\")\n",
    "print(f\"mannwhitney Statistic Result= {mannwhitney_test_result_no_all_ages.statistic}\")\n",
    "print(f\"mannwhitney p-value Result= {round(mannwhitney_test_result_no_all_ages.pvalue,4)}\")"
   ]
  },
  {
   "cell_type": "code",
   "execution_count": 69,
   "id": "dc7f7718",
   "metadata": {},
   "outputs": [
    {
     "data": {
      "application/vnd.jupyter.widget-view+json": {
       "model_id": "458f614ceee1453d96f1983d8b79ecdc",
       "version_major": 2,
       "version_minor": 0
      },
      "text/plain": [
       "Dropdown(description='Age Group:', options=('17 - 24 years', '25 - 29 years', '30 - 39 years', '40 - 49 years'…"
      ]
     },
     "metadata": {},
     "output_type": "display_data"
    },
    {
     "data": {
      "application/vnd.jupyter.widget-view+json": {
       "model_id": "9fa3ef9f5a9547d18d3d86f53c837522",
       "version_major": 2,
       "version_minor": 0
      },
      "text/plain": [
       "Output()"
      ]
     },
     "metadata": {},
     "output_type": "display_data"
    }
   ],
   "source": [
    "# Dropdown widget'ları oluşturun\n",
    "age_group_dropdown_mannwhitney = widgets.Dropdown(\n",
    "    options=list(df['Age Group'].unique()),\n",
    "    description='Age Group:',\n",
    "    disabled=False,\n",
    ")\n",
    "\n",
    "# Grafik çıktısını gösterecek bir çıktı alanı yaratın\n",
    "output_mannwhitney = widgets.Output()\n",
    "\n",
    "# Grafik güncelleme fonksiyonu\n",
    "def update_mannwhitney(change):\n",
    "    with output_mannwhitney:\n",
    "        clear_output(wait=True)  # Mevcut çıktıyı temizle\n",
    "        selected_age_group = age_group_dropdown_mannwhitney.value\n",
    "\n",
    "        data_mannwhitney = df[df[\"Age Group\"] == selected_age_group]\n",
    "        data_mannwhitney2 = df2[df2[\"Age Group\"] == selected_age_group]\n",
    "        mannwhitney_test_result= mannwhitneyu(data_mannwhitney['Value'], data_mannwhitney2['Value'])\n",
    "        print(f\"Selected age group= {selected_age_group}\\n\")\n",
    "        print(f\"mannwhitney Statistic Result= {mannwhitney_test_result.statistic}\")\n",
    "        print(f\"mannwhitney p-value Result= {round(mannwhitney_test_result.pvalue,5)}\")\n",
    "# Dropdown widget'larının değişikliklerine göre grafik güncelleme\n",
    "age_group_dropdown_mannwhitney.observe(update_mannwhitney, names='value')\n",
    "\n",
    "# Widget'ları ve çıktı alanını göster\n",
    "display(age_group_dropdown_mannwhitney, output_mannwhitney)\n",
    "update_mannwhitney(None)  # İlk grafik"
   ]
  },
  {
   "cell_type": "code",
   "execution_count": null,
   "id": "acfbba2d",
   "metadata": {},
   "outputs": [],
   "source": []
  },
  {
   "cell_type": "markdown",
   "id": "67e7c868",
   "metadata": {},
   "source": [
    "## 5. Kruskal-Wallis H Testi"
   ]
  },
  {
   "cell_type": "code",
   "execution_count": 70,
   "id": "31bdc0d1",
   "metadata": {},
   "outputs": [
    {
     "data": {
      "text/plain": [
       "KruskalResult(statistic=8.0, pvalue=0.43347012036670896)"
      ]
     },
     "execution_count": 70,
     "metadata": {},
     "output_type": "execute_result"
    }
   ],
   "source": [
    "from scipy.stats import kruskal\n",
    "\n",
    "# Extracting values for different age groups in Ireland for the year 2014\n",
    "age_groups = df['Age Group'].unique()\n",
    "values_by_age_group = [df[(df['Year'] == 2014) & (df['Age Group'] == age)].Value for age in age_groups]\n",
    "\n",
    "# Performing Kruskal-Wallis H Test among different age groups in Ireland for the year 2014\n",
    "kruskal_test = kruskal(*values_by_age_group)\n",
    "\n",
    "kruskal_test"
   ]
  },
  {
   "cell_type": "code",
   "execution_count": 71,
   "id": "596056d0",
   "metadata": {},
   "outputs": [
    {
     "data": {
      "text/plain": [
       "KruskalResult(statistic=138.63665389527466, pvalue=4.274481956243129e-22)"
      ]
     },
     "execution_count": 71,
     "metadata": {},
     "output_type": "execute_result"
    }
   ],
   "source": [
    "# Preparing the data for Kruskal-Wallis H Test\n",
    "# We'll consider each age group in each country as a separate group for the test\n",
    "\n",
    "# Extracting the age groups\n",
    "age_groups = df['Age Group'].unique()\n",
    "\n",
    "# Preparing an empty list to store the values of each group\n",
    "values_by_age_group = []\n",
    "\n",
    "# Extracting values for each age group from both datasets\n",
    "for age_group in age_groups:\n",
    "    if age_group != 'All ages':  # Excluding the 'All ages' group\n",
    "        ireland_values = df[df['Age Group'] == age_group]['Value']\n",
    "        netherlands_values = df2[df2['Age Group'] == age_group]['Value']\n",
    "        \n",
    "        # Appending the values to the list\n",
    "        values_by_age_group.extend([ireland_values, netherlands_values])\n",
    "# Performing Kruskal-Wallis H Test across all age groups and countries\n",
    "kruskal_test_result = kruskal(*values_by_age_group)\n",
    "\n",
    "kruskal_test_result\n"
   ]
  },
  {
   "cell_type": "code",
   "execution_count": 72,
   "id": "aa9b1dd8",
   "metadata": {},
   "outputs": [
    {
     "data": {
      "text/plain": [
       "{'17 - 24 years': {'H_stat': 12.7895, 'p_value': 0.0003},\n",
       " '25 - 29 years': {'H_stat': 12.7895, 'p_value': 0.0003},\n",
       " '30 - 39 years': {'H_stat': 12.7895, 'p_value': 0.0003},\n",
       " '40 - 49 years': {'H_stat': 12.7895, 'p_value': 0.0003},\n",
       " '50 - 59 years': {'H_stat': 0.0019, 'p_value': 0.9648},\n",
       " '60 - 69 years': {'H_stat': 2.1228, 'p_value': 0.1451},\n",
       " '70 years and over': {'H_stat': 1.6394, 'p_value': 0.2004},\n",
       " 'Under 17 years': {'H_stat': 11.5575, 'p_value': 0.0007}}"
      ]
     },
     "execution_count": 72,
     "metadata": {},
     "output_type": "execute_result"
    }
   ],
   "source": [
    "from scipy.stats import kruskal\n",
    "\n",
    "# Filtering out 'All ages' group from both datasets\n",
    "df_filtered = df[df['Age Group'] != 'All ages']\n",
    "df2_filtered = df2[df2['Age Group'] != 'All ages']\n",
    "\n",
    "# Preparing the data for Kruskal-Wallis H Test\n",
    "# Extracting the age groups\n",
    "age_groups = df_filtered['Age Group'].unique()\n",
    "\n",
    "# Re-performing Kruskal-Wallis H Test across all age groups for both countries\n",
    "kruskal_test_results = {}\n",
    "\n",
    "for age_group in age_groups:\n",
    "    ireland_values = df_filtered[df_filtered['Age Group'] == age_group]['Value']\n",
    "    netherlands_values = df2_filtered[df2_filtered['Age Group'] == age_group]['Value']\n",
    "\n",
    "    # Perform Kruskal-Wallis H test for this age group\n",
    "    H_stat, p_value = kruskal(ireland_values, netherlands_values)\n",
    "    kruskal_test_results[age_group] = {'H_stat': round(H_stat,4), 'p_value': round(p_value,4)}\n",
    "\n",
    "kruskal_test_results\n"
   ]
  },
  {
   "cell_type": "code",
   "execution_count": null,
   "id": "96dede8b",
   "metadata": {},
   "outputs": [],
   "source": []
  },
  {
   "cell_type": "code",
   "execution_count": null,
   "id": "424e7058",
   "metadata": {},
   "outputs": [],
   "source": []
  },
  {
   "cell_type": "markdown",
   "id": "beb7bbc0",
   "metadata": {},
   "source": [
    "## 6. Spearman'ın Sıra Korelasyonu"
   ]
  },
  {
   "cell_type": "code",
   "execution_count": 73,
   "id": "da025639",
   "metadata": {},
   "outputs": [
    {
     "data": {
      "text/plain": [
       "SignificanceResult(statistic=1.0, pvalue=0.0)"
      ]
     },
     "execution_count": 73,
     "metadata": {},
     "output_type": "execute_result"
    }
   ],
   "source": [
    "from scipy.stats import spearmanr\n",
    "\n",
    "# Calculating the total number of licences per year in Ireland\n",
    "total_licences_per_year_ireland = df.groupby('Year')['Value'].sum()\n",
    "\n",
    "# Performing Spearman's rank correlation between years and total licences in Ireland\n",
    "spearman_correlation = spearmanr(total_licences_per_year_ireland.index, total_licences_per_year_ireland)\n",
    "\n",
    "spearman_correlation\n"
   ]
  },
  {
   "cell_type": "code",
   "execution_count": null,
   "id": "d522d048",
   "metadata": {},
   "outputs": [],
   "source": []
  },
  {
   "cell_type": "markdown",
   "id": "f87da4f6",
   "metadata": {},
   "source": [
    "# Machine Learning"
   ]
  },
  {
   "cell_type": "markdown",
   "id": "bd89be06",
   "metadata": {},
   "source": [
    "## Random Forest Regressor"
   ]
  },
  {
   "cell_type": "code",
   "execution_count": 74,
   "id": "a483e7a4",
   "metadata": {},
   "outputs": [
    {
     "name": "stdout",
     "output_type": "stream",
     "text": [
      "<bound method NDFrame.head of     Year          Age Group    Value\n",
      "0   2014      17 - 24 years   237524\n",
      "1   2014      25 - 29 years   245595\n",
      "2   2014      30 - 39 years   629313\n",
      "3   2014      40 - 49 years   568308\n",
      "4   2014      50 - 59 years   454946\n",
      "..   ...                ...      ...\n",
      "76  2022      50 - 59 years   601477\n",
      "77  2022      60 - 69 years   452487\n",
      "78  2022  70 years and over   367798\n",
      "79  2022           All ages  3325487\n",
      "80  2022     Under 17 years     2243\n",
      "\n",
      "[81 rows x 3 columns]>\n",
      "\n",
      "X_train:\n",
      "     Year  Age Group Encoded\n",
      "61  2020                  7\n",
      "55  2020                  1\n",
      "40  2018                  4\n",
      "9   2015                  0\n",
      "64  2021                  1\n",
      "\n",
      "y_train:\n",
      " 61    3089212\n",
      "55     227585\n",
      "40     508060\n",
      "9      238607\n",
      "64     238710\n",
      "Name: Value, dtype: int32\n",
      "\n"
     ]
    }
   ],
   "source": [
    "# Importing necessary libraries\n",
    "import pandas as pd\n",
    "from sklearn.preprocessing import LabelEncoder\n",
    "from sklearn.ensemble import RandomForestRegressor\n",
    "from sklearn.model_selection import train_test_split, GridSearchCV\n",
    "from sklearn.metrics import mean_squared_error, r2_score\n",
    "\n",
    "# copy the dataset\n",
    "df_RFR = df.copy()\n",
    "\n",
    "# Encode the 'Age Group' categorical data to numeric\n",
    "label_encoder = LabelEncoder()\n",
    "df_RFR[\"Age Group Encoded\"] = label_encoder.fit_transform(df_RFR[\"Age Group\"])\n",
    "\n",
    "# Selecting features and target variable\n",
    "X = df_RFR[[\"Year\", \"Age Group Encoded\"]]  # Features\n",
    "y = df_RFR[\"Value\"]  # Target variable\n",
    "\n",
    "# Split the data into training and testing sets\n",
    "X_train, X_test, y_train, y_test = train_test_split(X, y, test_size=0.2, random_state=42)\n",
    "\n",
    "print(f\"{df.head}\\n\")\n",
    "print(\"X_train:\\n\",f\"{X_train.head()}\\n\")\n",
    "print(\"y_train:\\n\",f\"{y_train.head()}\\n\")"
   ]
  },
  {
   "cell_type": "code",
   "execution_count": 75,
   "id": "369b12fc",
   "metadata": {},
   "outputs": [
    {
     "name": "stdout",
     "output_type": "stream",
     "text": [
      "Parameter Grid:\n",
      "{'n_estimators': [50, 70, 100, 200], 'max_depth': [None, 20, 30, 40], 'min_samples_split': [2, 4, 5, 6]}\n",
      "\n"
     ]
    }
   ],
   "source": [
    "# Defining the Random Forest Regressor\n",
    "rf = RandomForestRegressor(random_state=42)\n",
    "\n",
    "# Defining the parameter grid\n",
    "param_grid = {\n",
    "    \"n_estimators\": [50, 70, 100, 200],  # Number of trees in the forest\n",
    "    \"max_depth\": [None, 20, 30, 40],     # Maximum depth of the trees\n",
    "    \"min_samples_split\": [2, 4, 5, 6]   # Minimum number of samples required to split an internal node\n",
    "}\n",
    "\n",
    "print(f\"Parameter Grid:\\n{param_grid}\\n\") # Printing the parameter grid"
   ]
  },
  {
   "cell_type": "code",
   "execution_count": 76,
   "id": "404396eb",
   "metadata": {},
   "outputs": [
    {
     "data": {
      "text/plain": [
       "{'max_depth': None, 'min_samples_split': 2, 'n_estimators': 200}"
      ]
     },
     "execution_count": 76,
     "metadata": {},
     "output_type": "execute_result"
    }
   ],
   "source": [
    "# Create GridSearchCV object with the Random Forest Regressor and the defined parameter grid\n",
    "grid_search_rf = GridSearchCV(estimator=rf, param_grid=param_grid, cv=5, scoring=\"neg_mean_squared_error\", n_jobs=-1)\n",
    "\n",
    "# Fit the GridSearchCV object to the training data to find the best parameters\n",
    "grid_search_rf.fit(X_train, y_train)\n",
    "\n",
    "# Extract the best parameters from GridSearchCV\n",
    "best_params_rf = grid_search_rf.best_params_\n",
    "best_params_rf"
   ]
  },
  {
   "cell_type": "markdown",
   "id": "9d33cb77",
   "metadata": {},
   "source": [
    "\"RMSE, Root Mean Square Error, is a measure of how much the predictions of a model deviate from the actual values. Typically, a lower RMSE value indicates better model performance.\n",
    "\n",
    "R-squared (R²), on the other hand, is an indicator of how much variance in the dependent variable is explained by the independent variables. It takes values between 0 and 1, with a higher R² indicating that the model explains the data better."
   ]
  },
  {
   "cell_type": "code",
   "execution_count": 77,
   "id": "9a36638a",
   "metadata": {},
   "outputs": [
    {
     "data": {
      "text/plain": [
       "(33727.58129332596, 0.9976727405573973)"
      ]
     },
     "execution_count": 77,
     "metadata": {},
     "output_type": "execute_result"
    }
   ],
   "source": [
    "# Extract the best parameters from GridSearchCV\n",
    "best_params_rf = grid_search_rf.best_params_\n",
    "\n",
    "# Create a new Random Forest Regressor with the best parameters\n",
    "best_rf_model = RandomForestRegressor(\n",
    "    n_estimators=best_params_rf[\"n_estimators\"],\n",
    "    max_depth=best_params_rf[\"max_depth\"],\n",
    "    min_samples_split=best_params_rf[\"min_samples_split\"],\n",
    "    random_state=42\n",
    ")\n",
    "\n",
    "# Fit the model with the best parameters to the training data\n",
    "best_rf_model.fit(X_train, y_train)\n",
    "\n",
    "# Predict the values for the test set\n",
    "y_pred_rf = best_rf_model.predict(X_test)\n",
    "\n",
    "# Calculate the performance metrics for the Random Forest model\n",
    "rmse_rf = mean_squared_error(y_test, y_pred_rf, squared=False)\n",
    "r2_rf = r2_score(y_test, y_pred_rf)\n",
    "\n",
    "rmse_rf, r2_rf\n"
   ]
  },
  {
   "cell_type": "code",
   "execution_count": 78,
   "id": "7e8d3d02",
   "metadata": {},
   "outputs": [
    {
     "data": {
      "text/html": [
       "<div>\n",
       "<style scoped>\n",
       "    .dataframe tbody tr th:only-of-type {\n",
       "        vertical-align: middle;\n",
       "    }\n",
       "\n",
       "    .dataframe tbody tr th {\n",
       "        vertical-align: top;\n",
       "    }\n",
       "\n",
       "    .dataframe thead th {\n",
       "        text-align: right;\n",
       "    }\n",
       "</style>\n",
       "<table border=\"1\" class=\"dataframe\">\n",
       "  <thead>\n",
       "    <tr style=\"text-align: right;\">\n",
       "      <th></th>\n",
       "      <th>Actual</th>\n",
       "      <th>Predicted</th>\n",
       "    </tr>\n",
       "  </thead>\n",
       "  <tbody>\n",
       "    <tr>\n",
       "      <th>0</th>\n",
       "      <td>613128</td>\n",
       "      <td>617778.635</td>\n",
       "    </tr>\n",
       "    <tr>\n",
       "      <th>1</th>\n",
       "      <td>237524</td>\n",
       "      <td>241425.880</td>\n",
       "    </tr>\n",
       "    <tr>\n",
       "      <th>2</th>\n",
       "      <td>479959</td>\n",
       "      <td>490892.700</td>\n",
       "    </tr>\n",
       "    <tr>\n",
       "      <th>3</th>\n",
       "      <td>491487</td>\n",
       "      <td>507929.475</td>\n",
       "    </tr>\n",
       "    <tr>\n",
       "      <th>4</th>\n",
       "      <td>239640</td>\n",
       "      <td>237263.480</td>\n",
       "    </tr>\n",
       "  </tbody>\n",
       "</table>\n",
       "</div>"
      ],
      "text/plain": [
       "   Actual   Predicted\n",
       "0  613128  617778.635\n",
       "1  237524  241425.880\n",
       "2  479959  490892.700\n",
       "3  491487  507929.475\n",
       "4  239640  237263.480"
      ]
     },
     "execution_count": 78,
     "metadata": {},
     "output_type": "execute_result"
    }
   ],
   "source": [
    "# Creating a DataFrame for the predicted values\n",
    "predicted_df_RFR = pd.DataFrame({\"Actual\": y_test, \"Predicted\": y_pred_rf})\n",
    "\n",
    "# Resetting the index of the DataFrame\n",
    "predicted_df_RFR.reset_index(drop=True, inplace=True)\n",
    "\n",
    "# Displaying the first few rows of the DataFrame\n",
    "predicted_df_RFR.head()"
   ]
  },
  {
   "cell_type": "code",
   "execution_count": 79,
   "id": "838b5d74",
   "metadata": {},
   "outputs": [
    {
     "data": {
      "application/vnd.jupyter.widget-view+json": {
       "model_id": "51647b4eed7442879d0feaf48c26a15f",
       "version_major": 2,
       "version_minor": 0
      },
      "text/plain": [
       "Dropdown(description='Year:', options=(2014, 2015, 2016, 2017, 2018, 2019, 2020, 2021, 2022), value=2014)"
      ]
     },
     "metadata": {},
     "output_type": "display_data"
    },
    {
     "data": {
      "application/vnd.jupyter.widget-view+json": {
       "model_id": "e1eb14f692cd43f09256d8425ffe1b06",
       "version_major": 2,
       "version_minor": 0
      },
      "text/plain": [
       "Output()"
      ]
     },
     "metadata": {},
     "output_type": "display_data"
    }
   ],
   "source": [
    "import matplotlib.pyplot as plt\n",
    "import numpy as np\n",
    "import pandas as pd\n",
    "from ipywidgets import widgets\n",
    "from IPython.display import display, clear_output\n",
    "\n",
    "# Creating a Dropdown widget for selecting the year\n",
    "year_dropdown_RFR = widgets.Dropdown(\n",
    "    options=df[\"Year\"].unique(),\n",
    "    description=\"Year:\",\n",
    "    disabled=False,\n",
    ")\n",
    "\n",
    "# Creating an output area to display the plot\n",
    "output_RFR = widgets.Output()\n",
    "\n",
    "# Function to update the plot\n",
    "def update_RFR(change):\n",
    "    with output_RFR:\n",
    "        clear_output(wait=True)  # Clear the current output\n",
    "        selected_year_RFR = year_dropdown_RFR.value\n",
    "        # We assume that \"Age Group Encoded\" ranges from 0 to the max value seen in the training set\n",
    "        age_groups_encoded = np.arange(df_RFR[\"Age Group Encoded\"].max() + 1)\n",
    "        year_predict = np.full(shape=age_groups_encoded.shape, fill_value=selected_year_RFR)\n",
    "        \n",
    "        # Create a new DataFrame for the selected year predictions\n",
    "        predict_df = pd.DataFrame({\n",
    "            \"Year\": year_predict,\n",
    "            \"Age Group Encoded\": age_groups_encoded\n",
    "        })\n",
    "\n",
    "        # Use the best Random Forest model to predict the 'Value' for each age group in selected_year_RFR\n",
    "        predicted_values = best_rf_model.predict(predict_df)\n",
    "\n",
    "        # Use the last known value for each age group as a placeholder for the true value.\n",
    "        true_values = df[df[\"Year\"] == selected_year_RFR][\"Value\"].values\n",
    "\n",
    "        # Add the predictions to the DataFrame\n",
    "        predict_df[\"Predicted Value\"] = predicted_values.astype(int)\n",
    "\n",
    "        # Compute error (absolute difference) between the true and predicted values\n",
    "        predict_df[\"True Value\"] = true_values\n",
    "        predict_df[\"Error\"] = (abs(predict_df[\"Predicted Value\"] - predict_df[\"True Value\"])).astype(int)\n",
    "        predict_df[\"Error Percentage\"] = ((predict_df[\"Error\"] / predict_df[\"True Value\"]) * 100).round(2)\n",
    "        predict_df[\"Age Group\"] = label_encoder.inverse_transform(predict_df[\"Age Group Encoded\"])\n",
    "        \n",
    "        # Display the table\n",
    "        prediction_table = predict_df[[\"Year\", \"Age Group\", \"True Value\", \"Predicted Value\", \"Error\",\"Error Percentage\"]]\n",
    "\n",
    "        # Returning the prediction table\n",
    "        display(prediction_table)\n",
    "\n",
    "# Observing changes in the Dropdown widgets to update the plot\n",
    "year_dropdown_RFR.observe(update_RFR, names=\"value\")\n",
    "\n",
    "# Display the Dropdown widgets and the output area\n",
    "display(year_dropdown_RFR, output_RFR)\n",
    "update_RFR(None)  # Initial plot\n"
   ]
  },
  {
   "cell_type": "code",
   "execution_count": 80,
   "id": "706ec4df",
   "metadata": {},
   "outputs": [],
   "source": [
    "import matplotlib.pyplot as plt\n",
    "import numpy as np\n",
    "\n",
    "# We assume that 'Age Group Encoded' ranges from 0 to the max value seen in the training set\n",
    "age_groups_encoded = np.arange(df_RFR[\"Age Group Encoded\"].max() + 1)\n",
    "year_2022 = np.full(shape=age_groups_encoded.shape, fill_value=2022)\n",
    "\n",
    "# Create a new DataFrame for the year 2022 predictions\n",
    "predict_df = pd.DataFrame({\n",
    "    \"Year\": year_2022,\n",
    "    \"Age Group Encoded\": age_groups_encoded\n",
    "})\n",
    "\n",
    "# Use the best Random Forest model to predict the 'Value' for each age group in 2022\n",
    "predicted_values_2022 = best_rf_model.predict(predict_df)\n",
    "\n",
    "# Here, we'll use the last known value for each age group as a placeholder for the true value.\n",
    "# Compute error (absolute difference) between the true and predicted values\n",
    "# Add the predictions to the DataFrame\n",
    "predict_df[\"Predicted Value\"] = predicted_values_2022.astype(int)\n",
    "true_values_2022 = df[df[\"Year\"] == 2022][\"Value\"].values\n",
    "predict_df[\"True Value\"] = true_values_2022\n",
    "predict_df[\"Error\"] = abs(predict_df[\"Predicted Value\"] - predict_df[\"True Value\"]).astype(int)"
   ]
  },
  {
   "cell_type": "code",
   "execution_count": 81,
   "id": "c2509747",
   "metadata": {},
   "outputs": [
    {
     "data": {
      "image/png": "[encoded data removed]",
      "text/plain": [
       "<Figure size 1400x700 with 1 Axes>"
      ]
     },
     "metadata": {},
     "output_type": "display_data"
    }
   ],
   "source": [
    "# Plotting the results\n",
    "plt.figure(figsize=(14, 7))\n",
    "plt.plot(age_groups_encoded, true_values_2022, label=\"Actual Value\", color=\"blue\", marker=\"o\")\n",
    "plt.plot(age_groups_encoded, predicted_values_2022, label=\"Predicted Value\", color=\"red\", linestyle=\"--\", marker=\"x\")\n",
    "plt.title(\"Actual vs Predicted Values for Each Age Group in 2022\")\n",
    "plt.xlabel(\"Age Group\")\n",
    "plt.ylabel(\"Value\")\n",
    "plt.xticks(ticks=age_groups_encoded, labels=label_encoder.inverse_transform(age_groups_encoded), rotation=45)\n",
    "plt.legend()\n",
    "plt.grid(True)\n",
    "plt.tight_layout()\n",
    "\n",
    "plt.show()\n"
   ]
  },
  {
   "cell_type": "code",
   "execution_count": 82,
   "id": "9ea6da36",
   "metadata": {},
   "outputs": [
    {
     "data": {
      "application/vnd.jupyter.widget-view+json": {
       "model_id": "38d50e38fa224afab8aa2409c68efff5",
       "version_major": 2,
       "version_minor": 0
      },
      "text/plain": [
       "Dropdown(description='Year:', options=('17 - 24 years', '25 - 29 years', '30 - 39 years', '40 - 49 years', '50…"
      ]
     },
     "metadata": {},
     "output_type": "display_data"
    },
    {
     "data": {
      "application/vnd.jupyter.widget-view+json": {
       "model_id": "a2a191adb5f14a09a19b14f18b965cd4",
       "version_major": 2,
       "version_minor": 0
      },
      "text/plain": [
       "Output()"
      ]
     },
     "metadata": {},
     "output_type": "display_data"
    }
   ],
   "source": [
    "# Creating a Dropdown widget for selecting the year\n",
    "dropdown_RFR_age = widgets.Dropdown(\n",
    "    options=df_RFR[\"Age Group\"].unique(),\n",
    "    description=\"Year:\",\n",
    "    disabled=False,\n",
    ")\n",
    "\n",
    "# Creating an output area to display the plot\n",
    "output_RFR_age = widgets.Output()\n",
    "def update_RFR_age(change):\n",
    "    with output_RFR_age:\n",
    "        clear_output(wait=True)  # Clear the current output\n",
    "        selected_RFR_age = dropdown_RFR_age.value\n",
    "        \n",
    "        # Encode the selected age group using the label encoder\n",
    "        selected_age_group_encoded = label_encoder.transform([selected_RFR_age])[0]\n",
    "        years_RFR_age = df_RFR[\"Year\"].unique()\n",
    "\n",
    "        # Reconstruct the \"all_predictions\" DataFrame for the selected age group across all years\n",
    "        all_predictions_df_RFR_age = []\n",
    "        for year in years_RFR_age:\n",
    "            year_array = np.full(shape=(1,), fill_value=year)\n",
    "            age_group_encoded = label_encoder.transform([selected_RFR_age])\n",
    "            predict_df_RFR_age = pd.DataFrame({\n",
    "                \"Year\": year_array,\n",
    "                \"Age Group Encoded\": age_group_encoded\n",
    "            })\n",
    "            predicted_value_RFR_age = best_rf_model.predict(predict_df_RFR_age)\n",
    "            true_value = df_RFR[(df_RFR[\"Year\"] == year) & \n",
    "                                      (df_RFR[\"Age Group Encoded\"] == selected_age_group_encoded)][\"Value\"].values\n",
    "            # Use the predicted value if no actual value is present for that year\n",
    "            true_value = true_value[0] if true_value.size > 0 else predicted_value_RFR_age[0]\n",
    "            all_predictions_df_RFR_age.append((year, true_value, predicted_value_RFR_age[0]))\n",
    "\n",
    "        # Create a DataFrame from the predictions to facilitate plotting\n",
    "        predictions_df_RFR_age = pd.DataFrame(all_predictions_df_RFR_age, columns=['Year', 'Actual Value', 'Predicted Value RFR'])\n",
    "\n",
    "        # Plot a bar chart comparing the actual and predicted values\n",
    "        plt.figure(figsize=(14, 7))\n",
    "        width = 0.35  # Bar width\n",
    "        plt.bar(predictions_df_RFR_age[\"Year\"] - width/2, predictions_df_RFR_age[\"Actual Value\"], width, label=\"Actual Values\", color=\"blue\")\n",
    "        plt.bar(predictions_df_RFR_age[\"Year\"] + width/2, predictions_df_RFR_age[\"Predicted Value RFR\"], width, label=\"Predicted Values RFR\", color=\"red\")\n",
    "\n",
    "        plt.title(f\"Actual vs Predicted Population Values for {selected_RFR_age} Over the Years\")\n",
    "        plt.xlabel(\"Year\")\n",
    "        plt.ylabel(\"Population Value RFR\")\n",
    "        plt.xticks(predictions_df_RFR_age[\"Year\"], rotation=45)\n",
    "        plt.legend()\n",
    "        plt.grid(True)\n",
    "        plt.tight_layout()\n",
    "        plt.show()\n",
    "\n",
    "# Set up observation for changes in the Dropdown widget to update the plot accordingly\n",
    "dropdown_RFR_age.observe(update_RFR_age, names=\"value\")\n",
    "\n",
    "# Display the Dropdown widgets and the output area\n",
    "display(dropdown_RFR_age, output_RFR_age)\n",
    "update_RFR_age(None)  # Initial plot"
   ]
  },
  {
   "cell_type": "markdown",
   "id": "e407f0e5",
   "metadata": {},
   "source": [
    "The graph comparing actual and predicted values for each age group in 2022 shows that the model's predictions closely align with the actual data for most age groups. This suggests that the model has learned the distribution well and is able to generalize from the training data to make accurate predictions. However, there is a significant deviation in the prediction for the 'All ages' category. This deviation indicates a potential area for improvement, which could involve examining the features that contribute to this prediction and considering any data anomalies or external factors that might affect the model's performance.\n",
    "\n",
    "For a detailed analysis, it would be important to consider factors such as changes in population demographics, policy changes affecting licensing, and economic factors that could influence the number of license holders. These factors could provide insights into why certain predictions may not align with actual values and could inform further model refinement.\n",
    "\n",
    "Overall, the Random Forest model appears to have performed well, with high accuracy for most age groups. To build on this analysis, further steps could include performing cross-validation to assess the model's stability, checking feature importance to understand the drivers of the model's predictions, and exploring model explainability tools to gain deeper insights into how the model is making its decisions. These additional analyses would provide a more comprehensive understanding of the model's performance and areas for improvement."
   ]
  },
  {
   "cell_type": "markdown",
   "id": "982a5887",
   "metadata": {},
   "source": [
    "## Gradient Boosting Regresyon "
   ]
  },
  {
   "cell_type": "code",
   "execution_count": 83,
   "id": "a3b72636",
   "metadata": {},
   "outputs": [
    {
     "data": {
      "text/plain": [
       "((64, 2), (17, 2))"
      ]
     },
     "execution_count": 83,
     "metadata": {},
     "output_type": "execute_result"
    }
   ],
   "source": [
    "from sklearn.model_selection import train_test_split\n",
    "from sklearn.preprocessing import LabelEncoder\n",
    "\n",
    "# Convert categorical data to a numerical format\n",
    "label_encoder = LabelEncoder()\n",
    "df_GBR = df.copy()\n",
    "df_GBR[\"Age Group Encoded\"] = label_encoder.fit_transform(df_GBR[\"Age Group\"])\n",
    "\n",
    "# Separate features and target variable\n",
    "X = df_GBR[[\"Year\", \"Age Group Encoded\"]]  # The features include the year and the encoded age group\n",
    "y = df_GBR[\"Value\"]  # The target variable is the 'Value' column which we want to predict\n",
    "\n",
    "# Split the data into training and test sets\n",
    "X_train, X_test, y_train, y_test = train_test_split(X, y, test_size=0.2, random_state=42)\n",
    "# 80% of the data will be used for training and 20% for testing\n",
    "\n",
    "# Check the dimensions of the training and test sets\n",
    "X_train_shape, X_test_shape = X_train.shape, X_test.shape\n",
    "# This will show us the number of samples and features in the training and test sets\n",
    "\n",
    "X_train_shape, X_test_shape\n"
   ]
  },
  {
   "cell_type": "markdown",
   "id": "d89ff7c5",
   "metadata": {},
   "source": [
    "ilk adim olarak veri hariligini gerçekleştirdim.\n",
    "\n",
    "Veri setinden model için uygun özelliklerin seçilmesi icin özellik mühendisliği uyguladim.\"Year\" ve \"Age Group\" sütunlarını özellik olarak kullandim, ancak \"Age Group\" sütunu kategorik veri içeriyor. Bu nedenle, bu sütunu sayısal bir formata dönüştürdum.\n",
    "\n",
    "- \"Age Group\" sütunu, Label Encoder kullanılarak sayısal bir formata dönüştürdum.\n",
    "- Özellikler (X) olarak \"Year\" ve dönüştürülmüş \"Age Group Encoded\" sütunlarıni seçitim. Hedef değişken (y) olarak \"Value\" sütununu kullandim.\n",
    "- Veri seti, %80 eğitim ve %20 test olacak şekilde ikiye ayirdim."
   ]
  },
  {
   "cell_type": "code",
   "execution_count": 84,
   "id": "63f2d711",
   "metadata": {},
   "outputs": [
    {
     "data": {
      "text/plain": [
       "{'alpha': 0.9,\n",
       " 'ccp_alpha': 0.0,\n",
       " 'criterion': 'friedman_mse',\n",
       " 'init': None,\n",
       " 'learning_rate': 0.1,\n",
       " 'loss': 'squared_error',\n",
       " 'max_depth': 3,\n",
       " 'max_features': None,\n",
       " 'max_leaf_nodes': None,\n",
       " 'min_impurity_decrease': 0.0,\n",
       " 'min_samples_leaf': 1,\n",
       " 'min_samples_split': 2,\n",
       " 'min_weight_fraction_leaf': 0.0,\n",
       " 'n_estimators': 100,\n",
       " 'n_iter_no_change': None,\n",
       " 'random_state': 42,\n",
       " 'subsample': 1.0,\n",
       " 'tol': 0.0001,\n",
       " 'validation_fraction': 0.1,\n",
       " 'verbose': 0,\n",
       " 'warm_start': False}"
      ]
     },
     "execution_count": 84,
     "metadata": {},
     "output_type": "execute_result"
    }
   ],
   "source": [
    "from sklearn.ensemble import GradientBoostingRegressor\n",
    "\n",
    "# Initialize the Gradient Boosting Regressor model\n",
    "# Use default parameters as a starting point\n",
    "gbr_model = GradientBoostingRegressor(random_state=42)\n",
    "\n",
    "# Display the model parameters\n",
    "model_parameters = gbr_model.get_params()\n",
    "model_parameters"
   ]
  },
  {
   "cell_type": "markdown",
   "id": "f04d2960",
   "metadata": {},
   "source": [
    "Some important parameters that need to be set when creating a Gradient Boosting model include:\n",
    "\n",
    "- n_estimators: The number of weak learners (usually decision trees) to be used in the model. Too many estimators can lead to overfitting, where the model performs well on training data but poorly on unseen data.\n",
    "- learning_rate: Scales the contribution of each weak learner. A lower learning rate may require more estimators but can often lead to better generalization performance.\n",
    "- max_depth: The maximum depth of each decision tree. Increasing depth makes the model more complex, but excessive depth can lead to overfitting.\n",
    "\n",
    "As a starting point, I will set these parameters to their default values. Later on, we might need to adjust these parameters to improve the model's performance. Let's now create the model and set its initial parameters.\n"
   ]
  },
  {
   "cell_type": "code",
   "execution_count": 85,
   "id": "46337939",
   "metadata": {},
   "outputs": [
    {
     "data": {
      "text/plain": [
       "0.999961403971959"
      ]
     },
     "execution_count": 85,
     "metadata": {},
     "output_type": "execute_result"
    }
   ],
   "source": [
    "from sklearn.ensemble import GradientBoostingRegressor\n",
    "\n",
    "# Training the Gradient Boosting Regressor model\n",
    "gbr_model.fit(X_train, y_train)\n",
    "\n",
    "# Evaluating the model's performance on the training dataset\n",
    "train_score = gbr_model.score(X_train, y_train)\n",
    "train_score"
   ]
  },
  {
   "cell_type": "markdown",
   "id": "f7010cd5",
   "metadata": {},
   "source": [
    "In this step, I trained the model on the training dataset that we previously set aside.\n",
    "\n",
    "The Gradient Boosting Regressor model was trained on the training dataset. The R² score, which measures the model's performance on the training set, was approximately 0.9999. This indicates that the model fits almost perfectly to the training data.\n",
    "\n",
    "However, such a high score might also suggest that the model could be overfitting the training data. To understand the model's true performance, it's important to evaluate it on the test dataset as well. Additionally, techniques like cross-validation can be used to better understand the model's ability to generalize.\n"
   ]
  },
  {
   "cell_type": "code",
   "execution_count": 86,
   "id": "962b2574",
   "metadata": {},
   "outputs": [
    {
     "name": "stdout",
     "output_type": "stream",
     "text": [
      "Mean Squared Error (MSE):1812648178.14\n",
      "Mean Absolute Error (MAE): 17304.26\n",
      "R-squared (R2): 1.00\n"
     ]
    }
   ],
   "source": [
    "from sklearn.metrics import mean_squared_error, mean_absolute_error, r2_score\n",
    "\n",
    "# Making predictions on the test dataset\n",
    "y_pred = gbr_model.predict(X_test)\n",
    "\n",
    "# Evaluating the model's performance on the test set\n",
    "mse = mean_squared_error(y_test, y_pred)  # Mean Squared Error (MSE)\n",
    "mae = mean_absolute_error(y_test, y_pred)  # Mean Absolute Error (MAE)\n",
    "r2 = r2_score(y_test, y_pred)  # R-squared (R2)\n",
    "\n",
    "print(f\"Mean Squared Error (MSE):{mse:.2f}\")\n",
    "print(f\"Mean Absolute Error (MAE): {mae:.2f}\")\n",
    "print(f\"R-squared (R2): {r2:.2f}\")"
   ]
  },
  {
   "cell_type": "markdown",
   "id": "da428d27",
   "metadata": {},
   "source": [
    "The model's performance on the test dataset is indicated by the following metrics:\n",
    "\n",
    "- Mean Squared Error (MSE): 1,812,648,178.14 This is a measure of the average squared difference between the estimated values and the actual value.\n",
    "\n",
    "- Mean Absolute Error (MAE): 17,304.26 This represents the average absolute difference between the predicted values and the actual values, indicating the average magnitude of the errors in a set of predictions.\n",
    "\n",
    "- R² Score: 0.9963 The R² score indicates that the model explains approximately 99.63% of the variance in the test dataset, which is a sign of a very good fit.\n",
    "\n",
    "These results show that the model also performs quite well on the test dataset. The high R² score suggests a strong ability to explain the variance in the test data.\n",
    "\n",
    "Overall, we can say that the model demonstrates high performance on both the training and test sets. However, it's important to consider the possibility of overfitting to the training data. To better understand and mitigate this, adjusting the model's hyperparameters and employing techniques like cross-validation can be beneficial.\n"
   ]
  },
  {
   "cell_type": "code",
   "execution_count": 87,
   "id": "12bc841e",
   "metadata": {},
   "outputs": [
    {
     "data": {
      "text/plain": [
       "({'learning_rate': 0.2, 'max_depth': 3, 'n_estimators': 150},\n",
       " 0.9960777193105312)"
      ]
     },
     "execution_count": 87,
     "metadata": {},
     "output_type": "execute_result"
    }
   ],
   "source": [
    "from sklearn.model_selection import GridSearchCV\n",
    "\n",
    "# Defining the ranges for hyperparameters\n",
    "param_grid = {\n",
    "    \"n_estimators\": [50, 100, 150],  # Number of weak learners (trees) to try\n",
    "    \"learning_rate\": [0.01, 0.1, 0.2],  # Learning rate values to test\n",
    "    \"max_depth\": [3, 4, 5]  # Maximum depth of trees to experiment with\n",
    "}\n",
    "\n",
    "# Hyperparameter tuning using Grid Search\n",
    "grid_search = GridSearchCV(estimator=gbr_model, param_grid=param_grid, cv=3, n_jobs=-1, scoring=\"r2\")\n",
    "grid_search.fit(X_train, y_train)\n",
    "\n",
    "# Finding the best parameters and score\n",
    "best_params = grid_search.best_params_  # The combination of parameters that gave the best results\n",
    "best_score = grid_search.best_score_    # The best score achieved with these parameters\n",
    "\n",
    "best_params, best_score\n"
   ]
  },
  {
   "cell_type": "markdown",
   "id": "4e407e26",
   "metadata": {},
   "source": [
    "In this step, we examined parameters like n_estimators, learning_rate, and max_depth. After determining the combination of parameters that provided the best results, I retrained the model with these parameters.\n",
    "\n",
    "The results of the hyperparameter tuning using the Grid Search method are as follows: Best Parameters:\n",
    "- learning_rate: 0.2\n",
    "- max_depth: 3\n",
    "- n_estimators: 150\n",
    "\n",
    "The best R² score achieved with these parameters is: 0.9961\n",
    "\n",
    "These results indicate that the specified combination of hyperparameters maximizes the model's performance on the training dataset. With these parameters, the model can explain approximately 99.61% of the variance in the training set."
   ]
  },
  {
   "cell_type": "code",
   "execution_count": 88,
   "id": "4f2d7b9f",
   "metadata": {},
   "outputs": [
    {
     "data": {
      "text/plain": [
       "(1806179945.9446373, 17872.848557582427, 0.996304821506428)"
      ]
     },
     "execution_count": 88,
     "metadata": {},
     "output_type": "execute_result"
    }
   ],
   "source": [
    "# Recreating the Gradient Boosting Regressor model with the best parameters\n",
    "best_gbr_model = GradientBoostingRegressor(\n",
    "    n_estimators=best_params[\"n_estimators\"],\n",
    "    learning_rate=best_params[\"learning_rate\"],\n",
    "    max_depth=best_params[\"max_depth\"],\n",
    "    random_state=42\n",
    ")\n",
    "\n",
    "# Retraining the model on the training dataset\n",
    "best_gbr_model.fit(X_train, y_train)\n",
    "\n",
    "# Making predictions on the test dataset and evaluating the model's performance\n",
    "y_pred_best = best_gbr_model.predict(X_test)\n",
    "mse_best = mean_squared_error(y_test, y_pred_best)  # Mean Squared Error for the best model\n",
    "mae_best = mean_absolute_error(y_test, y_pred_best)  # Mean Absolute Error for the best model\n",
    "r2_best = r2_score(y_test, y_pred_best)  # R-squared score for the best model\n",
    "\n",
    "mse_best, mae_best, r2_best\n"
   ]
  },
  {
   "cell_type": "markdown",
   "id": "00095797",
   "metadata": {},
   "source": [
    "The performance evaluation of the Gradient Boosting Regressor model, retrained with the best parameters, on the test dataset is as follows:\n",
    "\n",
    "- Mean Squared Error (MSE): 1,806,179,945.94 This indicates the average squared difference between the estimated values and the actual values. A lower MSE value is preferable, as it indicates better model performance.\n",
    "\n",
    "- Mean Absolute Error (MAE): 17,872.85 This metric represents the average absolute difference between the predicted and actual values, providing a clear measure of average prediction error.\n",
    "\n",
    "- R² Score: 0.9963 The R² score signifies that the model can explain approximately 99.63% of the variance in the test dataset. A higher R² score close to 1 indicates a strong predictive model.\n",
    "\n",
    "These results demonstrate that the model, trained with the best parameters, performs quite well on the test dataset. The R² score shows a high level of explanatory power for the variance in the test data. The MSE and MAE values indicate the magnitude of errors in the model's predictions.\n",
    "\n",
    "Overall, the model trained with the best parameters successfully captures the patterns and relationships in the dataset and achieves a high accuracy rate on the test set. This suggests that the model could be an effective tool for applications like population estimations.\n"
   ]
  },
  {
   "cell_type": "code",
   "execution_count": 89,
   "id": "d8fb9a12",
   "metadata": {},
   "outputs": [
    {
     "data": {
      "application/vnd.jupyter.widget-view+json": {
       "model_id": "07bb35a8a8e84258ab966828ef0026b2",
       "version_major": 2,
       "version_minor": 0
      },
      "text/plain": [
       "Dropdown(description='Year:', options=(2014, 2015, 2016, 2017, 2018, 2019, 2020, 2021, 2022), value=2014)"
      ]
     },
     "metadata": {},
     "output_type": "display_data"
    },
    {
     "data": {
      "application/vnd.jupyter.widget-view+json": {
       "model_id": "bfd792d8570c45a38fe9879ff5fa06cc",
       "version_major": 2,
       "version_minor": 0
      },
      "text/plain": [
       "Output()"
      ]
     },
     "metadata": {},
     "output_type": "display_data"
    }
   ],
   "source": [
    "import matplotlib.pyplot as plt\n",
    "import numpy as np\n",
    "import pandas as pd\n",
    "import ipywidgets as widgets\n",
    "from IPython.display import clear_output, display\n",
    "\n",
    "# Creating a Dropdown widget for selecting the year\n",
    "year_dropdown_GBR = widgets.Dropdown(\n",
    "    options=df_GBR[\"Year\"].unique(),\n",
    "    description=\"Year:\",\n",
    "    disabled=False,\n",
    ")\n",
    "\n",
    "# Create an output area to display the graph output\n",
    "output_GBR = widgets.Output()\n",
    "\n",
    "# Function to update the graph\n",
    "def update_GBR(change):\n",
    "    with output_GBR:\n",
    "        clear_output(wait=True)  # Clear the current output\n",
    "        selected_year_GBR = year_dropdown_GBR.value\n",
    "        \n",
    "        age_groups_encoded = np.arange(df_GBR[\"Age Group Encoded\"].max() + 1)\n",
    "        year_predict_GBR = np.full(shape=age_groups_encoded.shape, fill_value= selected_year_GBR)\n",
    "        \n",
    "        predict_df_GBR = pd.DataFrame({\n",
    "            \"Year\": year_predict_GBR,\n",
    "            \"Age Group Encoded\": age_groups_encoded\n",
    "        })\n",
    "\n",
    "        predicted_values_GBR = best_gbr_model.predict(predict_df_GBR)\n",
    "        \n",
    "        # Here, we'll use the last known value for each age group as a placeholder for the true value.\n",
    "        true_values = df_GBR[df_GBR[\"Year\"] == selected_year_GBR][\"Value\"].values\n",
    "\n",
    "        # Add the predictions to the DataFrame\n",
    "        predict_df_GBR[\"Predicted Value\"] = predicted_values_GBR.astype(int)\n",
    "        \n",
    "        predict_df_GBR[\"True Value\"] = true_values\n",
    "        predict_df_GBR[\"Error\"] = abs(predict_df_GBR[\"Predicted Value\"] - predict_df_GBR[\"True Value\"]).astype(int)\n",
    "        predict_df_GBR[\"Error Percentage\"] = ((predict_df_GBR[\"Error\"] / predict_df_GBR[\"True Value\"]) * 100).round(2)\n",
    "        predict_df_GBR[\"Age Group\"] = label_encoder.inverse_transform(predict_df_GBR[\"Age Group Encoded\"])\n",
    "\n",
    "        # Display the most recently created DataFrame\n",
    "        prediction_table_GBR = predict_df_GBR[[\"Year\", \"Age Group\", \"True Value\", \"Predicted Value\", \"Error\",\"Error Percentage\"]]\n",
    "        display(prediction_table_GBR)\n",
    "\n",
    "# Update the graph according to changes in the Dropdown widgets\n",
    "year_dropdown_GBR.observe(update_GBR, names=\"value\")\n",
    "\n",
    "# Display the widgets and output area\n",
    "display(year_dropdown_GBR, output_GBR)\n",
    "update_GBR(None)  # Initial plot"
   ]
  },
  {
   "cell_type": "code",
   "execution_count": 90,
   "id": "18f0f446",
   "metadata": {},
   "outputs": [
    {
     "data": {
      "image/png": "[encoded data removed]",
      "text/plain": [
       "<Figure size 1400x700 with 1 Axes>"
      ]
     },
     "metadata": {},
     "output_type": "display_data"
    }
   ],
   "source": [
    "# Let's draw a graph for the year 2022, showing both actual data and model predictions.\n",
    "# First, let's make predictions for the year 2022.\n",
    "X_2022 = df_GBR[df_GBR[\"Year\"] == 2022][[\"Year\", \"Age Group\"]]\n",
    "X_2022[\"Age Group Encoded\"] = label_encoder.transform(X_2022[\"Age Group\"])\n",
    "y_2022_pred = best_gbr_model.predict(X_2022[[\"Year\", \"Age Group Encoded\"]])\n",
    "\n",
    "# Get the actual data for the year 2022.\n",
    "y_2022_actual = df_GBR[df_GBR[\"Year\"] == 2022][\"Value\"]\n",
    "\n",
    "# Draw the graph.\n",
    "plt.figure(figsize=(14, 7))\n",
    "plt.plot(X_2022[\"Age Group\"], y_2022_actual, label=\"Actual Values\", color=\"blue\", marker=\"o\")\n",
    "plt.plot(X_2022[\"Age Group\"], y_2022_pred, label=\"Predicted Values\", color=\"red\", linestyle=\"--\", marker=\"x\")\n",
    "plt.title(\"Actual vs Predicted Population Values for Each Age Group in 2022\")\n",
    "plt.xlabel(\"Age Group\")\n",
    "plt.ylabel(\"Population Value\")\n",
    "plt.xticks(rotation=45)\n",
    "plt.legend()\n",
    "plt.grid(True)\n",
    "plt.tight_layout()\n",
    "plt.show()\n"
   ]
  },
  {
   "cell_type": "code",
   "execution_count": 91,
   "id": "1b9f885f",
   "metadata": {},
   "outputs": [
    {
     "data": {
      "application/vnd.jupyter.widget-view+json": {
       "model_id": "c1199770ca664ff59cd3554e016d90ce",
       "version_major": 2,
       "version_minor": 0
      },
      "text/plain": [
       "Dropdown(description='Year:', options=('17 - 24 years', '25 - 29 years', '30 - 39 years', '40 - 49 years', '50…"
      ]
     },
     "metadata": {},
     "output_type": "display_data"
    },
    {
     "data": {
      "application/vnd.jupyter.widget-view+json": {
       "model_id": "fb1ee449636a442b8a70b02754102e8e",
       "version_major": 2,
       "version_minor": 0
      },
      "text/plain": [
       "Output()"
      ]
     },
     "metadata": {},
     "output_type": "display_data"
    }
   ],
   "source": [
    "# Creating a Dropdown widget for selecting the year\n",
    "dropdown_GBR_age = widgets.Dropdown(\n",
    "    options=df_GBR[\"Age Group\"].unique(),\n",
    "    description=\"Year:\",\n",
    "    disabled=False,\n",
    ")\n",
    "\n",
    "# Creating an output area to display the plot\n",
    "output_GBR_age = widgets.Output()\n",
    "def update_GBR_age(change):\n",
    "    with output_GBR_age:\n",
    "        clear_output(wait=True)  # Clear the current output\n",
    "        selected_GBR_age = dropdown_GBR_age.value\n",
    "        \n",
    "        # Encode the selected age group using the label encoder\n",
    "        selected_age_group_encoded = label_encoder.transform([selected_GBR_age])[0]\n",
    "        years_GBR_age = df_GBR[\"Year\"].unique()\n",
    "\n",
    "        # Reconstruct the \"all_predictions\" DataFrame for the selected age group across all years\n",
    "        all_predictions_df_GBR_age = []\n",
    "        for year in years_GBR_age:\n",
    "            year_array = np.full(shape=(1,), fill_value=year)\n",
    "            age_group_encoded = label_encoder.transform([selected_GBR_age])\n",
    "            predict_df_GBR_age = pd.DataFrame({\n",
    "                \"Year\": year_array,\n",
    "                \"Age Group Encoded\": age_group_encoded\n",
    "            })\n",
    "            predicted_value_GBR_age = best_gbr_model.predict(predict_df_GBR_age)\n",
    "            true_value = df_GBR[(df_GBR[\"Year\"] == year) & \n",
    "                                      (df_GBR[\"Age Group Encoded\"] == selected_age_group_encoded)][\"Value\"].values\n",
    "            # Use the predicted value if no actual value is present for that year\n",
    "            true_value = true_value[0] if true_value.size > 0 else predicted_value_GBR_age[0]\n",
    "            all_predictions_df_GBR_age.append((year, true_value, predicted_value_GBR_age[0]))\n",
    "\n",
    "        # Create a DataFrame from the predictions to facilitate plotting\n",
    "        predictions_df_GBR_age = pd.DataFrame(all_predictions_df_GBR_age, columns=[\"Year\", \"Actual Value\", \"Predicted Value GBR\"])\n",
    "\n",
    "        # Plot a bar chart comparing the actual and predicted values\n",
    "        plt.figure(figsize=(14, 7))\n",
    "        width = 0.35  # Bar width\n",
    "        plt.bar(predictions_df_GBR_age[\"Year\"] - width/2, predictions_df_GBR_age[\"Actual Value\"], width, label=\"Actual Values\", color=\"blue\")\n",
    "        plt.bar(predictions_df_GBR_age[\"Year\"] + width/2, predictions_df_GBR_age[\"Predicted Value GBR\"], width, label=\"Predicted Values GBR\", color=\"green\")\n",
    "\n",
    "        plt.title(f\"Actual vs Predicted Population Values for {selected_GBR_age} Over the Years\")\n",
    "        plt.xlabel(\"Year\")\n",
    "        plt.ylabel(\"Population Value GBR\")\n",
    "        plt.xticks(predictions_df_GBR_age[\"Year\"], rotation=45)\n",
    "        plt.legend()\n",
    "        plt.grid(True)\n",
    "        plt.tight_layout()\n",
    "        plt.show()\n",
    "\n",
    "# Set up observation for changes in the Dropdown widget to update the plot accordingly\n",
    "dropdown_GBR_age.observe(update_GBR_age, names=\"value\")\n",
    "\n",
    "# Display the Dropdown widgets and the output area\n",
    "display(dropdown_GBR_age, output_GBR_age)\n",
    "update_GBR_age(None)  # Initial plot"
   ]
  },
  {
   "cell_type": "markdown",
   "id": "95b3daf4",
   "metadata": {},
   "source": [
    "## Compare "
   ]
  },
  {
   "cell_type": "code",
   "execution_count": 92,
   "id": "94e8d936",
   "metadata": {
    "scrolled": false
   },
   "outputs": [
    {
     "data": {
      "application/vnd.jupyter.widget-view+json": {
       "model_id": "0597a2ef53534c32b696513fd64aa053",
       "version_major": 2,
       "version_minor": 0
      },
      "text/plain": [
       "Dropdown(description='Year:', options=('17 - 24 years', '25 - 29 years', '30 - 39 years', '40 - 49 years', '50…"
      ]
     },
     "metadata": {},
     "output_type": "display_data"
    },
    {
     "data": {
      "application/vnd.jupyter.widget-view+json": {
       "model_id": "9243b5623dc04e74b7a680ed92ad4c33",
       "version_major": 2,
       "version_minor": 0
      },
      "text/plain": [
       "Output()"
      ]
     },
     "metadata": {},
     "output_type": "display_data"
    }
   ],
   "source": [
    "# Creating a Dropdown widget for selecting the year\n",
    "dropdown_df_age_compare = widgets.Dropdown(\n",
    "    options=df_GBR[\"Age Group\"].unique(),\n",
    "    description=\"Year:\",\n",
    "    disabled=False,\n",
    ")\n",
    "\n",
    "# Creating an output area to display the plot\n",
    "output_df_age_compare = widgets.Output()\n",
    "def update_df_age_compare(change):\n",
    "    with output_df_age_compare:\n",
    "        clear_output(wait=True)  # Clear the current output\n",
    "        selected_df_age_compare = dropdown_df_age_compare.value\n",
    "        \n",
    "        # Encode the selected age group using the label encoder\n",
    "        selected_age_group_encoded = label_encoder.transform([selected_df_age_compare])[0]\n",
    "        years_df_age_compare = df_GBR[\"Year\"].unique()\n",
    "\n",
    "        # Reconstruct the \"all_predictions\" DataFrame for the selected age group across all years\n",
    "        all_predictions_df_GBR_age_compare = []\n",
    "        for year in years_df_age_compare:\n",
    "            year_array = np.full(shape=(1,), fill_value=year)\n",
    "            age_group_encoded = label_encoder.transform([selected_df_age_compare])\n",
    "            predict_df_GBR_age_compare = pd.DataFrame({\n",
    "                \"Year\": year_array,\n",
    "                \"Age Group Encoded\": age_group_encoded\n",
    "            })\n",
    "            predicted_value_df_GBR_age_compare = best_gbr_model.predict(predict_df_GBR_age_compare)\n",
    "            true_value = df_GBR[(df_GBR[\"Year\"] == year) & \n",
    "                                      (df_GBR[\"Age Group Encoded\"] == selected_age_group_encoded)][\"Value\"].values\n",
    "            # Use the predicted value if no actual value is present for that year\n",
    "            true_value = true_value[0] if true_value.size > 0 else predicted_value_df_GBR_age_compare[0]\n",
    "            all_predictions_df_GBR_age_compare.append((year, true_value, predicted_value_df_GBR_age_compare[0]))\n",
    "\n",
    "        # Create a DataFrame from the predictions to facilitate plotting\n",
    "        predictions_df_GBR_age_compare = pd.DataFrame(all_predictions_df_GBR_age_compare, columns=[\"Year\", \"Actual Value\", \"Predicted Value GBR\"])\n",
    "\n",
    "        all_predictions_df_RFR_age_compare = []\n",
    "        for year in years_df_age_compare:\n",
    "            year_array = np.full(shape=(1,), fill_value=year)\n",
    "            age_group_encoded = label_encoder.transform([selected_df_age_compare])\n",
    "            predict_df_RFR_age_compare = pd.DataFrame({\n",
    "                \"Year\": year_array,\n",
    "                \"Age Group Encoded\": age_group_encoded\n",
    "            })\n",
    "            predicted_value_df_RFR_age_compare = best_rf_model.predict(predict_df_RFR_age_compare)\n",
    "            all_predictions_df_RFR_age_compare.append((year, true_value, predicted_value_df_RFR_age_compare[0]))\n",
    "\n",
    "        # Create a DataFrame from the predictions to facilitate plotting\n",
    "        predictions_df_RFR_age_compare = pd.DataFrame(all_predictions_df_RFR_age_compare, columns=[\"Year\", \"Actual Value\", \"Predicted Value RFR\"])\n",
    "\n",
    "        # Create a DataFrame from the predictions to facilitate plotting\n",
    "        predictions_df_compare = predictions_df_GBR_age_compare.copy()\n",
    "        predictions_df_compare[\"Predicted Value RFR\"] = predictions_df_RFR_age_compare[\"Predicted Value RFR\"].copy()\n",
    "\n",
    "        # Plot a bar chart comparing the actual and predicted values\n",
    "        plt.figure(figsize=(14, 7))\n",
    "        width = 0.2  # Bar width\n",
    "        plt.bar(predictions_df_compare[\"Year\"] - width, predictions_df_compare[\"Actual Value\"], width, label=\"Actual Values\", color=\"blue\")\n",
    "        plt.bar(predictions_df_compare[\"Year\"], predictions_df_compare[\"Predicted Value RFR\"], width, label=\"Predicted Values RFR\", color=\"red\")\n",
    "        plt.bar(predictions_df_compare[\"Year\"] + width, predictions_df_compare[\"Predicted Value GBR\"], width, label=\"Predicted Values GBR\", color=\"green\")\n",
    "        plt.title(f\"Actual vs Predicted Values Random forest vs Gradient Boosting for {selected_df_age_compare} Over the Years\")\n",
    "        plt.xlabel(\"Year\")\n",
    "        plt.ylabel(\"Population Value\")\n",
    "        plt.xticks(predictions_df_compare[\"Year\"], rotation=45)\n",
    "        plt.legend()\n",
    "        plt.grid(True)\n",
    "        plt.tight_layout()\n",
    "        plt.show()\n",
    "\n",
    "# Set up observation for changes in the Dropdown widget to update the plot accordingly\n",
    "dropdown_df_age_compare.observe(update_df_age_compare, names='value')\n",
    "\n",
    "# Display the Dropdown widgets and the output area\n",
    "display(dropdown_df_age_compare, output_df_age_compare)\n",
    "update_df_age_compare(None)  # Initial plot"
   ]
  },
  {
   "cell_type": "markdown",
   "id": "cbf84789",
   "metadata": {},
   "source": [
    "## Sentiment Analysis"
   ]
  },
  {
   "cell_type": "raw",
   "id": "1912ae7d",
   "metadata": {},
   "source": [
    "import praw\n",
    "\n",
    "reddit = praw.Reddit(\n",
    "    client_id=\"bIYyUx9pkrIdPG1hfbZjAQ\",             # My Reddit application's client ID\n",
    "    client_secret=\"xJXIPO2MLhkciCEIkqnlzYDCXq6JtA\", # My Reddit application's client secret\n",
    "    user_agent=\"Current_Driving_Licences\"           # My Reddit application's user agent \n",
    ")\n",
    "\n",
    "#Learning to drive in ireland is depressional\n",
    "submission_id = \"t1am4z\"  # Gönderinin ID'si\n",
    "submission = reddit.submission(id=submission_id)\n",
    "\n",
    "comments_list2 = []  # Initialize an empty list to store comments\n",
    "\n",
    "# Resolve \"MoreComments\" placeholders and retrieve all comments from the submission\n",
    "submission.comments.replace_more(limit=0)  \n",
    "for comment in submission.comments.list(): # Iterate through the comments of the submission\n",
    "    comments_list2.append(comment.body)    # Append the content of each comment to the list\n",
    "    #print(comments_list_2)\n",
    "\n",
    "# Create a DataFrame from the comments list\n",
    "comments_df2 = pd.DataFrame(comments_list2, columns=[\"comment\"])\n",
    "comments_df2"
   ]
  },
  {
   "cell_type": "code",
   "execution_count": 93,
   "id": "3d3c447b",
   "metadata": {},
   "outputs": [],
   "source": [
    "#comments_df2.to_csv(\"depressional.csv\", index=False)\n",
    "# with open(\"t1am4z.txt\", \"w\", encoding=\"utf-8\") as file:\n",
    "#     for comment in comments_list:\n",
    "#         file.write(\"%s\\n\\n\" % comment)"
   ]
  },
  {
   "cell_type": "code",
   "execution_count": 94,
   "id": "dc351d5c",
   "metadata": {},
   "outputs": [],
   "source": [
    "import praw\n",
    "\n",
    "reddit = praw.Reddit(\n",
    "    client_id=\"bIYyUx9pkrIdPG1hfbZjAQ\",             # My Reddit application's client ID\n",
    "    client_secret=\"xJXIPO2MLhkciCEIkqnlzYDCXq6JtA\", # My Reddit application's client secret\n",
    "    user_agent=\"Current_Driving_Licences\"           # My Reddit application's user agent \n",
    ")\n",
    "\n",
    "#By what age do most people hope to get their drivers license?\n",
    "submission_id = 't6055k'  # The submission's ID on Reddit\n",
    "submission = reddit.submission(id=submission_id)\n",
    "\n",
    "comments_list = []  # Initialize an empty list to store comments\n",
    "\n",
    "# Resolve \"MoreComments\" placeholders and retrieve all comments from the submission\n",
    "submission.comments.replace_more(limit=0)  \n",
    "for comment in submission.comments.list(): # Iterate through the comments of the submission\n",
    "    comments_list.append(comment.body)     # Append the content of each comment to the list\n",
    "    #print(comments_list)"
   ]
  },
  {
   "cell_type": "code",
   "execution_count": 95,
   "id": "fb15d3ca",
   "metadata": {
    "scrolled": true
   },
   "outputs": [
    {
     "data": {
      "text/html": [
       "<div>\n",
       "<style scoped>\n",
       "    .dataframe tbody tr th:only-of-type {\n",
       "        vertical-align: middle;\n",
       "    }\n",
       "\n",
       "    .dataframe tbody tr th {\n",
       "        vertical-align: top;\n",
       "    }\n",
       "\n",
       "    .dataframe thead th {\n",
       "        text-align: right;\n",
       "    }\n",
       "</style>\n",
       "<table border=\"1\" class=\"dataframe\">\n",
       "  <thead>\n",
       "    <tr style=\"text-align: right;\">\n",
       "      <th></th>\n",
       "      <th>comment</th>\n",
       "    </tr>\n",
       "  </thead>\n",
       "  <tbody>\n",
       "    <tr>\n",
       "      <th>0</th>\n",
       "      <td>[deleted]</td>\n",
       "    </tr>\n",
       "    <tr>\n",
       "      <th>1</th>\n",
       "      <td>Learning to drive is expensive in Ireland and ...</td>\n",
       "    </tr>\n",
       "    <tr>\n",
       "      <th>2</th>\n",
       "      <td>I am 29 and am in the middle of my lessons now...</td>\n",
       "    </tr>\n",
       "    <tr>\n",
       "      <th>3</th>\n",
       "      <td>[deleted]</td>\n",
       "    </tr>\n",
       "    <tr>\n",
       "      <th>4</th>\n",
       "      <td>Whenever is convenient and they can afford to....</td>\n",
       "    </tr>\n",
       "  </tbody>\n",
       "</table>\n",
       "</div>"
      ],
      "text/plain": [
       "                                             comment\n",
       "0                                          [deleted]\n",
       "1  Learning to drive is expensive in Ireland and ...\n",
       "2  I am 29 and am in the middle of my lessons now...\n",
       "3                                          [deleted]\n",
       "4  Whenever is convenient and they can afford to...."
      ]
     },
     "execution_count": 95,
     "metadata": {},
     "output_type": "execute_result"
    }
   ],
   "source": [
    "# Create a DataFrame from the comments list\n",
    "comments_df = pd.DataFrame(comments_list, columns=[\"comment\"])\n",
    "#comments_df.to_csv(\"what_age.csv\", index=False)\n",
    "comments_df.head()"
   ]
  },
  {
   "cell_type": "markdown",
   "id": "a50caf14",
   "metadata": {},
   "source": [
    "In the DataFrame, I then converted all text within the 'comment' column to lowercase to ensure uniformity across the dataset. This standardization is critical as it helps in treating the same words consistently, irrespective of their case in the original text.\n",
    "\n",
    "Following that, I removed any special characters and extra spaces from the comments. Cleaning the text data in this manner is beneficial for the analysis as it reduces complexity and eliminates potential noise that could skew the sentiment analysis results.\n",
    "\n",
    "Finally, I saved the cleaned data into a new DataFrame named cleared_comments_df. This practice of assigning the processed data to a new variable helps in preserving the original data, which can be useful for any subsequent operations that may require the data in its initial form."
   ]
  },
  {
   "cell_type": "markdown",
   "id": "5e54162a",
   "metadata": {},
   "source": [
    "### Cleaning DataFrame"
   ]
  },
  {
   "cell_type": "code",
   "execution_count": 96,
   "id": "25da2e59",
   "metadata": {},
   "outputs": [
    {
     "data": {
      "text/html": [
       "<div>\n",
       "<style scoped>\n",
       "    .dataframe tbody tr th:only-of-type {\n",
       "        vertical-align: middle;\n",
       "    }\n",
       "\n",
       "    .dataframe tbody tr th {\n",
       "        vertical-align: top;\n",
       "    }\n",
       "\n",
       "    .dataframe thead th {\n",
       "        text-align: right;\n",
       "    }\n",
       "</style>\n",
       "<table border=\"1\" class=\"dataframe\">\n",
       "  <thead>\n",
       "    <tr style=\"text-align: right;\">\n",
       "      <th></th>\n",
       "      <th>comment</th>\n",
       "    </tr>\n",
       "  </thead>\n",
       "  <tbody>\n",
       "    <tr>\n",
       "      <th>0</th>\n",
       "      <td>learning to drive is expensive in ireland and ...</td>\n",
       "    </tr>\n",
       "    <tr>\n",
       "      <th>1</th>\n",
       "      <td>i am 29 and am in the middle of my lessons now...</td>\n",
       "    </tr>\n",
       "    <tr>\n",
       "      <th>2</th>\n",
       "      <td>whenever is convenient and they can afford to ...</td>\n",
       "    </tr>\n",
       "    <tr>\n",
       "      <th>3</th>\n",
       "      <td>im nearly 34 started the process when i was 28...</td>\n",
       "    </tr>\n",
       "    <tr>\n",
       "      <th>4</th>\n",
       "      <td>im 29 and still cant afford lessons as im a pr...</td>\n",
       "    </tr>\n",
       "  </tbody>\n",
       "</table>\n",
       "</div>"
      ],
      "text/plain": [
       "                                             comment\n",
       "0  learning to drive is expensive in ireland and ...\n",
       "1  i am 29 and am in the middle of my lessons now...\n",
       "2  whenever is convenient and they can afford to ...\n",
       "3  im nearly 34 started the process when i was 28...\n",
       "4  im 29 and still cant afford lessons as im a pr..."
      ]
     },
     "execution_count": 96,
     "metadata": {},
     "output_type": "execute_result"
    }
   ],
   "source": [
    "# Copy the comment DataFrame into a new DataFrame for cleanning\n",
    "cleared_comments_df = comments_df.copy()\n",
    "\n",
    "# Filtering out the comments that contain the word \"deleted\"\n",
    "cleared_comments_df = cleared_comments_df[cleared_comments_df[\"comment\"] != \"[deleted]\"]\n",
    "# Resetting the index of the DataFrame to account for the removed rows and to ensure that the index is continuous.\n",
    "cleared_comments_df.reset_index(drop=True, inplace=True)\n",
    "\n",
    "# Correcting the conversion of text to lowercase by rechecking\n",
    "cleared_comments_df[\"comment\"] = cleared_comments_df[\"comment\"].str.lower()\n",
    "\n",
    "# Cleaning special characters and excess spaces again\n",
    "cleared_comments_df[\"comment\"] = cleared_comments_df[\"comment\"].str.replace(r\"[^\\w\\s]\", \"\", regex=True)\n",
    "cleared_comments_df[\"comment\"] = cleared_comments_df[\"comment\"].str.replace(r\"\\s+\", \" \", regex=True)\n",
    "\n",
    "\n",
    "# Checking the first five rows after Correcting\n",
    "cleared_comments_df.head()"
   ]
  },
  {
   "cell_type": "markdown",
   "id": "620a1b78",
   "metadata": {},
   "source": [
    "With TextBlob, we can assess the polarity of sentiments, which gives us a numerical score indicating the emotional tone of the text.\n",
    "\n",
    "I then defined a function named analyze_sentiment that applies TextBlob's sentiment analysis to any given text. This function returns a sentiment polarity score ranging from -1.0 to 1.0, where -1.0 indicates a strongly negative sentiment, 0 indicates neutrality, and 1.0 indicates a strongly positive sentiment.\n",
    "\n",
    "Applying this function to each comment in the cleared_comments_df DataFrame, I calculated the sentiment scores and stored them in a new column called sentiment_score. This process effectively quantifies the sentiment of each comment, which is critical for understanding the overall sentiment distribution within the data."
   ]
  },
  {
   "cell_type": "code",
   "execution_count": 97,
   "id": "9a357445",
   "metadata": {},
   "outputs": [
    {
     "data": {
      "text/plain": [
       "(count    39.000000\n",
       " mean      0.051046\n",
       " std       0.239270\n",
       " min      -0.625000\n",
       " 25%      -0.009097\n",
       " 50%       0.050000\n",
       " 75%       0.211688\n",
       " max       0.533333\n",
       " Name: sentiment_score, dtype: float64,)"
      ]
     },
     "execution_count": 97,
     "metadata": {},
     "output_type": "execute_result"
    }
   ],
   "source": [
    "from textblob import TextBlob\n",
    "\n",
    "def analyze_sentiment(text):# Function to analyze the sentiment of a given text\n",
    "    return TextBlob(text).sentiment.polarity \n",
    "\n",
    "\n",
    "# Applying sentiment analysis to get updated sentiment scores\n",
    "cleared_comments_df[\"sentiment_score\"] = cleared_comments_df[\"comment\"].apply(analyze_sentiment)\n",
    "\n",
    "# Get descriptive statistics of the updated sentiment scores\n",
    "sentiment_statistics_updated = cleared_comments_df[\"sentiment_score\"].describe()\n",
    "sentiment_statistics_updated, "
   ]
  },
  {
   "cell_type": "markdown",
   "id": "9caf5ade",
   "metadata": {},
   "source": [
    "- Count: 39 entries, which means sentiment scores have been calculated for 41 comments.\n",
    "- Mean: Approximately 0.051, suggesting a slightly positive average sentiment across all comments.\n",
    "- Standard Deviation: Approximately 0.239, indicating variability in the sentiment scores.\n",
    "- Minimum: -0.625, showing that there is at least one comment with a strongly negative sentiment.\n",
    "- 25%: The first quartile sentiment score is approximately -0.009, which means that 25% of the comments have this score or lower.\n",
    "- 50% (Median): The median sentiment score is 0.050, suggesting a fairly neutral overall sentiment.\n",
    "- 75%: The third quartile sentiment score is about 0.212, indicating that 75% of the comments have this score or lower.\n",
    "- Maximum: The most positive sentiment score in the dataset is 0.533."
   ]
  },
  {
   "cell_type": "code",
   "execution_count": 98,
   "id": "ab55440b",
   "metadata": {},
   "outputs": [
    {
     "data": {
      "text/html": [
       "<div>\n",
       "<style scoped>\n",
       "    .dataframe tbody tr th:only-of-type {\n",
       "        vertical-align: middle;\n",
       "    }\n",
       "\n",
       "    .dataframe tbody tr th {\n",
       "        vertical-align: top;\n",
       "    }\n",
       "\n",
       "    .dataframe thead th {\n",
       "        text-align: right;\n",
       "    }\n",
       "</style>\n",
       "<table border=\"1\" class=\"dataframe\">\n",
       "  <thead>\n",
       "    <tr style=\"text-align: right;\">\n",
       "      <th></th>\n",
       "      <th>comment</th>\n",
       "      <th>sentiment_score</th>\n",
       "      <th>sentiment_category</th>\n",
       "      <th>y</th>\n",
       "    </tr>\n",
       "  </thead>\n",
       "  <tbody>\n",
       "    <tr>\n",
       "      <th>0</th>\n",
       "      <td>learning to drive is expensive in ireland and ...</td>\n",
       "      <td>-0.166667</td>\n",
       "      <td>negative</td>\n",
       "      <td>0</td>\n",
       "    </tr>\n",
       "    <tr>\n",
       "      <th>1</th>\n",
       "      <td>i am 29 and am in the middle of my lessons now...</td>\n",
       "      <td>0.233333</td>\n",
       "      <td>positive</td>\n",
       "      <td>2</td>\n",
       "    </tr>\n",
       "    <tr>\n",
       "      <th>2</th>\n",
       "      <td>whenever is convenient and they can afford to ...</td>\n",
       "      <td>0.316667</td>\n",
       "      <td>positive</td>\n",
       "      <td>2</td>\n",
       "    </tr>\n",
       "    <tr>\n",
       "      <th>3</th>\n",
       "      <td>im nearly 34 started the process when i was 28...</td>\n",
       "      <td>-0.081818</td>\n",
       "      <td>negative</td>\n",
       "      <td>0</td>\n",
       "    </tr>\n",
       "    <tr>\n",
       "      <th>4</th>\n",
       "      <td>im 29 and still cant afford lessons as im a pr...</td>\n",
       "      <td>-0.333333</td>\n",
       "      <td>negative</td>\n",
       "      <td>0</td>\n",
       "    </tr>\n",
       "  </tbody>\n",
       "</table>\n",
       "</div>"
      ],
      "text/plain": [
       "                                             comment  sentiment_score  \\\n",
       "0  learning to drive is expensive in ireland and ...        -0.166667   \n",
       "1  i am 29 and am in the middle of my lessons now...         0.233333   \n",
       "2  whenever is convenient and they can afford to ...         0.316667   \n",
       "3  im nearly 34 started the process when i was 28...        -0.081818   \n",
       "4  im 29 and still cant afford lessons as im a pr...        -0.333333   \n",
       "\n",
       "  sentiment_category  y  \n",
       "0           negative  0  \n",
       "1           positive  2  \n",
       "2           positive  2  \n",
       "3           negative  0  \n",
       "4           negative  0  "
      ]
     },
     "execution_count": 98,
     "metadata": {},
     "output_type": "execute_result"
    }
   ],
   "source": [
    "# Defining the sentiment categories based on sentiment scores\n",
    "def categorize_sentiment(score):\n",
    "    if score < 0:\n",
    "        return \"negative\"\n",
    "    elif score == 0:\n",
    "        return \"neutral\"\n",
    "    else:\n",
    "        return \"positive\"\n",
    "\n",
    "# Applying the categorization function to the sentiment scores\n",
    "cleared_comments_df[\"sentiment_category\"] = cleared_comments_df[\"sentiment_score\"].apply(categorize_sentiment)\n",
    "\n",
    "# Mapping the sentiment categories to numerical indices as per 'sentiment_ordering'\n",
    "sentiment_ordering = [\"negative\", \"neutral\", \"positive\"]\n",
    "cleared_comments_df[\"y\"] = cleared_comments_df[\"sentiment_category\"].apply(lambda x: sentiment_ordering.index(x))\n",
    "\n",
    "cleared_comments_df.head(5)\n"
   ]
  },
  {
   "cell_type": "code",
   "execution_count": 100,
   "id": "11ed25c7",
   "metadata": {},
   "outputs": [
    {
     "data": {
      "image/png": "[encoded data removed]",
      "text/plain": [
       "<Figure size 1000x600 with 1 Axes>"
      ]
     },
     "metadata": {},
     "output_type": "display_data"
    }
   ],
   "source": [
    "# Creating a histogram to visualize the distribution of the updated sentiment scores\n",
    "plt.figure(figsize=(10, 6))\n",
    "plt.hist(cleared_comments_df[\"sentiment_score\"], bins=20, edgecolor=\"black\")\n",
    "plt.title(\"Updated Distribution of Sentiment Scores\")\n",
    "plt.xlabel(\"Sentiment Score\")\n",
    "plt.ylabel(\"Number of Comments\")\n",
    "\n",
    "# Draw a vertical line at the mean sentiment score\n",
    "plt.axvline(cleared_comments_df[\"sentiment_score\"].mean(), color=\"red\", linestyle=\"dashed\", linewidth=1)\n",
    "\n",
    "# Annotate the mean value on the plot\n",
    "plt.text(cleared_comments_df[\"sentiment_score\"].mean(), 5,\n",
    "         f\"Mean: {cleared_comments_df['sentiment_score'].mean():.2f}\", color=\"red\")\n",
    "plt.grid(True)\n",
    "plt.show()"
   ]
  },
  {
   "cell_type": "markdown",
   "id": "fdd9aaa2",
   "metadata": {},
   "source": [
    "The histogram shows the sentiment scores of comments, with the majority centered around a slightly positive mean of 0.05, indicating a general lean towards positive sentiment. Despite this, there's a noticeable presence of negative sentiment in the data, suggesting a mix of opinions. The distribution of scores implies that while positive sentiments are more common, negative sentiments, where present, tend to be strongly expressed, thus affecting the overall average sentiment score.\n",
    "\n",
    "\n",
    "\n",
    "\n",
    "\n"
   ]
  },
  {
   "cell_type": "code",
   "execution_count": 101,
   "id": "26bccaef",
   "metadata": {},
   "outputs": [
    {
     "data": {
      "image/png": "[encoded data removed]",
      "text/plain": [
       "<Figure size 800x600 with 1 Axes>"
      ]
     },
     "metadata": {},
     "output_type": "display_data"
    }
   ],
   "source": [
    "# Creating a bar chart to visualize the count of each sentiment category (\"negative\", \"neutral\", \"positive\")\n",
    "sentiment_counts = cleared_comments_df[\"sentiment_category\"].value_counts()\n",
    "sentiment_counts = sentiment_counts.reindex([\"negative\", \"neutral\", \"positive\"])\n",
    "\n",
    "# Creating the bar chart\n",
    "plt.figure(figsize=(8, 6))\n",
    "sentiment_counts.plot(kind=\"bar\", color=[\"red\", \"grey\", \"green\"])\n",
    "plt.title(\"Count of Sentiment Categories\")\n",
    "plt.xlabel(\"Sentiment Category\")\n",
    "plt.ylabel(\"Count\")\n",
    "plt.xticks(rotation=0)  # Rotating the x labels so they show up as horizontal\n",
    "plt.show()"
   ]
  },
  {
   "cell_type": "markdown",
   "id": "1c56eb51",
   "metadata": {},
   "source": [
    "The bar chart above illustrates the distribution of sentiments—negative, neutral, and positive—across the comments in the dataset. The sentiments have been categorized based on their calculated sentiment scores. Each category is represented by a distinct color: red for negative, gray for neutral, and green for positive sentiments.\n",
    "\n",
    "From the chart, it's evident that the majority of comments fall into the 'positive' category, indicated by the green bar, which suggests that a significant portion of the comments have a positive sentiment. This prevalence of positive sentiment could imply general satisfaction or favorable opinions within the context of the comments.\n",
    "\n",
    "On the other hand, the red bar representing 'negative' sentiments is noticeably shorter than the green bar, indicating a smaller proportion of comments with negative sentiments. This suggests fewer instances of dissatisfaction or adverse opinions.\n",
    "\n",
    "Finally, the 'neutral' category, represented by the gray bar, has the fewest comments. This minimal presence of neutral sentiments could indicate that most comments tend to have a definitive sentiment, either positive or negative, rather than being neutral or indifferent.\n",
    "\n",
    "Overall, the chart offers a clear visual summary of the sentiment tendencies in the dataset, highlighting a predominant lean towards positive sentiments, with fewer comments exhibiting negative or neutral emotions."
   ]
  },
  {
   "cell_type": "code",
   "execution_count": 103,
   "id": "3506a7e0",
   "metadata": {},
   "outputs": [
    {
     "data": {
      "image/png": "[encoded data removed]",
      "text/plain": [
       "<Figure size 1400x700 with 1 Axes>"
      ]
     },
     "metadata": {},
     "output_type": "display_data"
    }
   ],
   "source": [
    "from matplotlib import ticker\n",
    "\n",
    "# Creating a line plot for sentiment scores across comments\n",
    "plt.figure(figsize=(14, 7))\n",
    "plt.plot(cleared_comments_df.index, cleared_comments_df[\"sentiment_score\"], marker=\"o\", linestyle=\"-\", color=\"blue\")\n",
    "# Set y-axis tick frequency using MultipleLocator.\n",
    "plt.gca().yaxis.set_major_locator(ticker.MultipleLocator(0.10))  # This sets the interval of ticks to 0.10\n",
    "plt.title(\"Sentiment Score of Each Comment\")\n",
    "plt.xlabel(\"Comment Index\")\n",
    "plt.ylabel(\"Sentiment Score\")\n",
    "plt.grid(True)\n",
    "plt.show()"
   ]
  },
  {
   "cell_type": "markdown",
   "id": "01f2da4f",
   "metadata": {},
   "source": [
    "The line plot presents a clear depiction of the sentiment trajectory across a sequence of comments. Each point on the graph corresponds to a single comment's sentiment score, with the x-axis indicating the comment's position in the sequence and the y-axis representing the sentiment score derived from textual analysis. Notably, the plot shows a dynamic range of sentiment scores, from deeply negative (dipping as low as -0.6) to positively optimistic peaks (reaching up to 0.5). The sentiment scores exhibit considerable variation, suggesting that individual comments contain a diverse array of emotional expressions.\n",
    "\n"
   ]
  },
  {
   "cell_type": "code",
   "execution_count": 104,
   "id": "8c77741b",
   "metadata": {},
   "outputs": [
    {
     "name": "stdout",
     "output_type": "stream",
     "text": [
      "sentiment_score: -0.625\n",
      "Comment: my nephew is 5 and is mad to get a license and go driving \n"
     ]
    }
   ],
   "source": [
    "# Printing the minimum sentiment score\n",
    "min_sentiment_score = cleared_comments_df[\"sentiment_score\"].min()\n",
    "print(f\"sentiment_score: {min_sentiment_score:.3f}\")\n",
    "\n",
    "# Printing the comment for the first comment with the minimum sentiment score\n",
    "print(f\"Comment: {cleared_comments_df[cleared_comments_df['sentiment_score'] == min_sentiment_score]['comment'].iloc[0]}\")"
   ]
  },
  {
   "cell_type": "markdown",
   "id": "52ea695d",
   "metadata": {},
   "source": [
    "The sentiment analysis model assigned a negative score to the comment likely due to a lack of contextual understanding. In the phrase \"mad to get a license,\" the word \"mad\" is colloquially used to mean eager or enthusiastic, which is positive. However, sentiment analysis tools like TextBlob might interpret \"mad\" as angry or insane, which are typically associated with negative sentiments. Without the ability to comprehend the full context in which words are used, the model can misinterpret the intended meaning and sentiment of the text. This limitation is particularly evident in models that rely on individual word sentiment without a robust understanding of phrase-level context or linguistic nuances."
   ]
  },
  {
   "cell_type": "code",
   "execution_count": 105,
   "id": "705066dc",
   "metadata": {},
   "outputs": [
    {
     "name": "stdout",
     "output_type": "stream",
     "text": [
      "sentiment_score: 0.533\n",
      "Comment: yeah its not a well thought out system more about generating revenue than creating safe drivers it seems to be honest\n"
     ]
    }
   ],
   "source": [
    "# Printing the maximum sentiment score\n",
    "min_sentiment_score = cleared_comments_df[\"sentiment_score\"].max()\n",
    "print(f\"sentiment_score: {min_sentiment_score:.3f}\")\n",
    "\n",
    "# Printing the comment for the first comment with the maximum sentiment score\n",
    "print(f\"Comment: {cleared_comments_df[cleared_comments_df['sentiment_score'] == min_sentiment_score]['comment'].iloc[0]}\")"
   ]
  },
  {
   "cell_type": "markdown",
   "id": "8412de33",
   "metadata": {},
   "source": [
    "The sentiment analysis model assigned a score of 0.53 to the comment, interpreting it as positive. This is likely due to the presence of words such as \"well,\" \"safe,\" and \"honest,\" which are typically associated with positive sentiments. However, the actual context of the comment is critical. It criticizes the system, implying it is more focused on generating revenue than on ensuring the safety of drivers.\n"
   ]
  },
  {
   "cell_type": "code",
   "execution_count": null,
   "id": "369f5a51",
   "metadata": {},
   "outputs": [],
   "source": []
  },
  {
   "cell_type": "code",
   "execution_count": null,
   "id": "2e220956",
   "metadata": {},
   "outputs": [],
   "source": []
  },
  {
   "cell_type": "code",
   "execution_count": null,
   "id": "ea36355a",
   "metadata": {},
   "outputs": [],
   "source": []
  },
  {
   "cell_type": "code",
   "execution_count": null,
   "id": "51223953",
   "metadata": {},
   "outputs": [],
   "source": []
  }
 ],
 "metadata": {
  "kernelspec": {
   "display_name": "Python 3 (ipykernel)",
   "language": "python",
   "name": "python3"
  },
  "language_info": {
   "codemirror_mode": {
    "name": "ipython",
    "version": 3
   },
   "file_extension": ".py",
   "mimetype": "text/x-python",
   "name": "python",
   "nbconvert_exporter": "python",
   "pygments_lexer": "ipython3",
   "version": "3.11.5"
  }
 },
 "nbformat": 4,
 "nbformat_minor": 5
}
